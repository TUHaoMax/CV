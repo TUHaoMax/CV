{
 "cells": [
  {
   "cell_type": "markdown",
   "metadata": {
    "papermill": {
     "duration": 0.02521,
     "end_time": "2022-01-19T02:01:09.479288",
     "exception": false,
     "start_time": "2022-01-19T02:01:09.454078",
     "status": "completed"
    },
    "tags": []
   },
   "source": [
    "<h1><center>OSIC Pulmonary Fibrosis Progression</center></h1>"
   ]
  },
  {
   "cell_type": "markdown",
   "metadata": {},
   "source": [
    "### 1.Introduction\n",
    "Pulmonary fibrosis or scarring in the lungs is a family of more than 200 different lung diseases that are very similar. Over time, the scar tissue blocks the movement of oxygen from inside the tiny air sacs in the lungs into the bloodstream. There are five main categories of identifiable causes of pulmonary fibrosis: \n",
    "* drug-induced\n",
    "* radiation-induced\n",
    "* environmental\n",
    "* autoimmune\n",
    "* occupational\n",
    "\n",
    "With all this, it can still be very challenging for doctors to determine the exact cause of a pulmonary fibrosis case. A pulmonary fibrosis case of unknown cause is called \"idiopathic\". With no known cure, current methods make fibrotic lung diseases difficult to treat even with access to a chest CT scan. On top of the disease having no cure, the prognosis of outcomes range from long-term stability to rapid deterioration, with doctors having no accurate way to determine where exactly a patient falls on that spectrum.<br>\n",
    "### 2.Problem statement\n",
    "With the use of neural networks this notebook aims to predict a patient's severity of decline in lung function based on a CT scan of their lungs, and several other data which we will describe later. Lung function is being measured with the help of a spirometer, which measures the volume of air inhaled and exhaled. This value is called a FVC, which stands for Forced Vital Capacity.<br>\n",
    "### 3.Data\n",
    "* train.csv - the training set, contains full history of clinical information\n",
    "* test.csv - the test set, contains only the baseline measurement\n",
    "* train/ - contains the training patients' baseline CT scan in DICOM format\n",
    "* test/ - contains the test patients' baseline CT scan in DICOM format\n",
    "* sample_submission.csv - demonstrates the submission format"
   ]
  },
  {
   "cell_type": "code",
   "execution_count": 1,
   "metadata": {},
   "outputs": [],
   "source": [
    "import pandas as pd\n",
    "import numpy as np\n",
    "import matplotlib.pyplot as plt\n",
    "%matplotlib inline\n",
    "\n",
    "import plotly.express as px\n",
    "import plotly.graph_objs as go"
   ]
  },
  {
   "cell_type": "code",
   "execution_count": 3,
   "metadata": {},
   "outputs": [],
   "source": [
    "train_df = pd.read_csv('input/osic-pulmonary-fibrosis-progression/train.csv')\n",
    "test_df = pd.read_csv('input/osic-pulmonary-fibrosis-progression/test.csv')"
   ]
  },
  {
   "cell_type": "code",
   "execution_count": 4,
   "metadata": {},
   "outputs": [
    {
     "data": {
      "text/html": [
       "<div>\n",
       "<style scoped>\n",
       "    .dataframe tbody tr th:only-of-type {\n",
       "        vertical-align: middle;\n",
       "    }\n",
       "\n",
       "    .dataframe tbody tr th {\n",
       "        vertical-align: top;\n",
       "    }\n",
       "\n",
       "    .dataframe thead th {\n",
       "        text-align: right;\n",
       "    }\n",
       "</style>\n",
       "<table border=\"1\" class=\"dataframe\">\n",
       "  <thead>\n",
       "    <tr style=\"text-align: right;\">\n",
       "      <th></th>\n",
       "      <th>Patient</th>\n",
       "      <th>Weeks</th>\n",
       "      <th>FVC</th>\n",
       "      <th>Percent</th>\n",
       "      <th>Age</th>\n",
       "      <th>Sex</th>\n",
       "      <th>SmokingStatus</th>\n",
       "    </tr>\n",
       "  </thead>\n",
       "  <tbody>\n",
       "    <tr>\n",
       "      <th>0</th>\n",
       "      <td>ID00007637202177411956430</td>\n",
       "      <td>-4</td>\n",
       "      <td>2315</td>\n",
       "      <td>58.253649</td>\n",
       "      <td>79</td>\n",
       "      <td>Male</td>\n",
       "      <td>Ex-smoker</td>\n",
       "    </tr>\n",
       "    <tr>\n",
       "      <th>1</th>\n",
       "      <td>ID00007637202177411956430</td>\n",
       "      <td>5</td>\n",
       "      <td>2214</td>\n",
       "      <td>55.712129</td>\n",
       "      <td>79</td>\n",
       "      <td>Male</td>\n",
       "      <td>Ex-smoker</td>\n",
       "    </tr>\n",
       "    <tr>\n",
       "      <th>2</th>\n",
       "      <td>ID00007637202177411956430</td>\n",
       "      <td>7</td>\n",
       "      <td>2061</td>\n",
       "      <td>51.862104</td>\n",
       "      <td>79</td>\n",
       "      <td>Male</td>\n",
       "      <td>Ex-smoker</td>\n",
       "    </tr>\n",
       "    <tr>\n",
       "      <th>3</th>\n",
       "      <td>ID00007637202177411956430</td>\n",
       "      <td>9</td>\n",
       "      <td>2144</td>\n",
       "      <td>53.950679</td>\n",
       "      <td>79</td>\n",
       "      <td>Male</td>\n",
       "      <td>Ex-smoker</td>\n",
       "    </tr>\n",
       "    <tr>\n",
       "      <th>4</th>\n",
       "      <td>ID00007637202177411956430</td>\n",
       "      <td>11</td>\n",
       "      <td>2069</td>\n",
       "      <td>52.063412</td>\n",
       "      <td>79</td>\n",
       "      <td>Male</td>\n",
       "      <td>Ex-smoker</td>\n",
       "    </tr>\n",
       "  </tbody>\n",
       "</table>\n",
       "</div>"
      ],
      "text/plain": [
       "                     Patient  Weeks   FVC    Percent  Age   Sex SmokingStatus\n",
       "0  ID00007637202177411956430     -4  2315  58.253649   79  Male     Ex-smoker\n",
       "1  ID00007637202177411956430      5  2214  55.712129   79  Male     Ex-smoker\n",
       "2  ID00007637202177411956430      7  2061  51.862104   79  Male     Ex-smoker\n",
       "3  ID00007637202177411956430      9  2144  53.950679   79  Male     Ex-smoker\n",
       "4  ID00007637202177411956430     11  2069  52.063412   79  Male     Ex-smoker"
      ]
     },
     "execution_count": 4,
     "metadata": {},
     "output_type": "execute_result"
    }
   ],
   "source": [
    "train_df.head()"
   ]
  },
  {
   "cell_type": "code",
   "execution_count": 5,
   "metadata": {},
   "outputs": [
    {
     "data": {
      "text/html": [
       "<div>\n",
       "<style scoped>\n",
       "    .dataframe tbody tr th:only-of-type {\n",
       "        vertical-align: middle;\n",
       "    }\n",
       "\n",
       "    .dataframe tbody tr th {\n",
       "        vertical-align: top;\n",
       "    }\n",
       "\n",
       "    .dataframe thead th {\n",
       "        text-align: right;\n",
       "    }\n",
       "</style>\n",
       "<table border=\"1\" class=\"dataframe\">\n",
       "  <thead>\n",
       "    <tr style=\"text-align: right;\">\n",
       "      <th></th>\n",
       "      <th>Patient</th>\n",
       "      <th>Weeks</th>\n",
       "      <th>FVC</th>\n",
       "      <th>Percent</th>\n",
       "      <th>Age</th>\n",
       "      <th>Sex</th>\n",
       "      <th>SmokingStatus</th>\n",
       "    </tr>\n",
       "  </thead>\n",
       "  <tbody>\n",
       "    <tr>\n",
       "      <th>0</th>\n",
       "      <td>ID00419637202311204720264</td>\n",
       "      <td>6</td>\n",
       "      <td>3020</td>\n",
       "      <td>70.186855</td>\n",
       "      <td>73</td>\n",
       "      <td>Male</td>\n",
       "      <td>Ex-smoker</td>\n",
       "    </tr>\n",
       "    <tr>\n",
       "      <th>1</th>\n",
       "      <td>ID00421637202311550012437</td>\n",
       "      <td>15</td>\n",
       "      <td>2739</td>\n",
       "      <td>82.045291</td>\n",
       "      <td>68</td>\n",
       "      <td>Male</td>\n",
       "      <td>Ex-smoker</td>\n",
       "    </tr>\n",
       "    <tr>\n",
       "      <th>2</th>\n",
       "      <td>ID00422637202311677017371</td>\n",
       "      <td>6</td>\n",
       "      <td>1930</td>\n",
       "      <td>76.672493</td>\n",
       "      <td>73</td>\n",
       "      <td>Male</td>\n",
       "      <td>Ex-smoker</td>\n",
       "    </tr>\n",
       "    <tr>\n",
       "      <th>3</th>\n",
       "      <td>ID00423637202312137826377</td>\n",
       "      <td>17</td>\n",
       "      <td>3294</td>\n",
       "      <td>79.258903</td>\n",
       "      <td>72</td>\n",
       "      <td>Male</td>\n",
       "      <td>Ex-smoker</td>\n",
       "    </tr>\n",
       "    <tr>\n",
       "      <th>4</th>\n",
       "      <td>ID00426637202313170790466</td>\n",
       "      <td>0</td>\n",
       "      <td>2925</td>\n",
       "      <td>71.824968</td>\n",
       "      <td>73</td>\n",
       "      <td>Male</td>\n",
       "      <td>Never smoked</td>\n",
       "    </tr>\n",
       "  </tbody>\n",
       "</table>\n",
       "</div>"
      ],
      "text/plain": [
       "                     Patient  Weeks   FVC    Percent  Age   Sex SmokingStatus\n",
       "0  ID00419637202311204720264      6  3020  70.186855   73  Male     Ex-smoker\n",
       "1  ID00421637202311550012437     15  2739  82.045291   68  Male     Ex-smoker\n",
       "2  ID00422637202311677017371      6  1930  76.672493   73  Male     Ex-smoker\n",
       "3  ID00423637202312137826377     17  3294  79.258903   72  Male     Ex-smoker\n",
       "4  ID00426637202313170790466      0  2925  71.824968   73  Male  Never smoked"
      ]
     },
     "execution_count": 5,
     "metadata": {},
     "output_type": "execute_result"
    }
   ],
   "source": [
    "test_df.head()"
   ]
  },
  {
   "cell_type": "markdown",
   "metadata": {},
   "source": [
    "|Column name|Meaning|\n",
    "|:------------:|:-----------:|\n",
    "|Patient|a unique Id for each patient (also the name of the patient's DICOM folder)|\n",
    "|Weeks|the relative number of weeks pre/post the baseline CT (may be negative)|\n",
    "|FVC|the recorded lung capacity in ml|\n",
    "|Percent|a computed field which approximates the patient's FVC as a percent of the typical FVC for a person of similar characteristics|\n",
    "|Age|age of patient|\n",
    "|Sex|sex of patient|\n",
    "|SmokingStatus|smoking status of patient|"
   ]
  },
  {
   "cell_type": "code",
   "execution_count": 6,
   "metadata": {},
   "outputs": [
    {
     "name": "stdout",
     "output_type": "stream",
     "text": [
      "Shape of Training data:  (1549, 7)\n",
      "Shape of Test data:  (5, 7)\n"
     ]
    }
   ],
   "source": [
    "## Exploring the data\n",
    "print('Shape of Training data: ', train_df.shape)\n",
    "print('Shape of Test data: ', test_df.shape)"
   ]
  },
  {
   "cell_type": "code",
   "execution_count": 7,
   "metadata": {},
   "outputs": [
    {
     "name": "stdout",
     "output_type": "stream",
     "text": [
      "<class 'pandas.core.frame.DataFrame'>\n",
      "RangeIndex: 1549 entries, 0 to 1548\n",
      "Data columns (total 7 columns):\n",
      " #   Column         Non-Null Count  Dtype  \n",
      "---  ------         --------------  -----  \n",
      " 0   Patient        1549 non-null   object \n",
      " 1   Weeks          1549 non-null   int64  \n",
      " 2   FVC            1549 non-null   int64  \n",
      " 3   Percent        1549 non-null   float64\n",
      " 4   Age            1549 non-null   int64  \n",
      " 5   Sex            1549 non-null   object \n",
      " 6   SmokingStatus  1549 non-null   object \n",
      "dtypes: float64(1), int64(3), object(3)\n",
      "memory usage: 84.8+ KB\n"
     ]
    }
   ],
   "source": [
    "train_df.info()"
   ]
  },
  {
   "cell_type": "code",
   "execution_count": 8,
   "metadata": {},
   "outputs": [
    {
     "name": "stdout",
     "output_type": "stream",
     "text": [
      "<class 'pandas.core.frame.DataFrame'>\n",
      "RangeIndex: 5 entries, 0 to 4\n",
      "Data columns (total 7 columns):\n",
      " #   Column         Non-Null Count  Dtype  \n",
      "---  ------         --------------  -----  \n",
      " 0   Patient        5 non-null      object \n",
      " 1   Weeks          5 non-null      int64  \n",
      " 2   FVC            5 non-null      int64  \n",
      " 3   Percent        5 non-null      float64\n",
      " 4   Age            5 non-null      int64  \n",
      " 5   Sex            5 non-null      object \n",
      " 6   SmokingStatus  5 non-null      object \n",
      "dtypes: float64(1), int64(3), object(3)\n",
      "memory usage: 408.0+ bytes\n"
     ]
    }
   ],
   "source": [
    "test_df.info()"
   ]
  },
  {
   "cell_type": "code",
   "execution_count": 9,
   "metadata": {},
   "outputs": [
    {
     "name": "stdout",
     "output_type": "stream",
     "text": [
      "Number of unique ids are 176 \n"
     ]
    }
   ],
   "source": [
    "print(f\"Number of unique ids are {train_df['Patient'].value_counts().shape[0]} \")"
   ]
  },
  {
   "cell_type": "code",
   "execution_count": 10,
   "metadata": {},
   "outputs": [
    {
     "data": {
      "text/html": [
       "<div>\n",
       "<style scoped>\n",
       "    .dataframe tbody tr th:only-of-type {\n",
       "        vertical-align: middle;\n",
       "    }\n",
       "\n",
       "    .dataframe tbody tr th {\n",
       "        vertical-align: top;\n",
       "    }\n",
       "\n",
       "    .dataframe thead th {\n",
       "        text-align: right;\n",
       "    }\n",
       "</style>\n",
       "<table border=\"1\" class=\"dataframe\">\n",
       "  <thead>\n",
       "    <tr style=\"text-align: right;\">\n",
       "      <th></th>\n",
       "      <th>id</th>\n",
       "      <th>Age</th>\n",
       "      <th>Sex</th>\n",
       "      <th>SmokingStatus</th>\n",
       "      <th>freq</th>\n",
       "    </tr>\n",
       "  </thead>\n",
       "  <tbody>\n",
       "    <tr>\n",
       "      <th>0</th>\n",
       "      <td>ID00007637202177411956430</td>\n",
       "      <td>79</td>\n",
       "      <td>Male</td>\n",
       "      <td>Ex-smoker</td>\n",
       "      <td>9</td>\n",
       "    </tr>\n",
       "    <tr>\n",
       "      <th>1</th>\n",
       "      <td>ID00009637202177434476278</td>\n",
       "      <td>69</td>\n",
       "      <td>Male</td>\n",
       "      <td>Ex-smoker</td>\n",
       "      <td>9</td>\n",
       "    </tr>\n",
       "    <tr>\n",
       "      <th>2</th>\n",
       "      <td>ID00010637202177584971671</td>\n",
       "      <td>60</td>\n",
       "      <td>Male</td>\n",
       "      <td>Ex-smoker</td>\n",
       "      <td>9</td>\n",
       "    </tr>\n",
       "    <tr>\n",
       "      <th>3</th>\n",
       "      <td>ID00011637202177653955184</td>\n",
       "      <td>72</td>\n",
       "      <td>Male</td>\n",
       "      <td>Ex-smoker</td>\n",
       "      <td>9</td>\n",
       "    </tr>\n",
       "    <tr>\n",
       "      <th>4</th>\n",
       "      <td>ID00012637202177665765362</td>\n",
       "      <td>65</td>\n",
       "      <td>Male</td>\n",
       "      <td>Never smoked</td>\n",
       "      <td>9</td>\n",
       "    </tr>\n",
       "  </tbody>\n",
       "</table>\n",
       "</div>"
      ],
      "text/plain": [
       "                          id  Age   Sex SmokingStatus  freq\n",
       "0  ID00007637202177411956430   79  Male     Ex-smoker     9\n",
       "1  ID00009637202177434476278   69  Male     Ex-smoker     9\n",
       "2  ID00010637202177584971671   60  Male     Ex-smoker     9\n",
       "3  ID00011637202177653955184   72  Male     Ex-smoker     9\n",
       "4  ID00012637202177665765362   65  Male  Never smoked     9"
      ]
     },
     "execution_count": 10,
     "metadata": {},
     "output_type": "execute_result"
    }
   ],
   "source": [
    "new_df = train_df.groupby([train_df.Patient,train_df.Age,train_df.Sex, train_df.SmokingStatus])['Patient'].count()\n",
    "new_df.index = new_df.index.set_names(['id','Age','Sex','SmokingStatus'])\n",
    "new_df = new_df.reset_index()\n",
    "new_df.rename(columns = {'Patient': 'freq'},inplace = True)\n",
    "new_df.head()"
   ]
  },
  {
   "cell_type": "code",
   "execution_count": 11,
   "metadata": {},
   "outputs": [
    {
     "data": {
      "application/vnd.plotly.v1+json": {
       "config": {
        "plotlyServerURL": "https://plot.ly"
       },
       "data": [
        {
         "alignmentgroup": "True",
         "hovertemplate": "id=%{x}<br>freq=%{marker.color}<extra></extra>",
         "legendgroup": "",
         "marker": {
          "color": [
           9,
           9,
           9,
           9,
           9,
           9,
           8,
           9,
           9,
           9,
           9,
           9,
           9,
           8,
           9,
           9,
           9,
           9,
           6,
           9,
           9,
           7,
           9,
           9,
           9,
           8,
           9,
           9,
           8,
           9,
           9,
           9,
           9,
           9,
           9,
           9,
           8,
           9,
           9,
           10,
           9,
           8,
           10,
           9,
           9,
           8,
           7,
           8,
           9,
           10,
           9,
           9,
           9,
           8,
           9,
           9,
           7,
           9,
           9,
           9,
           9,
           9,
           9,
           9,
           9,
           9,
           9,
           10,
           9,
           9,
           9,
           10,
           9,
           9,
           9,
           9,
           9,
           9,
           9,
           9,
           7,
           9,
           9,
           9,
           9,
           9,
           9,
           9,
           9,
           9,
           9,
           9,
           9,
           9,
           9,
           9,
           9,
           8,
           9,
           10,
           9,
           9,
           8,
           9,
           9,
           9,
           9,
           9,
           8,
           9,
           8,
           8,
           6,
           9,
           9,
           7,
           9,
           9,
           9,
           8,
           8,
           9,
           9,
           8,
           9,
           9,
           9,
           9,
           9,
           9,
           8,
           9,
           9,
           8,
           9,
           9,
           9,
           8,
           9,
           9,
           9,
           9,
           9,
           10,
           7,
           9,
           9,
           8,
           9,
           9,
           8,
           9,
           9,
           9,
           9,
           9,
           9,
           7,
           9,
           10,
           9,
           9,
           8,
           10,
           9,
           9,
           9,
           8,
           9,
           9,
           9,
           9,
           10,
           8,
           9,
           9
          ],
          "coloraxis": "coloraxis",
          "pattern": {
           "shape": ""
          }
         },
         "name": "",
         "offsetgroup": "",
         "orientation": "v",
         "showlegend": false,
         "textposition": "auto",
         "type": "bar",
         "x": [
          "ID00007637202177411956430",
          "ID00009637202177434476278",
          "ID00010637202177584971671",
          "ID00011637202177653955184",
          "ID00012637202177665765362",
          "ID00014637202177757139317",
          "ID00015637202177877247924",
          "ID00019637202178323708467",
          "ID00020637202178344345685",
          "ID00023637202179104603099",
          "ID00025637202179541264076",
          "ID00026637202179561894768",
          "ID00027637202179689871102",
          "ID00030637202181211009029",
          "ID00032637202181710233084",
          "ID00035637202182204917484",
          "ID00038637202182690843176",
          "ID00042637202184406822975",
          "ID00047637202184938901501",
          "ID00048637202185016727717",
          "ID00051637202185848464638",
          "ID00052637202186188008618",
          "ID00060637202187965290703",
          "ID00061637202188184085559",
          "ID00062637202188654068490",
          "ID00067637202189903532242",
          "ID00068637202190879923934",
          "ID00072637202198161894406",
          "ID00073637202198167792918",
          "ID00075637202198610425520",
          "ID00076637202199015035026",
          "ID00077637202199102000916",
          "ID00078637202199415319443",
          "ID00082637202201836229724",
          "ID00086637202203494931510",
          "ID00089637202204675567570",
          "ID00090637202204766623410",
          "ID00093637202205278167493",
          "ID00094637202205333947361",
          "ID00099637202206203080121",
          "ID00102637202206574119190",
          "ID00104637202208063407045",
          "ID00105637202208831864134",
          "ID00108637202209619669361",
          "ID00109637202210454292264",
          "ID00110637202210673668310",
          "ID00111637202210956877205",
          "ID00115637202211874187958",
          "ID00117637202212360228007",
          "ID00119637202215426335765",
          "ID00122637202216437668965",
          "ID00123637202217151272140",
          "ID00124637202217596410344",
          "ID00125637202218590429387",
          "ID00126637202218610655908",
          "ID00127637202219096738943",
          "ID00128637202219474716089",
          "ID00129637202219868188000",
          "ID00130637202220059448013",
          "ID00131637202220424084844",
          "ID00132637202222178761324",
          "ID00133637202223847701934",
          "ID00134637202223873059688",
          "ID00135637202224630271439",
          "ID00136637202224951350618",
          "ID00138637202231603868088",
          "ID00139637202231703564336",
          "ID00140637202231728595149",
          "ID00149637202232704462834",
          "ID00161637202235731948764",
          "ID00165637202237320314458",
          "ID00167637202237397919352",
          "ID00168637202237852027833",
          "ID00169637202238024117706",
          "ID00170637202238079193844",
          "ID00172637202238316925179",
          "ID00173637202238329754031",
          "ID00180637202240177410333",
          "ID00183637202241995351650",
          "ID00184637202242062969203",
          "ID00186637202242472088675",
          "ID00190637202244450116191",
          "ID00192637202245493238298",
          "ID00196637202246668775836",
          "ID00197637202246865691526",
          "ID00199637202248141386743",
          "ID00202637202249376026949",
          "ID00207637202252526380974",
          "ID00210637202257228694086",
          "ID00213637202257692916109",
          "ID00214637202257820847190",
          "ID00216637202257988213445",
          "ID00218637202258156844710",
          "ID00219637202258203123958",
          "ID00221637202258717315571",
          "ID00222637202259066229764",
          "ID00224637202259281193413",
          "ID00225637202259339837603",
          "ID00228637202259965313869",
          "ID00229637202260254240583",
          "ID00232637202260377586117",
          "ID00233637202260580149633",
          "ID00234637202261078001846",
          "ID00235637202261451839085",
          "ID00240637202264138860065",
          "ID00241637202264294508775",
          "ID00242637202264759739921",
          "ID00248637202266698862378",
          "ID00249637202266730854017",
          "ID00251637202267455595113",
          "ID00255637202267923028520",
          "ID00264637202270643353440",
          "ID00267637202270790561585",
          "ID00273637202271319294586",
          "ID00275637202271440119890",
          "ID00276637202271694539978",
          "ID00279637202272164826258",
          "ID00283637202278714365037",
          "ID00285637202278913507108",
          "ID00288637202279148973731",
          "ID00290637202279304677843",
          "ID00291637202279398396106",
          "ID00294637202279614924243",
          "ID00296637202279895784347",
          "ID00298637202280361773446",
          "ID00299637202280383305867",
          "ID00305637202281772703145",
          "ID00307637202282126172865",
          "ID00309637202282195513787",
          "ID00312637202282607344793",
          "ID00317637202283194142136",
          "ID00319637202283897208687",
          "ID00322637202284842245491",
          "ID00323637202285211956970",
          "ID00329637202285906759848",
          "ID00331637202286306023714",
          "ID00335637202286784464927",
          "ID00336637202286801879145",
          "ID00337637202286839091062",
          "ID00339637202287377736231",
          "ID00340637202287399835821",
          "ID00341637202287410878488",
          "ID00342637202287526592911",
          "ID00343637202287577133798",
          "ID00344637202287684217717",
          "ID00351637202289476567312",
          "ID00355637202295106567614",
          "ID00358637202295388077032",
          "ID00360637202295712204040",
          "ID00364637202296074419422",
          "ID00365637202296085035729",
          "ID00367637202296290303449",
          "ID00368637202296470751086",
          "ID00370637202296737666151",
          "ID00371637202296828615743",
          "ID00376637202297677828573",
          "ID00378637202298597306391",
          "ID00381637202299644114027",
          "ID00383637202300493233675",
          "ID00388637202301028491611",
          "ID00392637202302319160044",
          "ID00393637202302431697467",
          "ID00398637202303897337979",
          "ID00400637202305055099402",
          "ID00401637202305320178010",
          "ID00405637202308359492977",
          "ID00407637202308788732304",
          "ID00408637202308839708961",
          "ID00411637202309374271828",
          "ID00414637202310318891556",
          "ID00417637202310901214011",
          "ID00419637202311204720264",
          "ID00421637202311550012437",
          "ID00422637202311677017371",
          "ID00423637202312137826377",
          "ID00426637202313170790466"
         ],
         "xaxis": "x",
         "y": [
          9,
          9,
          9,
          9,
          9,
          9,
          8,
          9,
          9,
          9,
          9,
          9,
          9,
          8,
          9,
          9,
          9,
          9,
          6,
          9,
          9,
          7,
          9,
          9,
          9,
          8,
          9,
          9,
          8,
          9,
          9,
          9,
          9,
          9,
          9,
          9,
          8,
          9,
          9,
          10,
          9,
          8,
          10,
          9,
          9,
          8,
          7,
          8,
          9,
          10,
          9,
          9,
          9,
          8,
          9,
          9,
          7,
          9,
          9,
          9,
          9,
          9,
          9,
          9,
          9,
          9,
          9,
          10,
          9,
          9,
          9,
          10,
          9,
          9,
          9,
          9,
          9,
          9,
          9,
          9,
          7,
          9,
          9,
          9,
          9,
          9,
          9,
          9,
          9,
          9,
          9,
          9,
          9,
          9,
          9,
          9,
          9,
          8,
          9,
          10,
          9,
          9,
          8,
          9,
          9,
          9,
          9,
          9,
          8,
          9,
          8,
          8,
          6,
          9,
          9,
          7,
          9,
          9,
          9,
          8,
          8,
          9,
          9,
          8,
          9,
          9,
          9,
          9,
          9,
          9,
          8,
          9,
          9,
          8,
          9,
          9,
          9,
          8,
          9,
          9,
          9,
          9,
          9,
          10,
          7,
          9,
          9,
          8,
          9,
          9,
          8,
          9,
          9,
          9,
          9,
          9,
          9,
          7,
          9,
          10,
          9,
          9,
          8,
          10,
          9,
          9,
          9,
          8,
          9,
          9,
          9,
          9,
          10,
          8,
          9,
          9
         ],
         "yaxis": "y"
        }
       ],
       "layout": {
        "barmode": "relative",
        "coloraxis": {
         "colorbar": {
          "title": {
           "text": "freq"
          }
         },
         "colorscale": [
          [
           0,
           "#0d0887"
          ],
          [
           0.1111111111111111,
           "#46039f"
          ],
          [
           0.2222222222222222,
           "#7201a8"
          ],
          [
           0.3333333333333333,
           "#9c179e"
          ],
          [
           0.4444444444444444,
           "#bd3786"
          ],
          [
           0.5555555555555556,
           "#d8576b"
          ],
          [
           0.6666666666666666,
           "#ed7953"
          ],
          [
           0.7777777777777778,
           "#fb9f3a"
          ],
          [
           0.8888888888888888,
           "#fdca26"
          ],
          [
           1,
           "#f0f921"
          ]
         ]
        },
        "legend": {
         "tracegroupgap": 0
        },
        "margin": {
         "t": 60
        },
        "template": {
         "data": {
          "bar": [
           {
            "error_x": {
             "color": "#2a3f5f"
            },
            "error_y": {
             "color": "#2a3f5f"
            },
            "marker": {
             "line": {
              "color": "#E5ECF6",
              "width": 0.5
             },
             "pattern": {
              "fillmode": "overlay",
              "size": 10,
              "solidity": 0.2
             }
            },
            "type": "bar"
           }
          ],
          "barpolar": [
           {
            "marker": {
             "line": {
              "color": "#E5ECF6",
              "width": 0.5
             },
             "pattern": {
              "fillmode": "overlay",
              "size": 10,
              "solidity": 0.2
             }
            },
            "type": "barpolar"
           }
          ],
          "carpet": [
           {
            "aaxis": {
             "endlinecolor": "#2a3f5f",
             "gridcolor": "white",
             "linecolor": "white",
             "minorgridcolor": "white",
             "startlinecolor": "#2a3f5f"
            },
            "baxis": {
             "endlinecolor": "#2a3f5f",
             "gridcolor": "white",
             "linecolor": "white",
             "minorgridcolor": "white",
             "startlinecolor": "#2a3f5f"
            },
            "type": "carpet"
           }
          ],
          "choropleth": [
           {
            "colorbar": {
             "outlinewidth": 0,
             "ticks": ""
            },
            "type": "choropleth"
           }
          ],
          "contour": [
           {
            "colorbar": {
             "outlinewidth": 0,
             "ticks": ""
            },
            "colorscale": [
             [
              0,
              "#0d0887"
             ],
             [
              0.1111111111111111,
              "#46039f"
             ],
             [
              0.2222222222222222,
              "#7201a8"
             ],
             [
              0.3333333333333333,
              "#9c179e"
             ],
             [
              0.4444444444444444,
              "#bd3786"
             ],
             [
              0.5555555555555556,
              "#d8576b"
             ],
             [
              0.6666666666666666,
              "#ed7953"
             ],
             [
              0.7777777777777778,
              "#fb9f3a"
             ],
             [
              0.8888888888888888,
              "#fdca26"
             ],
             [
              1,
              "#f0f921"
             ]
            ],
            "type": "contour"
           }
          ],
          "contourcarpet": [
           {
            "colorbar": {
             "outlinewidth": 0,
             "ticks": ""
            },
            "type": "contourcarpet"
           }
          ],
          "heatmap": [
           {
            "colorbar": {
             "outlinewidth": 0,
             "ticks": ""
            },
            "colorscale": [
             [
              0,
              "#0d0887"
             ],
             [
              0.1111111111111111,
              "#46039f"
             ],
             [
              0.2222222222222222,
              "#7201a8"
             ],
             [
              0.3333333333333333,
              "#9c179e"
             ],
             [
              0.4444444444444444,
              "#bd3786"
             ],
             [
              0.5555555555555556,
              "#d8576b"
             ],
             [
              0.6666666666666666,
              "#ed7953"
             ],
             [
              0.7777777777777778,
              "#fb9f3a"
             ],
             [
              0.8888888888888888,
              "#fdca26"
             ],
             [
              1,
              "#f0f921"
             ]
            ],
            "type": "heatmap"
           }
          ],
          "heatmapgl": [
           {
            "colorbar": {
             "outlinewidth": 0,
             "ticks": ""
            },
            "colorscale": [
             [
              0,
              "#0d0887"
             ],
             [
              0.1111111111111111,
              "#46039f"
             ],
             [
              0.2222222222222222,
              "#7201a8"
             ],
             [
              0.3333333333333333,
              "#9c179e"
             ],
             [
              0.4444444444444444,
              "#bd3786"
             ],
             [
              0.5555555555555556,
              "#d8576b"
             ],
             [
              0.6666666666666666,
              "#ed7953"
             ],
             [
              0.7777777777777778,
              "#fb9f3a"
             ],
             [
              0.8888888888888888,
              "#fdca26"
             ],
             [
              1,
              "#f0f921"
             ]
            ],
            "type": "heatmapgl"
           }
          ],
          "histogram": [
           {
            "marker": {
             "pattern": {
              "fillmode": "overlay",
              "size": 10,
              "solidity": 0.2
             }
            },
            "type": "histogram"
           }
          ],
          "histogram2d": [
           {
            "colorbar": {
             "outlinewidth": 0,
             "ticks": ""
            },
            "colorscale": [
             [
              0,
              "#0d0887"
             ],
             [
              0.1111111111111111,
              "#46039f"
             ],
             [
              0.2222222222222222,
              "#7201a8"
             ],
             [
              0.3333333333333333,
              "#9c179e"
             ],
             [
              0.4444444444444444,
              "#bd3786"
             ],
             [
              0.5555555555555556,
              "#d8576b"
             ],
             [
              0.6666666666666666,
              "#ed7953"
             ],
             [
              0.7777777777777778,
              "#fb9f3a"
             ],
             [
              0.8888888888888888,
              "#fdca26"
             ],
             [
              1,
              "#f0f921"
             ]
            ],
            "type": "histogram2d"
           }
          ],
          "histogram2dcontour": [
           {
            "colorbar": {
             "outlinewidth": 0,
             "ticks": ""
            },
            "colorscale": [
             [
              0,
              "#0d0887"
             ],
             [
              0.1111111111111111,
              "#46039f"
             ],
             [
              0.2222222222222222,
              "#7201a8"
             ],
             [
              0.3333333333333333,
              "#9c179e"
             ],
             [
              0.4444444444444444,
              "#bd3786"
             ],
             [
              0.5555555555555556,
              "#d8576b"
             ],
             [
              0.6666666666666666,
              "#ed7953"
             ],
             [
              0.7777777777777778,
              "#fb9f3a"
             ],
             [
              0.8888888888888888,
              "#fdca26"
             ],
             [
              1,
              "#f0f921"
             ]
            ],
            "type": "histogram2dcontour"
           }
          ],
          "mesh3d": [
           {
            "colorbar": {
             "outlinewidth": 0,
             "ticks": ""
            },
            "type": "mesh3d"
           }
          ],
          "parcoords": [
           {
            "line": {
             "colorbar": {
              "outlinewidth": 0,
              "ticks": ""
             }
            },
            "type": "parcoords"
           }
          ],
          "pie": [
           {
            "automargin": true,
            "type": "pie"
           }
          ],
          "scatter": [
           {
            "marker": {
             "colorbar": {
              "outlinewidth": 0,
              "ticks": ""
             }
            },
            "type": "scatter"
           }
          ],
          "scatter3d": [
           {
            "line": {
             "colorbar": {
              "outlinewidth": 0,
              "ticks": ""
             }
            },
            "marker": {
             "colorbar": {
              "outlinewidth": 0,
              "ticks": ""
             }
            },
            "type": "scatter3d"
           }
          ],
          "scattercarpet": [
           {
            "marker": {
             "colorbar": {
              "outlinewidth": 0,
              "ticks": ""
             }
            },
            "type": "scattercarpet"
           }
          ],
          "scattergeo": [
           {
            "marker": {
             "colorbar": {
              "outlinewidth": 0,
              "ticks": ""
             }
            },
            "type": "scattergeo"
           }
          ],
          "scattergl": [
           {
            "marker": {
             "colorbar": {
              "outlinewidth": 0,
              "ticks": ""
             }
            },
            "type": "scattergl"
           }
          ],
          "scattermapbox": [
           {
            "marker": {
             "colorbar": {
              "outlinewidth": 0,
              "ticks": ""
             }
            },
            "type": "scattermapbox"
           }
          ],
          "scatterpolar": [
           {
            "marker": {
             "colorbar": {
              "outlinewidth": 0,
              "ticks": ""
             }
            },
            "type": "scatterpolar"
           }
          ],
          "scatterpolargl": [
           {
            "marker": {
             "colorbar": {
              "outlinewidth": 0,
              "ticks": ""
             }
            },
            "type": "scatterpolargl"
           }
          ],
          "scatterternary": [
           {
            "marker": {
             "colorbar": {
              "outlinewidth": 0,
              "ticks": ""
             }
            },
            "type": "scatterternary"
           }
          ],
          "surface": [
           {
            "colorbar": {
             "outlinewidth": 0,
             "ticks": ""
            },
            "colorscale": [
             [
              0,
              "#0d0887"
             ],
             [
              0.1111111111111111,
              "#46039f"
             ],
             [
              0.2222222222222222,
              "#7201a8"
             ],
             [
              0.3333333333333333,
              "#9c179e"
             ],
             [
              0.4444444444444444,
              "#bd3786"
             ],
             [
              0.5555555555555556,
              "#d8576b"
             ],
             [
              0.6666666666666666,
              "#ed7953"
             ],
             [
              0.7777777777777778,
              "#fb9f3a"
             ],
             [
              0.8888888888888888,
              "#fdca26"
             ],
             [
              1,
              "#f0f921"
             ]
            ],
            "type": "surface"
           }
          ],
          "table": [
           {
            "cells": {
             "fill": {
              "color": "#EBF0F8"
             },
             "line": {
              "color": "white"
             }
            },
            "header": {
             "fill": {
              "color": "#C8D4E3"
             },
             "line": {
              "color": "white"
             }
            },
            "type": "table"
           }
          ]
         },
         "layout": {
          "annotationdefaults": {
           "arrowcolor": "#2a3f5f",
           "arrowhead": 0,
           "arrowwidth": 1
          },
          "autotypenumbers": "strict",
          "coloraxis": {
           "colorbar": {
            "outlinewidth": 0,
            "ticks": ""
           }
          },
          "colorscale": {
           "diverging": [
            [
             0,
             "#8e0152"
            ],
            [
             0.1,
             "#c51b7d"
            ],
            [
             0.2,
             "#de77ae"
            ],
            [
             0.3,
             "#f1b6da"
            ],
            [
             0.4,
             "#fde0ef"
            ],
            [
             0.5,
             "#f7f7f7"
            ],
            [
             0.6,
             "#e6f5d0"
            ],
            [
             0.7,
             "#b8e186"
            ],
            [
             0.8,
             "#7fbc41"
            ],
            [
             0.9,
             "#4d9221"
            ],
            [
             1,
             "#276419"
            ]
           ],
           "sequential": [
            [
             0,
             "#0d0887"
            ],
            [
             0.1111111111111111,
             "#46039f"
            ],
            [
             0.2222222222222222,
             "#7201a8"
            ],
            [
             0.3333333333333333,
             "#9c179e"
            ],
            [
             0.4444444444444444,
             "#bd3786"
            ],
            [
             0.5555555555555556,
             "#d8576b"
            ],
            [
             0.6666666666666666,
             "#ed7953"
            ],
            [
             0.7777777777777778,
             "#fb9f3a"
            ],
            [
             0.8888888888888888,
             "#fdca26"
            ],
            [
             1,
             "#f0f921"
            ]
           ],
           "sequentialminus": [
            [
             0,
             "#0d0887"
            ],
            [
             0.1111111111111111,
             "#46039f"
            ],
            [
             0.2222222222222222,
             "#7201a8"
            ],
            [
             0.3333333333333333,
             "#9c179e"
            ],
            [
             0.4444444444444444,
             "#bd3786"
            ],
            [
             0.5555555555555556,
             "#d8576b"
            ],
            [
             0.6666666666666666,
             "#ed7953"
            ],
            [
             0.7777777777777778,
             "#fb9f3a"
            ],
            [
             0.8888888888888888,
             "#fdca26"
            ],
            [
             1,
             "#f0f921"
            ]
           ]
          },
          "colorway": [
           "#636efa",
           "#EF553B",
           "#00cc96",
           "#ab63fa",
           "#FFA15A",
           "#19d3f3",
           "#FF6692",
           "#B6E880",
           "#FF97FF",
           "#FECB52"
          ],
          "font": {
           "color": "#2a3f5f"
          },
          "geo": {
           "bgcolor": "white",
           "lakecolor": "white",
           "landcolor": "#E5ECF6",
           "showlakes": true,
           "showland": true,
           "subunitcolor": "white"
          },
          "hoverlabel": {
           "align": "left"
          },
          "hovermode": "closest",
          "mapbox": {
           "style": "light"
          },
          "paper_bgcolor": "white",
          "plot_bgcolor": "#E5ECF6",
          "polar": {
           "angularaxis": {
            "gridcolor": "white",
            "linecolor": "white",
            "ticks": ""
           },
           "bgcolor": "#E5ECF6",
           "radialaxis": {
            "gridcolor": "white",
            "linecolor": "white",
            "ticks": ""
           }
          },
          "scene": {
           "xaxis": {
            "backgroundcolor": "#E5ECF6",
            "gridcolor": "white",
            "gridwidth": 2,
            "linecolor": "white",
            "showbackground": true,
            "ticks": "",
            "zerolinecolor": "white"
           },
           "yaxis": {
            "backgroundcolor": "#E5ECF6",
            "gridcolor": "white",
            "gridwidth": 2,
            "linecolor": "white",
            "showbackground": true,
            "ticks": "",
            "zerolinecolor": "white"
           },
           "zaxis": {
            "backgroundcolor": "#E5ECF6",
            "gridcolor": "white",
            "gridwidth": 2,
            "linecolor": "white",
            "showbackground": true,
            "ticks": "",
            "zerolinecolor": "white"
           }
          },
          "shapedefaults": {
           "line": {
            "color": "#2a3f5f"
           }
          },
          "ternary": {
           "aaxis": {
            "gridcolor": "white",
            "linecolor": "white",
            "ticks": ""
           },
           "baxis": {
            "gridcolor": "white",
            "linecolor": "white",
            "ticks": ""
           },
           "bgcolor": "#E5ECF6",
           "caxis": {
            "gridcolor": "white",
            "linecolor": "white",
            "ticks": ""
           }
          },
          "title": {
           "x": 0.05
          },
          "xaxis": {
           "automargin": true,
           "gridcolor": "white",
           "linecolor": "white",
           "ticks": "",
           "title": {
            "standoff": 15
           },
           "zerolinecolor": "white",
           "zerolinewidth": 2
          },
          "yaxis": {
           "automargin": true,
           "gridcolor": "white",
           "linecolor": "white",
           "ticks": "",
           "title": {
            "standoff": 15
           },
           "zerolinecolor": "white",
           "zerolinewidth": 2
          }
         }
        },
        "title": {
         "text": "No. of observations for each patient"
        },
        "xaxis": {
         "anchor": "y",
         "categoryorder": "total ascending",
         "domain": [
          0,
          1
         ],
         "showticklabels": false,
         "title": {
          "text": "id"
         }
        },
        "yaxis": {
         "anchor": "x",
         "domain": [
          0,
          1
         ],
         "title": {
          "text": "freq"
         }
        }
       }
      }
     },
     "metadata": {},
     "output_type": "display_data"
    }
   ],
   "source": [
    "fig = px.bar(new_df, x='id',y ='freq',color='freq')\n",
    "fig.update_layout(xaxis={'categoryorder':'total ascending'},title='No. of observations for each patient')\n",
    "fig.update_xaxes(showticklabels=False)\n",
    "fig.show()"
   ]
  },
  {
   "cell_type": "code",
   "execution_count": 12,
   "metadata": {},
   "outputs": [
    {
     "data": {
      "application/vnd.plotly.v1+json": {
       "config": {
        "plotlyServerURL": "https://plot.ly"
       },
       "data": [
        {
         "alignmentgroup": "True",
         "bingroup": "x",
         "hovertemplate": "Age=%{x}<br>count=%{y}<extra></extra>",
         "legendgroup": "",
         "marker": {
          "color": "rgb(158,202,225)",
          "line": {
           "color": "rgb(8,48,107)",
           "width": 1.5
          },
          "pattern": {
           "shape": ""
          }
         },
         "name": "",
         "nbinsx": 42,
         "offsetgroup": "",
         "opacity": 0.6,
         "orientation": "v",
         "showlegend": false,
         "type": "histogram",
         "x": [
          79,
          69,
          60,
          72,
          65,
          56,
          71,
          83,
          66,
          71,
          65,
          57,
          73,
          69,
          63,
          69,
          71,
          58,
          68,
          70,
          73,
          54,
          63,
          68,
          74,
          64,
          73,
          71,
          69,
          52,
          51,
          70,
          55,
          49,
          65,
          63,
          69,
          69,
          64,
          68,
          60,
          74,
          64,
          73,
          73,
          74,
          72,
          77,
          68,
          57,
          58,
          69,
          60,
          65,
          78,
          55,
          87,
          71,
          65,
          61,
          69,
          83,
          67,
          65,
          64,
          66,
          76,
          58,
          66,
          63,
          54,
          58,
          62,
          66,
          79,
          73,
          73,
          68,
          71,
          52,
          69,
          69,
          56,
          65,
          65,
          62,
          64,
          67,
          76,
          70,
          69,
          65,
          81,
          71,
          76,
          70,
          72,
          77,
          58,
          71,
          74,
          68,
          66,
          67,
          63,
          66,
          64,
          71,
          56,
          88,
          62,
          76,
          70,
          60,
          62,
          77,
          70,
          60,
          61,
          63,
          75,
          72,
          74,
          58,
          67,
          78,
          62,
          65,
          73,
          72,
          64,
          72,
          59,
          77,
          69,
          69,
          74,
          56,
          69,
          64,
          68,
          68,
          72,
          68,
          58,
          78,
          65,
          65,
          79,
          64,
          71,
          57,
          65,
          75,
          71,
          72,
          56,
          62,
          64,
          53,
          66,
          67,
          70,
          55,
          74,
          61,
          66,
          74,
          65,
          65,
          66,
          73,
          68,
          73,
          72,
          73
         ],
         "xaxis": "x",
         "yaxis": "y"
        }
       ],
       "layout": {
        "barmode": "relative",
        "legend": {
         "tracegroupgap": 0
        },
        "margin": {
         "t": 60
        },
        "template": {
         "data": {
          "bar": [
           {
            "error_x": {
             "color": "#2a3f5f"
            },
            "error_y": {
             "color": "#2a3f5f"
            },
            "marker": {
             "line": {
              "color": "#E5ECF6",
              "width": 0.5
             },
             "pattern": {
              "fillmode": "overlay",
              "size": 10,
              "solidity": 0.2
             }
            },
            "type": "bar"
           }
          ],
          "barpolar": [
           {
            "marker": {
             "line": {
              "color": "#E5ECF6",
              "width": 0.5
             },
             "pattern": {
              "fillmode": "overlay",
              "size": 10,
              "solidity": 0.2
             }
            },
            "type": "barpolar"
           }
          ],
          "carpet": [
           {
            "aaxis": {
             "endlinecolor": "#2a3f5f",
             "gridcolor": "white",
             "linecolor": "white",
             "minorgridcolor": "white",
             "startlinecolor": "#2a3f5f"
            },
            "baxis": {
             "endlinecolor": "#2a3f5f",
             "gridcolor": "white",
             "linecolor": "white",
             "minorgridcolor": "white",
             "startlinecolor": "#2a3f5f"
            },
            "type": "carpet"
           }
          ],
          "choropleth": [
           {
            "colorbar": {
             "outlinewidth": 0,
             "ticks": ""
            },
            "type": "choropleth"
           }
          ],
          "contour": [
           {
            "colorbar": {
             "outlinewidth": 0,
             "ticks": ""
            },
            "colorscale": [
             [
              0,
              "#0d0887"
             ],
             [
              0.1111111111111111,
              "#46039f"
             ],
             [
              0.2222222222222222,
              "#7201a8"
             ],
             [
              0.3333333333333333,
              "#9c179e"
             ],
             [
              0.4444444444444444,
              "#bd3786"
             ],
             [
              0.5555555555555556,
              "#d8576b"
             ],
             [
              0.6666666666666666,
              "#ed7953"
             ],
             [
              0.7777777777777778,
              "#fb9f3a"
             ],
             [
              0.8888888888888888,
              "#fdca26"
             ],
             [
              1,
              "#f0f921"
             ]
            ],
            "type": "contour"
           }
          ],
          "contourcarpet": [
           {
            "colorbar": {
             "outlinewidth": 0,
             "ticks": ""
            },
            "type": "contourcarpet"
           }
          ],
          "heatmap": [
           {
            "colorbar": {
             "outlinewidth": 0,
             "ticks": ""
            },
            "colorscale": [
             [
              0,
              "#0d0887"
             ],
             [
              0.1111111111111111,
              "#46039f"
             ],
             [
              0.2222222222222222,
              "#7201a8"
             ],
             [
              0.3333333333333333,
              "#9c179e"
             ],
             [
              0.4444444444444444,
              "#bd3786"
             ],
             [
              0.5555555555555556,
              "#d8576b"
             ],
             [
              0.6666666666666666,
              "#ed7953"
             ],
             [
              0.7777777777777778,
              "#fb9f3a"
             ],
             [
              0.8888888888888888,
              "#fdca26"
             ],
             [
              1,
              "#f0f921"
             ]
            ],
            "type": "heatmap"
           }
          ],
          "heatmapgl": [
           {
            "colorbar": {
             "outlinewidth": 0,
             "ticks": ""
            },
            "colorscale": [
             [
              0,
              "#0d0887"
             ],
             [
              0.1111111111111111,
              "#46039f"
             ],
             [
              0.2222222222222222,
              "#7201a8"
             ],
             [
              0.3333333333333333,
              "#9c179e"
             ],
             [
              0.4444444444444444,
              "#bd3786"
             ],
             [
              0.5555555555555556,
              "#d8576b"
             ],
             [
              0.6666666666666666,
              "#ed7953"
             ],
             [
              0.7777777777777778,
              "#fb9f3a"
             ],
             [
              0.8888888888888888,
              "#fdca26"
             ],
             [
              1,
              "#f0f921"
             ]
            ],
            "type": "heatmapgl"
           }
          ],
          "histogram": [
           {
            "marker": {
             "pattern": {
              "fillmode": "overlay",
              "size": 10,
              "solidity": 0.2
             }
            },
            "type": "histogram"
           }
          ],
          "histogram2d": [
           {
            "colorbar": {
             "outlinewidth": 0,
             "ticks": ""
            },
            "colorscale": [
             [
              0,
              "#0d0887"
             ],
             [
              0.1111111111111111,
              "#46039f"
             ],
             [
              0.2222222222222222,
              "#7201a8"
             ],
             [
              0.3333333333333333,
              "#9c179e"
             ],
             [
              0.4444444444444444,
              "#bd3786"
             ],
             [
              0.5555555555555556,
              "#d8576b"
             ],
             [
              0.6666666666666666,
              "#ed7953"
             ],
             [
              0.7777777777777778,
              "#fb9f3a"
             ],
             [
              0.8888888888888888,
              "#fdca26"
             ],
             [
              1,
              "#f0f921"
             ]
            ],
            "type": "histogram2d"
           }
          ],
          "histogram2dcontour": [
           {
            "colorbar": {
             "outlinewidth": 0,
             "ticks": ""
            },
            "colorscale": [
             [
              0,
              "#0d0887"
             ],
             [
              0.1111111111111111,
              "#46039f"
             ],
             [
              0.2222222222222222,
              "#7201a8"
             ],
             [
              0.3333333333333333,
              "#9c179e"
             ],
             [
              0.4444444444444444,
              "#bd3786"
             ],
             [
              0.5555555555555556,
              "#d8576b"
             ],
             [
              0.6666666666666666,
              "#ed7953"
             ],
             [
              0.7777777777777778,
              "#fb9f3a"
             ],
             [
              0.8888888888888888,
              "#fdca26"
             ],
             [
              1,
              "#f0f921"
             ]
            ],
            "type": "histogram2dcontour"
           }
          ],
          "mesh3d": [
           {
            "colorbar": {
             "outlinewidth": 0,
             "ticks": ""
            },
            "type": "mesh3d"
           }
          ],
          "parcoords": [
           {
            "line": {
             "colorbar": {
              "outlinewidth": 0,
              "ticks": ""
             }
            },
            "type": "parcoords"
           }
          ],
          "pie": [
           {
            "automargin": true,
            "type": "pie"
           }
          ],
          "scatter": [
           {
            "marker": {
             "colorbar": {
              "outlinewidth": 0,
              "ticks": ""
             }
            },
            "type": "scatter"
           }
          ],
          "scatter3d": [
           {
            "line": {
             "colorbar": {
              "outlinewidth": 0,
              "ticks": ""
             }
            },
            "marker": {
             "colorbar": {
              "outlinewidth": 0,
              "ticks": ""
             }
            },
            "type": "scatter3d"
           }
          ],
          "scattercarpet": [
           {
            "marker": {
             "colorbar": {
              "outlinewidth": 0,
              "ticks": ""
             }
            },
            "type": "scattercarpet"
           }
          ],
          "scattergeo": [
           {
            "marker": {
             "colorbar": {
              "outlinewidth": 0,
              "ticks": ""
             }
            },
            "type": "scattergeo"
           }
          ],
          "scattergl": [
           {
            "marker": {
             "colorbar": {
              "outlinewidth": 0,
              "ticks": ""
             }
            },
            "type": "scattergl"
           }
          ],
          "scattermapbox": [
           {
            "marker": {
             "colorbar": {
              "outlinewidth": 0,
              "ticks": ""
             }
            },
            "type": "scattermapbox"
           }
          ],
          "scatterpolar": [
           {
            "marker": {
             "colorbar": {
              "outlinewidth": 0,
              "ticks": ""
             }
            },
            "type": "scatterpolar"
           }
          ],
          "scatterpolargl": [
           {
            "marker": {
             "colorbar": {
              "outlinewidth": 0,
              "ticks": ""
             }
            },
            "type": "scatterpolargl"
           }
          ],
          "scatterternary": [
           {
            "marker": {
             "colorbar": {
              "outlinewidth": 0,
              "ticks": ""
             }
            },
            "type": "scatterternary"
           }
          ],
          "surface": [
           {
            "colorbar": {
             "outlinewidth": 0,
             "ticks": ""
            },
            "colorscale": [
             [
              0,
              "#0d0887"
             ],
             [
              0.1111111111111111,
              "#46039f"
             ],
             [
              0.2222222222222222,
              "#7201a8"
             ],
             [
              0.3333333333333333,
              "#9c179e"
             ],
             [
              0.4444444444444444,
              "#bd3786"
             ],
             [
              0.5555555555555556,
              "#d8576b"
             ],
             [
              0.6666666666666666,
              "#ed7953"
             ],
             [
              0.7777777777777778,
              "#fb9f3a"
             ],
             [
              0.8888888888888888,
              "#fdca26"
             ],
             [
              1,
              "#f0f921"
             ]
            ],
            "type": "surface"
           }
          ],
          "table": [
           {
            "cells": {
             "fill": {
              "color": "#EBF0F8"
             },
             "line": {
              "color": "white"
             }
            },
            "header": {
             "fill": {
              "color": "#C8D4E3"
             },
             "line": {
              "color": "white"
             }
            },
            "type": "table"
           }
          ]
         },
         "layout": {
          "annotationdefaults": {
           "arrowcolor": "#2a3f5f",
           "arrowhead": 0,
           "arrowwidth": 1
          },
          "autotypenumbers": "strict",
          "coloraxis": {
           "colorbar": {
            "outlinewidth": 0,
            "ticks": ""
           }
          },
          "colorscale": {
           "diverging": [
            [
             0,
             "#8e0152"
            ],
            [
             0.1,
             "#c51b7d"
            ],
            [
             0.2,
             "#de77ae"
            ],
            [
             0.3,
             "#f1b6da"
            ],
            [
             0.4,
             "#fde0ef"
            ],
            [
             0.5,
             "#f7f7f7"
            ],
            [
             0.6,
             "#e6f5d0"
            ],
            [
             0.7,
             "#b8e186"
            ],
            [
             0.8,
             "#7fbc41"
            ],
            [
             0.9,
             "#4d9221"
            ],
            [
             1,
             "#276419"
            ]
           ],
           "sequential": [
            [
             0,
             "#0d0887"
            ],
            [
             0.1111111111111111,
             "#46039f"
            ],
            [
             0.2222222222222222,
             "#7201a8"
            ],
            [
             0.3333333333333333,
             "#9c179e"
            ],
            [
             0.4444444444444444,
             "#bd3786"
            ],
            [
             0.5555555555555556,
             "#d8576b"
            ],
            [
             0.6666666666666666,
             "#ed7953"
            ],
            [
             0.7777777777777778,
             "#fb9f3a"
            ],
            [
             0.8888888888888888,
             "#fdca26"
            ],
            [
             1,
             "#f0f921"
            ]
           ],
           "sequentialminus": [
            [
             0,
             "#0d0887"
            ],
            [
             0.1111111111111111,
             "#46039f"
            ],
            [
             0.2222222222222222,
             "#7201a8"
            ],
            [
             0.3333333333333333,
             "#9c179e"
            ],
            [
             0.4444444444444444,
             "#bd3786"
            ],
            [
             0.5555555555555556,
             "#d8576b"
            ],
            [
             0.6666666666666666,
             "#ed7953"
            ],
            [
             0.7777777777777778,
             "#fb9f3a"
            ],
            [
             0.8888888888888888,
             "#fdca26"
            ],
            [
             1,
             "#f0f921"
            ]
           ]
          },
          "colorway": [
           "#636efa",
           "#EF553B",
           "#00cc96",
           "#ab63fa",
           "#FFA15A",
           "#19d3f3",
           "#FF6692",
           "#B6E880",
           "#FF97FF",
           "#FECB52"
          ],
          "font": {
           "color": "#2a3f5f"
          },
          "geo": {
           "bgcolor": "white",
           "lakecolor": "white",
           "landcolor": "#E5ECF6",
           "showlakes": true,
           "showland": true,
           "subunitcolor": "white"
          },
          "hoverlabel": {
           "align": "left"
          },
          "hovermode": "closest",
          "mapbox": {
           "style": "light"
          },
          "paper_bgcolor": "white",
          "plot_bgcolor": "#E5ECF6",
          "polar": {
           "angularaxis": {
            "gridcolor": "white",
            "linecolor": "white",
            "ticks": ""
           },
           "bgcolor": "#E5ECF6",
           "radialaxis": {
            "gridcolor": "white",
            "linecolor": "white",
            "ticks": ""
           }
          },
          "scene": {
           "xaxis": {
            "backgroundcolor": "#E5ECF6",
            "gridcolor": "white",
            "gridwidth": 2,
            "linecolor": "white",
            "showbackground": true,
            "ticks": "",
            "zerolinecolor": "white"
           },
           "yaxis": {
            "backgroundcolor": "#E5ECF6",
            "gridcolor": "white",
            "gridwidth": 2,
            "linecolor": "white",
            "showbackground": true,
            "ticks": "",
            "zerolinecolor": "white"
           },
           "zaxis": {
            "backgroundcolor": "#E5ECF6",
            "gridcolor": "white",
            "gridwidth": 2,
            "linecolor": "white",
            "showbackground": true,
            "ticks": "",
            "zerolinecolor": "white"
           }
          },
          "shapedefaults": {
           "line": {
            "color": "#2a3f5f"
           }
          },
          "ternary": {
           "aaxis": {
            "gridcolor": "white",
            "linecolor": "white",
            "ticks": ""
           },
           "baxis": {
            "gridcolor": "white",
            "linecolor": "white",
            "ticks": ""
           },
           "bgcolor": "#E5ECF6",
           "caxis": {
            "gridcolor": "white",
            "linecolor": "white",
            "ticks": ""
           }
          },
          "title": {
           "x": 0.05
          },
          "xaxis": {
           "automargin": true,
           "gridcolor": "white",
           "linecolor": "white",
           "ticks": "",
           "title": {
            "standoff": 15
           },
           "zerolinecolor": "white",
           "zerolinewidth": 2
          },
          "yaxis": {
           "automargin": true,
           "gridcolor": "white",
           "linecolor": "white",
           "ticks": "",
           "title": {
            "standoff": 15
           },
           "zerolinecolor": "white",
           "zerolinewidth": 2
          }
         }
        },
        "title": {
         "text": "Distribution of Age for unique patients"
        },
        "xaxis": {
         "anchor": "y",
         "domain": [
          0,
          1
         ],
         "title": {
          "text": "Age"
         }
        },
        "yaxis": {
         "anchor": "x",
         "domain": [
          0,
          1
         ],
         "title": {
          "text": "count"
         }
        }
       }
      }
     },
     "metadata": {},
     "output_type": "display_data"
    }
   ],
   "source": [
    "fig = px.histogram(new_df, x='Age',nbins = 42)\n",
    "fig.update_traces(marker_color='rgb(158,202,225)', marker_line_color='rgb(8,48,107)', marker_line_width=1.5, opacity=0.6)\n",
    "fig.update_layout(title = 'Distribution of Age for unique patients')\n",
    "fig.show()"
   ]
  },
  {
   "cell_type": "code",
   "execution_count": 13,
   "metadata": {},
   "outputs": [
    {
     "data": {
      "application/vnd.plotly.v1+json": {
       "config": {
        "plotlyServerURL": "https://plot.ly"
       },
       "data": [
        {
         "alignmentgroup": "True",
         "bingroup": "x",
         "hovertemplate": "Sex=%{x}<br>count=%{y}<extra></extra>",
         "legendgroup": "",
         "marker": {
          "color": "rgb(202,158,225)",
          "line": {
           "color": "rgb(48,8,107)",
           "width": 2
          },
          "pattern": {
           "shape": ""
          }
         },
         "name": "",
         "offsetgroup": "",
         "opacity": 0.8,
         "orientation": "v",
         "showlegend": false,
         "type": "histogram",
         "x": [
          "Male",
          "Male",
          "Male",
          "Male",
          "Male",
          "Male",
          "Male",
          "Female",
          "Female",
          "Female",
          "Male",
          "Male",
          "Male",
          "Male",
          "Male",
          "Male",
          "Male",
          "Male",
          "Male",
          "Female",
          "Female",
          "Male",
          "Male",
          "Male",
          "Male",
          "Male",
          "Male",
          "Male",
          "Male",
          "Female",
          "Male",
          "Male",
          "Female",
          "Female",
          "Female",
          "Male",
          "Male",
          "Male",
          "Male",
          "Male",
          "Male",
          "Male",
          "Male",
          "Male",
          "Male",
          "Male",
          "Male",
          "Male",
          "Male",
          "Male",
          "Male",
          "Female",
          "Male",
          "Male",
          "Male",
          "Female",
          "Female",
          "Male",
          "Female",
          "Male",
          "Male",
          "Male",
          "Male",
          "Male",
          "Male",
          "Male",
          "Male",
          "Male",
          "Female",
          "Male",
          "Male",
          "Male",
          "Male",
          "Female",
          "Female",
          "Male",
          "Male",
          "Male",
          "Male",
          "Male",
          "Male",
          "Male",
          "Female",
          "Male",
          "Male",
          "Male",
          "Male",
          "Male",
          "Male",
          "Male",
          "Male",
          "Male",
          "Male",
          "Male",
          "Female",
          "Male",
          "Male",
          "Female",
          "Female",
          "Male",
          "Female",
          "Male",
          "Male",
          "Male",
          "Male",
          "Female",
          "Male",
          "Female",
          "Male",
          "Male",
          "Female",
          "Female",
          "Female",
          "Male",
          "Female",
          "Male",
          "Male",
          "Male",
          "Female",
          "Female",
          "Male",
          "Male",
          "Male",
          "Male",
          "Female",
          "Male",
          "Male",
          "Male",
          "Male",
          "Female",
          "Male",
          "Male",
          "Male",
          "Male",
          "Male",
          "Male",
          "Male",
          "Male",
          "Male",
          "Male",
          "Male",
          "Female",
          "Male",
          "Female",
          "Male",
          "Male",
          "Male",
          "Male",
          "Male",
          "Male",
          "Male",
          "Female",
          "Male",
          "Male",
          "Male",
          "Male",
          "Male",
          "Male",
          "Female",
          "Male",
          "Male",
          "Male",
          "Male",
          "Male",
          "Female",
          "Female",
          "Male",
          "Male",
          "Male",
          "Male",
          "Male",
          "Male",
          "Male",
          "Male",
          "Male",
          "Male"
         ],
         "xaxis": "x",
         "yaxis": "y"
        }
       ],
       "layout": {
        "barmode": "relative",
        "legend": {
         "tracegroupgap": 0
        },
        "margin": {
         "t": 60
        },
        "template": {
         "data": {
          "bar": [
           {
            "error_x": {
             "color": "#2a3f5f"
            },
            "error_y": {
             "color": "#2a3f5f"
            },
            "marker": {
             "line": {
              "color": "#E5ECF6",
              "width": 0.5
             },
             "pattern": {
              "fillmode": "overlay",
              "size": 10,
              "solidity": 0.2
             }
            },
            "type": "bar"
           }
          ],
          "barpolar": [
           {
            "marker": {
             "line": {
              "color": "#E5ECF6",
              "width": 0.5
             },
             "pattern": {
              "fillmode": "overlay",
              "size": 10,
              "solidity": 0.2
             }
            },
            "type": "barpolar"
           }
          ],
          "carpet": [
           {
            "aaxis": {
             "endlinecolor": "#2a3f5f",
             "gridcolor": "white",
             "linecolor": "white",
             "minorgridcolor": "white",
             "startlinecolor": "#2a3f5f"
            },
            "baxis": {
             "endlinecolor": "#2a3f5f",
             "gridcolor": "white",
             "linecolor": "white",
             "minorgridcolor": "white",
             "startlinecolor": "#2a3f5f"
            },
            "type": "carpet"
           }
          ],
          "choropleth": [
           {
            "colorbar": {
             "outlinewidth": 0,
             "ticks": ""
            },
            "type": "choropleth"
           }
          ],
          "contour": [
           {
            "colorbar": {
             "outlinewidth": 0,
             "ticks": ""
            },
            "colorscale": [
             [
              0,
              "#0d0887"
             ],
             [
              0.1111111111111111,
              "#46039f"
             ],
             [
              0.2222222222222222,
              "#7201a8"
             ],
             [
              0.3333333333333333,
              "#9c179e"
             ],
             [
              0.4444444444444444,
              "#bd3786"
             ],
             [
              0.5555555555555556,
              "#d8576b"
             ],
             [
              0.6666666666666666,
              "#ed7953"
             ],
             [
              0.7777777777777778,
              "#fb9f3a"
             ],
             [
              0.8888888888888888,
              "#fdca26"
             ],
             [
              1,
              "#f0f921"
             ]
            ],
            "type": "contour"
           }
          ],
          "contourcarpet": [
           {
            "colorbar": {
             "outlinewidth": 0,
             "ticks": ""
            },
            "type": "contourcarpet"
           }
          ],
          "heatmap": [
           {
            "colorbar": {
             "outlinewidth": 0,
             "ticks": ""
            },
            "colorscale": [
             [
              0,
              "#0d0887"
             ],
             [
              0.1111111111111111,
              "#46039f"
             ],
             [
              0.2222222222222222,
              "#7201a8"
             ],
             [
              0.3333333333333333,
              "#9c179e"
             ],
             [
              0.4444444444444444,
              "#bd3786"
             ],
             [
              0.5555555555555556,
              "#d8576b"
             ],
             [
              0.6666666666666666,
              "#ed7953"
             ],
             [
              0.7777777777777778,
              "#fb9f3a"
             ],
             [
              0.8888888888888888,
              "#fdca26"
             ],
             [
              1,
              "#f0f921"
             ]
            ],
            "type": "heatmap"
           }
          ],
          "heatmapgl": [
           {
            "colorbar": {
             "outlinewidth": 0,
             "ticks": ""
            },
            "colorscale": [
             [
              0,
              "#0d0887"
             ],
             [
              0.1111111111111111,
              "#46039f"
             ],
             [
              0.2222222222222222,
              "#7201a8"
             ],
             [
              0.3333333333333333,
              "#9c179e"
             ],
             [
              0.4444444444444444,
              "#bd3786"
             ],
             [
              0.5555555555555556,
              "#d8576b"
             ],
             [
              0.6666666666666666,
              "#ed7953"
             ],
             [
              0.7777777777777778,
              "#fb9f3a"
             ],
             [
              0.8888888888888888,
              "#fdca26"
             ],
             [
              1,
              "#f0f921"
             ]
            ],
            "type": "heatmapgl"
           }
          ],
          "histogram": [
           {
            "marker": {
             "pattern": {
              "fillmode": "overlay",
              "size": 10,
              "solidity": 0.2
             }
            },
            "type": "histogram"
           }
          ],
          "histogram2d": [
           {
            "colorbar": {
             "outlinewidth": 0,
             "ticks": ""
            },
            "colorscale": [
             [
              0,
              "#0d0887"
             ],
             [
              0.1111111111111111,
              "#46039f"
             ],
             [
              0.2222222222222222,
              "#7201a8"
             ],
             [
              0.3333333333333333,
              "#9c179e"
             ],
             [
              0.4444444444444444,
              "#bd3786"
             ],
             [
              0.5555555555555556,
              "#d8576b"
             ],
             [
              0.6666666666666666,
              "#ed7953"
             ],
             [
              0.7777777777777778,
              "#fb9f3a"
             ],
             [
              0.8888888888888888,
              "#fdca26"
             ],
             [
              1,
              "#f0f921"
             ]
            ],
            "type": "histogram2d"
           }
          ],
          "histogram2dcontour": [
           {
            "colorbar": {
             "outlinewidth": 0,
             "ticks": ""
            },
            "colorscale": [
             [
              0,
              "#0d0887"
             ],
             [
              0.1111111111111111,
              "#46039f"
             ],
             [
              0.2222222222222222,
              "#7201a8"
             ],
             [
              0.3333333333333333,
              "#9c179e"
             ],
             [
              0.4444444444444444,
              "#bd3786"
             ],
             [
              0.5555555555555556,
              "#d8576b"
             ],
             [
              0.6666666666666666,
              "#ed7953"
             ],
             [
              0.7777777777777778,
              "#fb9f3a"
             ],
             [
              0.8888888888888888,
              "#fdca26"
             ],
             [
              1,
              "#f0f921"
             ]
            ],
            "type": "histogram2dcontour"
           }
          ],
          "mesh3d": [
           {
            "colorbar": {
             "outlinewidth": 0,
             "ticks": ""
            },
            "type": "mesh3d"
           }
          ],
          "parcoords": [
           {
            "line": {
             "colorbar": {
              "outlinewidth": 0,
              "ticks": ""
             }
            },
            "type": "parcoords"
           }
          ],
          "pie": [
           {
            "automargin": true,
            "type": "pie"
           }
          ],
          "scatter": [
           {
            "marker": {
             "colorbar": {
              "outlinewidth": 0,
              "ticks": ""
             }
            },
            "type": "scatter"
           }
          ],
          "scatter3d": [
           {
            "line": {
             "colorbar": {
              "outlinewidth": 0,
              "ticks": ""
             }
            },
            "marker": {
             "colorbar": {
              "outlinewidth": 0,
              "ticks": ""
             }
            },
            "type": "scatter3d"
           }
          ],
          "scattercarpet": [
           {
            "marker": {
             "colorbar": {
              "outlinewidth": 0,
              "ticks": ""
             }
            },
            "type": "scattercarpet"
           }
          ],
          "scattergeo": [
           {
            "marker": {
             "colorbar": {
              "outlinewidth": 0,
              "ticks": ""
             }
            },
            "type": "scattergeo"
           }
          ],
          "scattergl": [
           {
            "marker": {
             "colorbar": {
              "outlinewidth": 0,
              "ticks": ""
             }
            },
            "type": "scattergl"
           }
          ],
          "scattermapbox": [
           {
            "marker": {
             "colorbar": {
              "outlinewidth": 0,
              "ticks": ""
             }
            },
            "type": "scattermapbox"
           }
          ],
          "scatterpolar": [
           {
            "marker": {
             "colorbar": {
              "outlinewidth": 0,
              "ticks": ""
             }
            },
            "type": "scatterpolar"
           }
          ],
          "scatterpolargl": [
           {
            "marker": {
             "colorbar": {
              "outlinewidth": 0,
              "ticks": ""
             }
            },
            "type": "scatterpolargl"
           }
          ],
          "scatterternary": [
           {
            "marker": {
             "colorbar": {
              "outlinewidth": 0,
              "ticks": ""
             }
            },
            "type": "scatterternary"
           }
          ],
          "surface": [
           {
            "colorbar": {
             "outlinewidth": 0,
             "ticks": ""
            },
            "colorscale": [
             [
              0,
              "#0d0887"
             ],
             [
              0.1111111111111111,
              "#46039f"
             ],
             [
              0.2222222222222222,
              "#7201a8"
             ],
             [
              0.3333333333333333,
              "#9c179e"
             ],
             [
              0.4444444444444444,
              "#bd3786"
             ],
             [
              0.5555555555555556,
              "#d8576b"
             ],
             [
              0.6666666666666666,
              "#ed7953"
             ],
             [
              0.7777777777777778,
              "#fb9f3a"
             ],
             [
              0.8888888888888888,
              "#fdca26"
             ],
             [
              1,
              "#f0f921"
             ]
            ],
            "type": "surface"
           }
          ],
          "table": [
           {
            "cells": {
             "fill": {
              "color": "#EBF0F8"
             },
             "line": {
              "color": "white"
             }
            },
            "header": {
             "fill": {
              "color": "#C8D4E3"
             },
             "line": {
              "color": "white"
             }
            },
            "type": "table"
           }
          ]
         },
         "layout": {
          "annotationdefaults": {
           "arrowcolor": "#2a3f5f",
           "arrowhead": 0,
           "arrowwidth": 1
          },
          "autotypenumbers": "strict",
          "coloraxis": {
           "colorbar": {
            "outlinewidth": 0,
            "ticks": ""
           }
          },
          "colorscale": {
           "diverging": [
            [
             0,
             "#8e0152"
            ],
            [
             0.1,
             "#c51b7d"
            ],
            [
             0.2,
             "#de77ae"
            ],
            [
             0.3,
             "#f1b6da"
            ],
            [
             0.4,
             "#fde0ef"
            ],
            [
             0.5,
             "#f7f7f7"
            ],
            [
             0.6,
             "#e6f5d0"
            ],
            [
             0.7,
             "#b8e186"
            ],
            [
             0.8,
             "#7fbc41"
            ],
            [
             0.9,
             "#4d9221"
            ],
            [
             1,
             "#276419"
            ]
           ],
           "sequential": [
            [
             0,
             "#0d0887"
            ],
            [
             0.1111111111111111,
             "#46039f"
            ],
            [
             0.2222222222222222,
             "#7201a8"
            ],
            [
             0.3333333333333333,
             "#9c179e"
            ],
            [
             0.4444444444444444,
             "#bd3786"
            ],
            [
             0.5555555555555556,
             "#d8576b"
            ],
            [
             0.6666666666666666,
             "#ed7953"
            ],
            [
             0.7777777777777778,
             "#fb9f3a"
            ],
            [
             0.8888888888888888,
             "#fdca26"
            ],
            [
             1,
             "#f0f921"
            ]
           ],
           "sequentialminus": [
            [
             0,
             "#0d0887"
            ],
            [
             0.1111111111111111,
             "#46039f"
            ],
            [
             0.2222222222222222,
             "#7201a8"
            ],
            [
             0.3333333333333333,
             "#9c179e"
            ],
            [
             0.4444444444444444,
             "#bd3786"
            ],
            [
             0.5555555555555556,
             "#d8576b"
            ],
            [
             0.6666666666666666,
             "#ed7953"
            ],
            [
             0.7777777777777778,
             "#fb9f3a"
            ],
            [
             0.8888888888888888,
             "#fdca26"
            ],
            [
             1,
             "#f0f921"
            ]
           ]
          },
          "colorway": [
           "#636efa",
           "#EF553B",
           "#00cc96",
           "#ab63fa",
           "#FFA15A",
           "#19d3f3",
           "#FF6692",
           "#B6E880",
           "#FF97FF",
           "#FECB52"
          ],
          "font": {
           "color": "#2a3f5f"
          },
          "geo": {
           "bgcolor": "white",
           "lakecolor": "white",
           "landcolor": "#E5ECF6",
           "showlakes": true,
           "showland": true,
           "subunitcolor": "white"
          },
          "hoverlabel": {
           "align": "left"
          },
          "hovermode": "closest",
          "mapbox": {
           "style": "light"
          },
          "paper_bgcolor": "white",
          "plot_bgcolor": "#E5ECF6",
          "polar": {
           "angularaxis": {
            "gridcolor": "white",
            "linecolor": "white",
            "ticks": ""
           },
           "bgcolor": "#E5ECF6",
           "radialaxis": {
            "gridcolor": "white",
            "linecolor": "white",
            "ticks": ""
           }
          },
          "scene": {
           "xaxis": {
            "backgroundcolor": "#E5ECF6",
            "gridcolor": "white",
            "gridwidth": 2,
            "linecolor": "white",
            "showbackground": true,
            "ticks": "",
            "zerolinecolor": "white"
           },
           "yaxis": {
            "backgroundcolor": "#E5ECF6",
            "gridcolor": "white",
            "gridwidth": 2,
            "linecolor": "white",
            "showbackground": true,
            "ticks": "",
            "zerolinecolor": "white"
           },
           "zaxis": {
            "backgroundcolor": "#E5ECF6",
            "gridcolor": "white",
            "gridwidth": 2,
            "linecolor": "white",
            "showbackground": true,
            "ticks": "",
            "zerolinecolor": "white"
           }
          },
          "shapedefaults": {
           "line": {
            "color": "#2a3f5f"
           }
          },
          "ternary": {
           "aaxis": {
            "gridcolor": "white",
            "linecolor": "white",
            "ticks": ""
           },
           "baxis": {
            "gridcolor": "white",
            "linecolor": "white",
            "ticks": ""
           },
           "bgcolor": "#E5ECF6",
           "caxis": {
            "gridcolor": "white",
            "linecolor": "white",
            "ticks": ""
           }
          },
          "title": {
           "x": 0.05
          },
          "xaxis": {
           "automargin": true,
           "gridcolor": "white",
           "linecolor": "white",
           "ticks": "",
           "title": {
            "standoff": 15
           },
           "zerolinecolor": "white",
           "zerolinewidth": 2
          },
          "yaxis": {
           "automargin": true,
           "gridcolor": "white",
           "linecolor": "white",
           "ticks": "",
           "title": {
            "standoff": 15
           },
           "zerolinecolor": "white",
           "zerolinewidth": 2
          }
         }
        },
        "title": {
         "text": "Distribution of Sex for unique patients"
        },
        "xaxis": {
         "anchor": "y",
         "domain": [
          0,
          1
         ],
         "title": {
          "text": "Sex"
         }
        },
        "yaxis": {
         "anchor": "x",
         "domain": [
          0,
          1
         ],
         "title": {
          "text": "count"
         }
        }
       }
      }
     },
     "metadata": {},
     "output_type": "display_data"
    }
   ],
   "source": [
    "fig = px.histogram(new_df, x='Sex')\n",
    "fig.update_traces(marker_color='rgb(202,158,225)', marker_line_color='rgb(48,8,107)',\n",
    "                 marker_line_width=2, opacity=0.8)\n",
    "fig.update_layout(title = 'Distribution of Sex for unique patients')\n",
    "fig.show()"
   ]
  },
  {
   "cell_type": "code",
   "execution_count": 14,
   "metadata": {},
   "outputs": [
    {
     "data": {
      "application/vnd.plotly.v1+json": {
       "config": {
        "plotlyServerURL": "https://plot.ly"
       },
       "data": [
        {
         "alignmentgroup": "True",
         "bingroup": "x",
         "hovertemplate": "SmokingStatus=%{x}<br>count=%{y}<extra></extra>",
         "legendgroup": "",
         "marker": {
          "color": "rgb(202,225,158)",
          "line": {
           "color": "rgb(48,107,8)",
           "width": 2
          },
          "pattern": {
           "shape": ""
          }
         },
         "name": "",
         "offsetgroup": "",
         "opacity": 0.8,
         "orientation": "v",
         "showlegend": false,
         "type": "histogram",
         "x": [
          "Ex-smoker",
          "Ex-smoker",
          "Ex-smoker",
          "Ex-smoker",
          "Never smoked",
          "Ex-smoker",
          "Ex-smoker",
          "Ex-smoker",
          "Never smoked",
          "Ex-smoker",
          "Ex-smoker",
          "Ex-smoker",
          "Ex-smoker",
          "Ex-smoker",
          "Ex-smoker",
          "Ex-smoker",
          "Ex-smoker",
          "Ex-smoker",
          "Ex-smoker",
          "Never smoked",
          "Ex-smoker",
          "Ex-smoker",
          "Ex-smoker",
          "Ex-smoker",
          "Never smoked",
          "Ex-smoker",
          "Ex-smoker",
          "Ex-smoker",
          "Ex-smoker",
          "Never smoked",
          "Never smoked",
          "Ex-smoker",
          "Ex-smoker",
          "Currently smokes",
          "Never smoked",
          "Never smoked",
          "Ex-smoker",
          "Ex-smoker",
          "Ex-smoker",
          "Ex-smoker",
          "Ex-smoker",
          "Never smoked",
          "Ex-smoker",
          "Ex-smoker",
          "Ex-smoker",
          "Ex-smoker",
          "Ex-smoker",
          "Ex-smoker",
          "Currently smokes",
          "Ex-smoker",
          "Ex-smoker",
          "Never smoked",
          "Ex-smoker",
          "Never smoked",
          "Ex-smoker",
          "Ex-smoker",
          "Never smoked",
          "Never smoked",
          "Never smoked",
          "Never smoked",
          "Ex-smoker",
          "Never smoked",
          "Ex-smoker",
          "Never smoked",
          "Ex-smoker",
          "Ex-smoker",
          "Ex-smoker",
          "Currently smokes",
          "Ex-smoker",
          "Ex-smoker",
          "Ex-smoker",
          "Ex-smoker",
          "Ex-smoker",
          "Never smoked",
          "Ex-smoker",
          "Ex-smoker",
          "Ex-smoker",
          "Ex-smoker",
          "Ex-smoker",
          "Ex-smoker",
          "Ex-smoker",
          "Ex-smoker",
          "Never smoked",
          "Ex-smoker",
          "Currently smokes",
          "Ex-smoker",
          "Never smoked",
          "Ex-smoker",
          "Currently smokes",
          "Currently smokes",
          "Ex-smoker",
          "Never smoked",
          "Ex-smoker",
          "Ex-smoker",
          "Ex-smoker",
          "Ex-smoker",
          "Never smoked",
          "Never smoked",
          "Ex-smoker",
          "Ex-smoker",
          "Never smoked",
          "Ex-smoker",
          "Ex-smoker",
          "Ex-smoker",
          "Ex-smoker",
          "Never smoked",
          "Ex-smoker",
          "Never smoked",
          "Ex-smoker",
          "Ex-smoker",
          "Never smoked",
          "Never smoked",
          "Never smoked",
          "Ex-smoker",
          "Never smoked",
          "Ex-smoker",
          "Ex-smoker",
          "Never smoked",
          "Never smoked",
          "Ex-smoker",
          "Never smoked",
          "Ex-smoker",
          "Ex-smoker",
          "Ex-smoker",
          "Never smoked",
          "Ex-smoker",
          "Ex-smoker",
          "Never smoked",
          "Never smoked",
          "Ex-smoker",
          "Ex-smoker",
          "Ex-smoker",
          "Ex-smoker",
          "Ex-smoker",
          "Ex-smoker",
          "Currently smokes",
          "Ex-smoker",
          "Ex-smoker",
          "Ex-smoker",
          "Ex-smoker",
          "Ex-smoker",
          "Currently smokes",
          "Ex-smoker",
          "Never smoked",
          "Never smoked",
          "Ex-smoker",
          "Currently smokes",
          "Ex-smoker",
          "Never smoked",
          "Ex-smoker",
          "Ex-smoker",
          "Never smoked",
          "Never smoked",
          "Ex-smoker",
          "Ex-smoker",
          "Never smoked",
          "Never smoked",
          "Ex-smoker",
          "Never smoked",
          "Ex-smoker",
          "Ex-smoker",
          "Never smoked",
          "Ex-smoker",
          "Ex-smoker",
          "Ex-smoker",
          "Never smoked",
          "Ex-smoker",
          "Ex-smoker",
          "Ex-smoker",
          "Never smoked",
          "Never smoked",
          "Ex-smoker",
          "Ex-smoker",
          "Ex-smoker",
          "Ex-smoker",
          "Never smoked"
         ],
         "xaxis": "x",
         "yaxis": "y"
        }
       ],
       "layout": {
        "barmode": "relative",
        "legend": {
         "tracegroupgap": 0
        },
        "margin": {
         "t": 60
        },
        "template": {
         "data": {
          "bar": [
           {
            "error_x": {
             "color": "#2a3f5f"
            },
            "error_y": {
             "color": "#2a3f5f"
            },
            "marker": {
             "line": {
              "color": "#E5ECF6",
              "width": 0.5
             },
             "pattern": {
              "fillmode": "overlay",
              "size": 10,
              "solidity": 0.2
             }
            },
            "type": "bar"
           }
          ],
          "barpolar": [
           {
            "marker": {
             "line": {
              "color": "#E5ECF6",
              "width": 0.5
             },
             "pattern": {
              "fillmode": "overlay",
              "size": 10,
              "solidity": 0.2
             }
            },
            "type": "barpolar"
           }
          ],
          "carpet": [
           {
            "aaxis": {
             "endlinecolor": "#2a3f5f",
             "gridcolor": "white",
             "linecolor": "white",
             "minorgridcolor": "white",
             "startlinecolor": "#2a3f5f"
            },
            "baxis": {
             "endlinecolor": "#2a3f5f",
             "gridcolor": "white",
             "linecolor": "white",
             "minorgridcolor": "white",
             "startlinecolor": "#2a3f5f"
            },
            "type": "carpet"
           }
          ],
          "choropleth": [
           {
            "colorbar": {
             "outlinewidth": 0,
             "ticks": ""
            },
            "type": "choropleth"
           }
          ],
          "contour": [
           {
            "colorbar": {
             "outlinewidth": 0,
             "ticks": ""
            },
            "colorscale": [
             [
              0,
              "#0d0887"
             ],
             [
              0.1111111111111111,
              "#46039f"
             ],
             [
              0.2222222222222222,
              "#7201a8"
             ],
             [
              0.3333333333333333,
              "#9c179e"
             ],
             [
              0.4444444444444444,
              "#bd3786"
             ],
             [
              0.5555555555555556,
              "#d8576b"
             ],
             [
              0.6666666666666666,
              "#ed7953"
             ],
             [
              0.7777777777777778,
              "#fb9f3a"
             ],
             [
              0.8888888888888888,
              "#fdca26"
             ],
             [
              1,
              "#f0f921"
             ]
            ],
            "type": "contour"
           }
          ],
          "contourcarpet": [
           {
            "colorbar": {
             "outlinewidth": 0,
             "ticks": ""
            },
            "type": "contourcarpet"
           }
          ],
          "heatmap": [
           {
            "colorbar": {
             "outlinewidth": 0,
             "ticks": ""
            },
            "colorscale": [
             [
              0,
              "#0d0887"
             ],
             [
              0.1111111111111111,
              "#46039f"
             ],
             [
              0.2222222222222222,
              "#7201a8"
             ],
             [
              0.3333333333333333,
              "#9c179e"
             ],
             [
              0.4444444444444444,
              "#bd3786"
             ],
             [
              0.5555555555555556,
              "#d8576b"
             ],
             [
              0.6666666666666666,
              "#ed7953"
             ],
             [
              0.7777777777777778,
              "#fb9f3a"
             ],
             [
              0.8888888888888888,
              "#fdca26"
             ],
             [
              1,
              "#f0f921"
             ]
            ],
            "type": "heatmap"
           }
          ],
          "heatmapgl": [
           {
            "colorbar": {
             "outlinewidth": 0,
             "ticks": ""
            },
            "colorscale": [
             [
              0,
              "#0d0887"
             ],
             [
              0.1111111111111111,
              "#46039f"
             ],
             [
              0.2222222222222222,
              "#7201a8"
             ],
             [
              0.3333333333333333,
              "#9c179e"
             ],
             [
              0.4444444444444444,
              "#bd3786"
             ],
             [
              0.5555555555555556,
              "#d8576b"
             ],
             [
              0.6666666666666666,
              "#ed7953"
             ],
             [
              0.7777777777777778,
              "#fb9f3a"
             ],
             [
              0.8888888888888888,
              "#fdca26"
             ],
             [
              1,
              "#f0f921"
             ]
            ],
            "type": "heatmapgl"
           }
          ],
          "histogram": [
           {
            "marker": {
             "pattern": {
              "fillmode": "overlay",
              "size": 10,
              "solidity": 0.2
             }
            },
            "type": "histogram"
           }
          ],
          "histogram2d": [
           {
            "colorbar": {
             "outlinewidth": 0,
             "ticks": ""
            },
            "colorscale": [
             [
              0,
              "#0d0887"
             ],
             [
              0.1111111111111111,
              "#46039f"
             ],
             [
              0.2222222222222222,
              "#7201a8"
             ],
             [
              0.3333333333333333,
              "#9c179e"
             ],
             [
              0.4444444444444444,
              "#bd3786"
             ],
             [
              0.5555555555555556,
              "#d8576b"
             ],
             [
              0.6666666666666666,
              "#ed7953"
             ],
             [
              0.7777777777777778,
              "#fb9f3a"
             ],
             [
              0.8888888888888888,
              "#fdca26"
             ],
             [
              1,
              "#f0f921"
             ]
            ],
            "type": "histogram2d"
           }
          ],
          "histogram2dcontour": [
           {
            "colorbar": {
             "outlinewidth": 0,
             "ticks": ""
            },
            "colorscale": [
             [
              0,
              "#0d0887"
             ],
             [
              0.1111111111111111,
              "#46039f"
             ],
             [
              0.2222222222222222,
              "#7201a8"
             ],
             [
              0.3333333333333333,
              "#9c179e"
             ],
             [
              0.4444444444444444,
              "#bd3786"
             ],
             [
              0.5555555555555556,
              "#d8576b"
             ],
             [
              0.6666666666666666,
              "#ed7953"
             ],
             [
              0.7777777777777778,
              "#fb9f3a"
             ],
             [
              0.8888888888888888,
              "#fdca26"
             ],
             [
              1,
              "#f0f921"
             ]
            ],
            "type": "histogram2dcontour"
           }
          ],
          "mesh3d": [
           {
            "colorbar": {
             "outlinewidth": 0,
             "ticks": ""
            },
            "type": "mesh3d"
           }
          ],
          "parcoords": [
           {
            "line": {
             "colorbar": {
              "outlinewidth": 0,
              "ticks": ""
             }
            },
            "type": "parcoords"
           }
          ],
          "pie": [
           {
            "automargin": true,
            "type": "pie"
           }
          ],
          "scatter": [
           {
            "marker": {
             "colorbar": {
              "outlinewidth": 0,
              "ticks": ""
             }
            },
            "type": "scatter"
           }
          ],
          "scatter3d": [
           {
            "line": {
             "colorbar": {
              "outlinewidth": 0,
              "ticks": ""
             }
            },
            "marker": {
             "colorbar": {
              "outlinewidth": 0,
              "ticks": ""
             }
            },
            "type": "scatter3d"
           }
          ],
          "scattercarpet": [
           {
            "marker": {
             "colorbar": {
              "outlinewidth": 0,
              "ticks": ""
             }
            },
            "type": "scattercarpet"
           }
          ],
          "scattergeo": [
           {
            "marker": {
             "colorbar": {
              "outlinewidth": 0,
              "ticks": ""
             }
            },
            "type": "scattergeo"
           }
          ],
          "scattergl": [
           {
            "marker": {
             "colorbar": {
              "outlinewidth": 0,
              "ticks": ""
             }
            },
            "type": "scattergl"
           }
          ],
          "scattermapbox": [
           {
            "marker": {
             "colorbar": {
              "outlinewidth": 0,
              "ticks": ""
             }
            },
            "type": "scattermapbox"
           }
          ],
          "scatterpolar": [
           {
            "marker": {
             "colorbar": {
              "outlinewidth": 0,
              "ticks": ""
             }
            },
            "type": "scatterpolar"
           }
          ],
          "scatterpolargl": [
           {
            "marker": {
             "colorbar": {
              "outlinewidth": 0,
              "ticks": ""
             }
            },
            "type": "scatterpolargl"
           }
          ],
          "scatterternary": [
           {
            "marker": {
             "colorbar": {
              "outlinewidth": 0,
              "ticks": ""
             }
            },
            "type": "scatterternary"
           }
          ],
          "surface": [
           {
            "colorbar": {
             "outlinewidth": 0,
             "ticks": ""
            },
            "colorscale": [
             [
              0,
              "#0d0887"
             ],
             [
              0.1111111111111111,
              "#46039f"
             ],
             [
              0.2222222222222222,
              "#7201a8"
             ],
             [
              0.3333333333333333,
              "#9c179e"
             ],
             [
              0.4444444444444444,
              "#bd3786"
             ],
             [
              0.5555555555555556,
              "#d8576b"
             ],
             [
              0.6666666666666666,
              "#ed7953"
             ],
             [
              0.7777777777777778,
              "#fb9f3a"
             ],
             [
              0.8888888888888888,
              "#fdca26"
             ],
             [
              1,
              "#f0f921"
             ]
            ],
            "type": "surface"
           }
          ],
          "table": [
           {
            "cells": {
             "fill": {
              "color": "#EBF0F8"
             },
             "line": {
              "color": "white"
             }
            },
            "header": {
             "fill": {
              "color": "#C8D4E3"
             },
             "line": {
              "color": "white"
             }
            },
            "type": "table"
           }
          ]
         },
         "layout": {
          "annotationdefaults": {
           "arrowcolor": "#2a3f5f",
           "arrowhead": 0,
           "arrowwidth": 1
          },
          "autotypenumbers": "strict",
          "coloraxis": {
           "colorbar": {
            "outlinewidth": 0,
            "ticks": ""
           }
          },
          "colorscale": {
           "diverging": [
            [
             0,
             "#8e0152"
            ],
            [
             0.1,
             "#c51b7d"
            ],
            [
             0.2,
             "#de77ae"
            ],
            [
             0.3,
             "#f1b6da"
            ],
            [
             0.4,
             "#fde0ef"
            ],
            [
             0.5,
             "#f7f7f7"
            ],
            [
             0.6,
             "#e6f5d0"
            ],
            [
             0.7,
             "#b8e186"
            ],
            [
             0.8,
             "#7fbc41"
            ],
            [
             0.9,
             "#4d9221"
            ],
            [
             1,
             "#276419"
            ]
           ],
           "sequential": [
            [
             0,
             "#0d0887"
            ],
            [
             0.1111111111111111,
             "#46039f"
            ],
            [
             0.2222222222222222,
             "#7201a8"
            ],
            [
             0.3333333333333333,
             "#9c179e"
            ],
            [
             0.4444444444444444,
             "#bd3786"
            ],
            [
             0.5555555555555556,
             "#d8576b"
            ],
            [
             0.6666666666666666,
             "#ed7953"
            ],
            [
             0.7777777777777778,
             "#fb9f3a"
            ],
            [
             0.8888888888888888,
             "#fdca26"
            ],
            [
             1,
             "#f0f921"
            ]
           ],
           "sequentialminus": [
            [
             0,
             "#0d0887"
            ],
            [
             0.1111111111111111,
             "#46039f"
            ],
            [
             0.2222222222222222,
             "#7201a8"
            ],
            [
             0.3333333333333333,
             "#9c179e"
            ],
            [
             0.4444444444444444,
             "#bd3786"
            ],
            [
             0.5555555555555556,
             "#d8576b"
            ],
            [
             0.6666666666666666,
             "#ed7953"
            ],
            [
             0.7777777777777778,
             "#fb9f3a"
            ],
            [
             0.8888888888888888,
             "#fdca26"
            ],
            [
             1,
             "#f0f921"
            ]
           ]
          },
          "colorway": [
           "#636efa",
           "#EF553B",
           "#00cc96",
           "#ab63fa",
           "#FFA15A",
           "#19d3f3",
           "#FF6692",
           "#B6E880",
           "#FF97FF",
           "#FECB52"
          ],
          "font": {
           "color": "#2a3f5f"
          },
          "geo": {
           "bgcolor": "white",
           "lakecolor": "white",
           "landcolor": "#E5ECF6",
           "showlakes": true,
           "showland": true,
           "subunitcolor": "white"
          },
          "hoverlabel": {
           "align": "left"
          },
          "hovermode": "closest",
          "mapbox": {
           "style": "light"
          },
          "paper_bgcolor": "white",
          "plot_bgcolor": "#E5ECF6",
          "polar": {
           "angularaxis": {
            "gridcolor": "white",
            "linecolor": "white",
            "ticks": ""
           },
           "bgcolor": "#E5ECF6",
           "radialaxis": {
            "gridcolor": "white",
            "linecolor": "white",
            "ticks": ""
           }
          },
          "scene": {
           "xaxis": {
            "backgroundcolor": "#E5ECF6",
            "gridcolor": "white",
            "gridwidth": 2,
            "linecolor": "white",
            "showbackground": true,
            "ticks": "",
            "zerolinecolor": "white"
           },
           "yaxis": {
            "backgroundcolor": "#E5ECF6",
            "gridcolor": "white",
            "gridwidth": 2,
            "linecolor": "white",
            "showbackground": true,
            "ticks": "",
            "zerolinecolor": "white"
           },
           "zaxis": {
            "backgroundcolor": "#E5ECF6",
            "gridcolor": "white",
            "gridwidth": 2,
            "linecolor": "white",
            "showbackground": true,
            "ticks": "",
            "zerolinecolor": "white"
           }
          },
          "shapedefaults": {
           "line": {
            "color": "#2a3f5f"
           }
          },
          "ternary": {
           "aaxis": {
            "gridcolor": "white",
            "linecolor": "white",
            "ticks": ""
           },
           "baxis": {
            "gridcolor": "white",
            "linecolor": "white",
            "ticks": ""
           },
           "bgcolor": "#E5ECF6",
           "caxis": {
            "gridcolor": "white",
            "linecolor": "white",
            "ticks": ""
           }
          },
          "title": {
           "x": 0.05
          },
          "xaxis": {
           "automargin": true,
           "gridcolor": "white",
           "linecolor": "white",
           "ticks": "",
           "title": {
            "standoff": 15
           },
           "zerolinecolor": "white",
           "zerolinewidth": 2
          },
          "yaxis": {
           "automargin": true,
           "gridcolor": "white",
           "linecolor": "white",
           "ticks": "",
           "title": {
            "standoff": 15
           },
           "zerolinecolor": "white",
           "zerolinewidth": 2
          }
         }
        },
        "title": {
         "text": "Distribution of SmokingStatus for unique patients"
        },
        "xaxis": {
         "anchor": "y",
         "domain": [
          0,
          1
         ],
         "title": {
          "text": "SmokingStatus"
         }
        },
        "yaxis": {
         "anchor": "x",
         "domain": [
          0,
          1
         ],
         "title": {
          "text": "count"
         }
        }
       }
      }
     },
     "metadata": {},
     "output_type": "display_data"
    }
   ],
   "source": [
    "fig = px.histogram(new_df, x='SmokingStatus')\n",
    "fig.update_traces(marker_color='rgb(202,225,158)', marker_line_color='rgb(48,107,8)',\n",
    "                 marker_line_width=2, opacity=0.8)\n",
    "fig.update_layout(title = 'Distribution of SmokingStatus for unique patients')\n",
    "fig.show()"
   ]
  },
  {
   "cell_type": "code",
   "execution_count": 15,
   "metadata": {},
   "outputs": [
    {
     "data": {
      "application/vnd.plotly.v1+json": {
       "config": {
        "plotlyServerURL": "https://plot.ly"
       },
       "data": [
        {
         "alignmentgroup": "True",
         "bingroup": "x",
         "hovertemplate": "Sex=Male<br>SmokingStatus=%{x}<br>count=%{y}<extra></extra>",
         "legendgroup": "Male",
         "marker": {
          "color": "#636efa",
          "line": {
           "color": "black",
           "width": 2
          },
          "pattern": {
           "shape": ""
          }
         },
         "name": "Male",
         "offsetgroup": "Male",
         "opacity": 0.85,
         "orientation": "v",
         "showlegend": true,
         "type": "histogram",
         "x": [
          "Ex-smoker",
          "Ex-smoker",
          "Ex-smoker",
          "Ex-smoker",
          "Never smoked",
          "Ex-smoker",
          "Ex-smoker",
          "Ex-smoker",
          "Ex-smoker",
          "Ex-smoker",
          "Ex-smoker",
          "Ex-smoker",
          "Ex-smoker",
          "Ex-smoker",
          "Ex-smoker",
          "Ex-smoker",
          "Ex-smoker",
          "Ex-smoker",
          "Ex-smoker",
          "Never smoked",
          "Ex-smoker",
          "Ex-smoker",
          "Ex-smoker",
          "Ex-smoker",
          "Never smoked",
          "Ex-smoker",
          "Never smoked",
          "Ex-smoker",
          "Ex-smoker",
          "Ex-smoker",
          "Ex-smoker",
          "Ex-smoker",
          "Never smoked",
          "Ex-smoker",
          "Ex-smoker",
          "Ex-smoker",
          "Ex-smoker",
          "Ex-smoker",
          "Ex-smoker",
          "Currently smokes",
          "Ex-smoker",
          "Ex-smoker",
          "Ex-smoker",
          "Never smoked",
          "Ex-smoker",
          "Never smoked",
          "Never smoked",
          "Ex-smoker",
          "Never smoked",
          "Ex-smoker",
          "Never smoked",
          "Ex-smoker",
          "Ex-smoker",
          "Ex-smoker",
          "Currently smokes",
          "Ex-smoker",
          "Ex-smoker",
          "Ex-smoker",
          "Ex-smoker",
          "Ex-smoker",
          "Ex-smoker",
          "Ex-smoker",
          "Ex-smoker",
          "Ex-smoker",
          "Ex-smoker",
          "Ex-smoker",
          "Ex-smoker",
          "Currently smokes",
          "Ex-smoker",
          "Never smoked",
          "Ex-smoker",
          "Currently smokes",
          "Currently smokes",
          "Ex-smoker",
          "Never smoked",
          "Ex-smoker",
          "Ex-smoker",
          "Ex-smoker",
          "Never smoked",
          "Ex-smoker",
          "Ex-smoker",
          "Ex-smoker",
          "Ex-smoker",
          "Ex-smoker",
          "Ex-smoker",
          "Ex-smoker",
          "Ex-smoker",
          "Ex-smoker",
          "Ex-smoker",
          "Ex-smoker",
          "Never smoked",
          "Never smoked",
          "Ex-smoker",
          "Ex-smoker",
          "Ex-smoker",
          "Ex-smoker",
          "Ex-smoker",
          "Never smoked",
          "Never smoked",
          "Ex-smoker",
          "Ex-smoker",
          "Ex-smoker",
          "Ex-smoker",
          "Ex-smoker",
          "Currently smokes",
          "Ex-smoker",
          "Ex-smoker",
          "Ex-smoker",
          "Ex-smoker",
          "Ex-smoker",
          "Ex-smoker",
          "Never smoked",
          "Ex-smoker",
          "Currently smokes",
          "Ex-smoker",
          "Never smoked",
          "Ex-smoker",
          "Ex-smoker",
          "Never smoked",
          "Ex-smoker",
          "Ex-smoker",
          "Never smoked",
          "Never smoked",
          "Ex-smoker",
          "Ex-smoker",
          "Ex-smoker",
          "Never smoked",
          "Ex-smoker",
          "Ex-smoker",
          "Ex-smoker",
          "Ex-smoker",
          "Ex-smoker",
          "Never smoked",
          "Never smoked",
          "Ex-smoker",
          "Ex-smoker",
          "Ex-smoker",
          "Ex-smoker",
          "Never smoked"
         ],
         "xaxis": "x",
         "yaxis": "y"
        },
        {
         "alignmentgroup": "True",
         "bingroup": "x",
         "hovertemplate": "Sex=Female<br>SmokingStatus=%{x}<br>count=%{y}<extra></extra>",
         "legendgroup": "Female",
         "marker": {
          "color": "#EF553B",
          "line": {
           "color": "black",
           "width": 2
          },
          "pattern": {
           "shape": ""
          }
         },
         "name": "Female",
         "offsetgroup": "Female",
         "opacity": 0.85,
         "orientation": "v",
         "showlegend": true,
         "type": "histogram",
         "x": [
          "Ex-smoker",
          "Never smoked",
          "Ex-smoker",
          "Never smoked",
          "Ex-smoker",
          "Never smoked",
          "Ex-smoker",
          "Currently smokes",
          "Never smoked",
          "Never smoked",
          "Ex-smoker",
          "Never smoked",
          "Never smoked",
          "Ex-smoker",
          "Never smoked",
          "Ex-smoker",
          "Never smoked",
          "Ex-smoker",
          "Never smoked",
          "Ex-smoker",
          "Never smoked",
          "Never smoked",
          "Never smoked",
          "Never smoked",
          "Never smoked",
          "Never smoked",
          "Never smoked",
          "Never smoked",
          "Ex-smoker",
          "Never smoked",
          "Ex-smoker",
          "Currently smokes",
          "Never smoked",
          "Never smoked",
          "Never smoked",
          "Ex-smoker",
          "Never smoked"
         ],
         "xaxis": "x",
         "yaxis": "y"
        }
       ],
       "layout": {
        "barmode": "relative",
        "legend": {
         "title": {
          "text": "Sex"
         },
         "tracegroupgap": 0
        },
        "margin": {
         "t": 60
        },
        "template": {
         "data": {
          "bar": [
           {
            "error_x": {
             "color": "#2a3f5f"
            },
            "error_y": {
             "color": "#2a3f5f"
            },
            "marker": {
             "line": {
              "color": "#E5ECF6",
              "width": 0.5
             },
             "pattern": {
              "fillmode": "overlay",
              "size": 10,
              "solidity": 0.2
             }
            },
            "type": "bar"
           }
          ],
          "barpolar": [
           {
            "marker": {
             "line": {
              "color": "#E5ECF6",
              "width": 0.5
             },
             "pattern": {
              "fillmode": "overlay",
              "size": 10,
              "solidity": 0.2
             }
            },
            "type": "barpolar"
           }
          ],
          "carpet": [
           {
            "aaxis": {
             "endlinecolor": "#2a3f5f",
             "gridcolor": "white",
             "linecolor": "white",
             "minorgridcolor": "white",
             "startlinecolor": "#2a3f5f"
            },
            "baxis": {
             "endlinecolor": "#2a3f5f",
             "gridcolor": "white",
             "linecolor": "white",
             "minorgridcolor": "white",
             "startlinecolor": "#2a3f5f"
            },
            "type": "carpet"
           }
          ],
          "choropleth": [
           {
            "colorbar": {
             "outlinewidth": 0,
             "ticks": ""
            },
            "type": "choropleth"
           }
          ],
          "contour": [
           {
            "colorbar": {
             "outlinewidth": 0,
             "ticks": ""
            },
            "colorscale": [
             [
              0,
              "#0d0887"
             ],
             [
              0.1111111111111111,
              "#46039f"
             ],
             [
              0.2222222222222222,
              "#7201a8"
             ],
             [
              0.3333333333333333,
              "#9c179e"
             ],
             [
              0.4444444444444444,
              "#bd3786"
             ],
             [
              0.5555555555555556,
              "#d8576b"
             ],
             [
              0.6666666666666666,
              "#ed7953"
             ],
             [
              0.7777777777777778,
              "#fb9f3a"
             ],
             [
              0.8888888888888888,
              "#fdca26"
             ],
             [
              1,
              "#f0f921"
             ]
            ],
            "type": "contour"
           }
          ],
          "contourcarpet": [
           {
            "colorbar": {
             "outlinewidth": 0,
             "ticks": ""
            },
            "type": "contourcarpet"
           }
          ],
          "heatmap": [
           {
            "colorbar": {
             "outlinewidth": 0,
             "ticks": ""
            },
            "colorscale": [
             [
              0,
              "#0d0887"
             ],
             [
              0.1111111111111111,
              "#46039f"
             ],
             [
              0.2222222222222222,
              "#7201a8"
             ],
             [
              0.3333333333333333,
              "#9c179e"
             ],
             [
              0.4444444444444444,
              "#bd3786"
             ],
             [
              0.5555555555555556,
              "#d8576b"
             ],
             [
              0.6666666666666666,
              "#ed7953"
             ],
             [
              0.7777777777777778,
              "#fb9f3a"
             ],
             [
              0.8888888888888888,
              "#fdca26"
             ],
             [
              1,
              "#f0f921"
             ]
            ],
            "type": "heatmap"
           }
          ],
          "heatmapgl": [
           {
            "colorbar": {
             "outlinewidth": 0,
             "ticks": ""
            },
            "colorscale": [
             [
              0,
              "#0d0887"
             ],
             [
              0.1111111111111111,
              "#46039f"
             ],
             [
              0.2222222222222222,
              "#7201a8"
             ],
             [
              0.3333333333333333,
              "#9c179e"
             ],
             [
              0.4444444444444444,
              "#bd3786"
             ],
             [
              0.5555555555555556,
              "#d8576b"
             ],
             [
              0.6666666666666666,
              "#ed7953"
             ],
             [
              0.7777777777777778,
              "#fb9f3a"
             ],
             [
              0.8888888888888888,
              "#fdca26"
             ],
             [
              1,
              "#f0f921"
             ]
            ],
            "type": "heatmapgl"
           }
          ],
          "histogram": [
           {
            "marker": {
             "pattern": {
              "fillmode": "overlay",
              "size": 10,
              "solidity": 0.2
             }
            },
            "type": "histogram"
           }
          ],
          "histogram2d": [
           {
            "colorbar": {
             "outlinewidth": 0,
             "ticks": ""
            },
            "colorscale": [
             [
              0,
              "#0d0887"
             ],
             [
              0.1111111111111111,
              "#46039f"
             ],
             [
              0.2222222222222222,
              "#7201a8"
             ],
             [
              0.3333333333333333,
              "#9c179e"
             ],
             [
              0.4444444444444444,
              "#bd3786"
             ],
             [
              0.5555555555555556,
              "#d8576b"
             ],
             [
              0.6666666666666666,
              "#ed7953"
             ],
             [
              0.7777777777777778,
              "#fb9f3a"
             ],
             [
              0.8888888888888888,
              "#fdca26"
             ],
             [
              1,
              "#f0f921"
             ]
            ],
            "type": "histogram2d"
           }
          ],
          "histogram2dcontour": [
           {
            "colorbar": {
             "outlinewidth": 0,
             "ticks": ""
            },
            "colorscale": [
             [
              0,
              "#0d0887"
             ],
             [
              0.1111111111111111,
              "#46039f"
             ],
             [
              0.2222222222222222,
              "#7201a8"
             ],
             [
              0.3333333333333333,
              "#9c179e"
             ],
             [
              0.4444444444444444,
              "#bd3786"
             ],
             [
              0.5555555555555556,
              "#d8576b"
             ],
             [
              0.6666666666666666,
              "#ed7953"
             ],
             [
              0.7777777777777778,
              "#fb9f3a"
             ],
             [
              0.8888888888888888,
              "#fdca26"
             ],
             [
              1,
              "#f0f921"
             ]
            ],
            "type": "histogram2dcontour"
           }
          ],
          "mesh3d": [
           {
            "colorbar": {
             "outlinewidth": 0,
             "ticks": ""
            },
            "type": "mesh3d"
           }
          ],
          "parcoords": [
           {
            "line": {
             "colorbar": {
              "outlinewidth": 0,
              "ticks": ""
             }
            },
            "type": "parcoords"
           }
          ],
          "pie": [
           {
            "automargin": true,
            "type": "pie"
           }
          ],
          "scatter": [
           {
            "marker": {
             "colorbar": {
              "outlinewidth": 0,
              "ticks": ""
             }
            },
            "type": "scatter"
           }
          ],
          "scatter3d": [
           {
            "line": {
             "colorbar": {
              "outlinewidth": 0,
              "ticks": ""
             }
            },
            "marker": {
             "colorbar": {
              "outlinewidth": 0,
              "ticks": ""
             }
            },
            "type": "scatter3d"
           }
          ],
          "scattercarpet": [
           {
            "marker": {
             "colorbar": {
              "outlinewidth": 0,
              "ticks": ""
             }
            },
            "type": "scattercarpet"
           }
          ],
          "scattergeo": [
           {
            "marker": {
             "colorbar": {
              "outlinewidth": 0,
              "ticks": ""
             }
            },
            "type": "scattergeo"
           }
          ],
          "scattergl": [
           {
            "marker": {
             "colorbar": {
              "outlinewidth": 0,
              "ticks": ""
             }
            },
            "type": "scattergl"
           }
          ],
          "scattermapbox": [
           {
            "marker": {
             "colorbar": {
              "outlinewidth": 0,
              "ticks": ""
             }
            },
            "type": "scattermapbox"
           }
          ],
          "scatterpolar": [
           {
            "marker": {
             "colorbar": {
              "outlinewidth": 0,
              "ticks": ""
             }
            },
            "type": "scatterpolar"
           }
          ],
          "scatterpolargl": [
           {
            "marker": {
             "colorbar": {
              "outlinewidth": 0,
              "ticks": ""
             }
            },
            "type": "scatterpolargl"
           }
          ],
          "scatterternary": [
           {
            "marker": {
             "colorbar": {
              "outlinewidth": 0,
              "ticks": ""
             }
            },
            "type": "scatterternary"
           }
          ],
          "surface": [
           {
            "colorbar": {
             "outlinewidth": 0,
             "ticks": ""
            },
            "colorscale": [
             [
              0,
              "#0d0887"
             ],
             [
              0.1111111111111111,
              "#46039f"
             ],
             [
              0.2222222222222222,
              "#7201a8"
             ],
             [
              0.3333333333333333,
              "#9c179e"
             ],
             [
              0.4444444444444444,
              "#bd3786"
             ],
             [
              0.5555555555555556,
              "#d8576b"
             ],
             [
              0.6666666666666666,
              "#ed7953"
             ],
             [
              0.7777777777777778,
              "#fb9f3a"
             ],
             [
              0.8888888888888888,
              "#fdca26"
             ],
             [
              1,
              "#f0f921"
             ]
            ],
            "type": "surface"
           }
          ],
          "table": [
           {
            "cells": {
             "fill": {
              "color": "#EBF0F8"
             },
             "line": {
              "color": "white"
             }
            },
            "header": {
             "fill": {
              "color": "#C8D4E3"
             },
             "line": {
              "color": "white"
             }
            },
            "type": "table"
           }
          ]
         },
         "layout": {
          "annotationdefaults": {
           "arrowcolor": "#2a3f5f",
           "arrowhead": 0,
           "arrowwidth": 1
          },
          "autotypenumbers": "strict",
          "coloraxis": {
           "colorbar": {
            "outlinewidth": 0,
            "ticks": ""
           }
          },
          "colorscale": {
           "diverging": [
            [
             0,
             "#8e0152"
            ],
            [
             0.1,
             "#c51b7d"
            ],
            [
             0.2,
             "#de77ae"
            ],
            [
             0.3,
             "#f1b6da"
            ],
            [
             0.4,
             "#fde0ef"
            ],
            [
             0.5,
             "#f7f7f7"
            ],
            [
             0.6,
             "#e6f5d0"
            ],
            [
             0.7,
             "#b8e186"
            ],
            [
             0.8,
             "#7fbc41"
            ],
            [
             0.9,
             "#4d9221"
            ],
            [
             1,
             "#276419"
            ]
           ],
           "sequential": [
            [
             0,
             "#0d0887"
            ],
            [
             0.1111111111111111,
             "#46039f"
            ],
            [
             0.2222222222222222,
             "#7201a8"
            ],
            [
             0.3333333333333333,
             "#9c179e"
            ],
            [
             0.4444444444444444,
             "#bd3786"
            ],
            [
             0.5555555555555556,
             "#d8576b"
            ],
            [
             0.6666666666666666,
             "#ed7953"
            ],
            [
             0.7777777777777778,
             "#fb9f3a"
            ],
            [
             0.8888888888888888,
             "#fdca26"
            ],
            [
             1,
             "#f0f921"
            ]
           ],
           "sequentialminus": [
            [
             0,
             "#0d0887"
            ],
            [
             0.1111111111111111,
             "#46039f"
            ],
            [
             0.2222222222222222,
             "#7201a8"
            ],
            [
             0.3333333333333333,
             "#9c179e"
            ],
            [
             0.4444444444444444,
             "#bd3786"
            ],
            [
             0.5555555555555556,
             "#d8576b"
            ],
            [
             0.6666666666666666,
             "#ed7953"
            ],
            [
             0.7777777777777778,
             "#fb9f3a"
            ],
            [
             0.8888888888888888,
             "#fdca26"
            ],
            [
             1,
             "#f0f921"
            ]
           ]
          },
          "colorway": [
           "#636efa",
           "#EF553B",
           "#00cc96",
           "#ab63fa",
           "#FFA15A",
           "#19d3f3",
           "#FF6692",
           "#B6E880",
           "#FF97FF",
           "#FECB52"
          ],
          "font": {
           "color": "#2a3f5f"
          },
          "geo": {
           "bgcolor": "white",
           "lakecolor": "white",
           "landcolor": "#E5ECF6",
           "showlakes": true,
           "showland": true,
           "subunitcolor": "white"
          },
          "hoverlabel": {
           "align": "left"
          },
          "hovermode": "closest",
          "mapbox": {
           "style": "light"
          },
          "paper_bgcolor": "white",
          "plot_bgcolor": "#E5ECF6",
          "polar": {
           "angularaxis": {
            "gridcolor": "white",
            "linecolor": "white",
            "ticks": ""
           },
           "bgcolor": "#E5ECF6",
           "radialaxis": {
            "gridcolor": "white",
            "linecolor": "white",
            "ticks": ""
           }
          },
          "scene": {
           "xaxis": {
            "backgroundcolor": "#E5ECF6",
            "gridcolor": "white",
            "gridwidth": 2,
            "linecolor": "white",
            "showbackground": true,
            "ticks": "",
            "zerolinecolor": "white"
           },
           "yaxis": {
            "backgroundcolor": "#E5ECF6",
            "gridcolor": "white",
            "gridwidth": 2,
            "linecolor": "white",
            "showbackground": true,
            "ticks": "",
            "zerolinecolor": "white"
           },
           "zaxis": {
            "backgroundcolor": "#E5ECF6",
            "gridcolor": "white",
            "gridwidth": 2,
            "linecolor": "white",
            "showbackground": true,
            "ticks": "",
            "zerolinecolor": "white"
           }
          },
          "shapedefaults": {
           "line": {
            "color": "#2a3f5f"
           }
          },
          "ternary": {
           "aaxis": {
            "gridcolor": "white",
            "linecolor": "white",
            "ticks": ""
           },
           "baxis": {
            "gridcolor": "white",
            "linecolor": "white",
            "ticks": ""
           },
           "bgcolor": "#E5ECF6",
           "caxis": {
            "gridcolor": "white",
            "linecolor": "white",
            "ticks": ""
           }
          },
          "title": {
           "x": 0.05
          },
          "xaxis": {
           "automargin": true,
           "gridcolor": "white",
           "linecolor": "white",
           "ticks": "",
           "title": {
            "standoff": 15
           },
           "zerolinecolor": "white",
           "zerolinewidth": 2
          },
          "yaxis": {
           "automargin": true,
           "gridcolor": "white",
           "linecolor": "white",
           "ticks": "",
           "title": {
            "standoff": 15
           },
           "zerolinecolor": "white",
           "zerolinewidth": 2
          }
         }
        },
        "title": {
         "text": "Distribution of SmokingStatus for unique patients"
        },
        "xaxis": {
         "anchor": "y",
         "domain": [
          0,
          1
         ],
         "title": {
          "text": "SmokingStatus"
         }
        },
        "yaxis": {
         "anchor": "x",
         "domain": [
          0,
          1
         ],
         "title": {
          "text": "count"
         }
        }
       }
      }
     },
     "metadata": {},
     "output_type": "display_data"
    }
   ],
   "source": [
    "fig = px.histogram(new_df, x='SmokingStatus',color = 'Sex')\n",
    "fig.update_traces(marker_line_color='black',marker_line_width=2, opacity=0.85)\n",
    "fig.update_layout(title = 'Distribution of SmokingStatus for unique patients')\n",
    "fig.show()"
   ]
  },
  {
   "cell_type": "markdown",
   "metadata": {},
   "source": [
    "### 3.DICOM\n",
    "For every patient there is a folder named with their unique ids. These folders contain images from a medical scan, like a CT scan and information about the patient. It is important to understand that each folder has a number of images, but they are all from the same scan, carried out on the same day. CT scans are pictures that slice from the beginning of the torso up to the neck. FVC measurements were carried out before, after and sometimes on the day of the CT scan. These images are called DICOM files. DICOM stands for \"Digital Imaging and Communications in Medicine\" and has two parts: the header and the dataset. The header contains information on the encapsulated dataset. It consists of a File Preamble, a DICOM prefix, and the File Meta Elements."
   ]
  },
  {
   "cell_type": "code",
   "execution_count": 1,
   "metadata": {
    "execution": {
     "iopub.execute_input": "2022-01-19T02:01:09.567958Z",
     "iopub.status.busy": "2022-01-19T02:01:09.567149Z",
     "iopub.status.idle": "2022-01-19T02:01:09.638092Z",
     "shell.execute_reply": "2022-01-19T02:01:09.637572Z",
     "shell.execute_reply.started": "2022-01-19T01:43:28.245401Z"
    },
    "papermill": {
     "duration": 0.119105,
     "end_time": "2022-01-19T02:01:09.638241",
     "exception": false,
     "start_time": "2022-01-19T02:01:09.519136",
     "status": "completed"
    },
    "tags": []
   },
   "outputs": [],
   "source": [
    "import os\n",
    "from os import listdir\n",
    "import pandas as pd\n",
    "import numpy as np\n",
    "import matplotlib.pyplot as plt\n",
    "%matplotlib inline\n",
    "import pydicom\n",
    "from tqdm import tqdm\n",
    "\n",
    "from PIL import Image"
   ]
  },
  {
   "cell_type": "code",
   "execution_count": 2,
   "metadata": {
    "execution": {
     "iopub.execute_input": "2022-01-19T02:01:09.695574Z",
     "iopub.status.busy": "2022-01-19T02:01:09.694996Z",
     "iopub.status.idle": "2022-01-19T02:01:09.727814Z",
     "shell.execute_reply": "2022-01-19T02:01:09.727227Z",
     "shell.execute_reply.started": "2022-01-19T01:43:28.293546Z"
    },
    "papermill": {
     "duration": 0.064359,
     "end_time": "2022-01-19T02:01:09.727914",
     "exception": false,
     "start_time": "2022-01-19T02:01:09.663555",
     "status": "completed"
    },
    "tags": []
   },
   "outputs": [],
   "source": [
    "Path = \"input/osic-pulmonary-fibrosis-progression\"\n",
    "df_train= pd.read_csv(f\"{Path}/train.csv\")\n",
    "df_train.drop_duplicates(keep=False, inplace=True,subset=['Patient','Weeks'])\n",
    "df_test= pd.read_csv(f\"{Path}/test.csv\")\n",
    "Patient_list= df_train[\"Patient\"].unique()"
   ]
  },
  {
   "cell_type": "code",
   "execution_count": 3,
   "metadata": {
    "execution": {
     "iopub.execute_input": "2022-01-19T02:01:09.783930Z",
     "iopub.status.busy": "2022-01-19T02:01:09.783410Z",
     "iopub.status.idle": "2022-01-19T02:01:20.100366Z",
     "shell.execute_reply": "2022-01-19T02:01:20.100893Z",
     "shell.execute_reply.started": "2022-01-19T01:43:30.097818Z"
    },
    "papermill": {
     "duration": 10.349254,
     "end_time": "2022-01-19T02:01:20.101029",
     "exception": false,
     "start_time": "2022-01-19T02:01:09.751775",
     "status": "completed"
    },
    "tags": []
   },
   "outputs": [
    {
     "name": "stderr",
     "output_type": "stream",
     "text": [
      "100%|██████████| 71/71 [00:03<00:00, 21.85it/s]\n"
     ]
    },
    {
     "data": {
      "image/png": "[encoded data removed]",
      "text/plain": [
       "<Figure size 720x720 with 71 Axes>"
      ]
     },
     "metadata": {
      "needs_background": "light"
     },
     "output_type": "display_data"
    }
   ],
   "source": [
    "def getDcms(patient,type):\n",
    "    image_dir = f\"{Path}/{type}/{patient}\"\n",
    "    fig=plt.figure(figsize=(10,10))\n",
    "    image_list = os.listdir(image_dir)\n",
    "    columns = int(np.sqrt(len(image_list)))\n",
    "    rows = columns+1\n",
    "    dcms=[]\n",
    "    for i in tqdm(range(1, len(image_list) +1)):\n",
    "        ds = pydicom.dcmread(image_dir + \"/\" + str(i) + \".dcm\")\n",
    "        dcms.append(ds.pixel_array)\n",
    "        fig.add_subplot(rows,columns,i)\n",
    "        plt.imshow(ds.pixel_array, cmap=plt.cm.bone)\n",
    "    return dcms\n",
    "\n",
    "list=getDcms(Patient_list[50],\"train\" )"
   ]
  },
  {
   "cell_type": "code",
   "execution_count": 4,
   "metadata": {
    "execution": {
     "iopub.execute_input": "2022-01-19T02:01:20.186721Z",
     "iopub.status.busy": "2022-01-19T02:01:20.185808Z",
     "iopub.status.idle": "2022-01-19T02:01:20.197622Z",
     "shell.execute_reply": "2022-01-19T02:01:20.197136Z",
     "shell.execute_reply.started": "2022-01-19T01:43:39.666010Z"
    },
    "papermill": {
     "duration": 0.060414,
     "end_time": "2022-01-19T02:01:20.197728",
     "exception": false,
     "start_time": "2022-01-19T02:01:20.137314",
     "status": "completed"
    },
    "tags": []
   },
   "outputs": [
    {
     "data": {
      "text/html": [
       "<div>\n",
       "<style scoped>\n",
       "    .dataframe tbody tr th:only-of-type {\n",
       "        vertical-align: middle;\n",
       "    }\n",
       "\n",
       "    .dataframe tbody tr th {\n",
       "        vertical-align: top;\n",
       "    }\n",
       "\n",
       "    .dataframe thead th {\n",
       "        text-align: right;\n",
       "    }\n",
       "</style>\n",
       "<table border=\"1\" class=\"dataframe\">\n",
       "  <thead>\n",
       "    <tr style=\"text-align: right;\">\n",
       "      <th></th>\n",
       "      <th>Patient</th>\n",
       "      <th>Weeks</th>\n",
       "      <th>FVC</th>\n",
       "      <th>Percent</th>\n",
       "      <th>Age</th>\n",
       "      <th>Sex</th>\n",
       "      <th>SmokingStatus</th>\n",
       "    </tr>\n",
       "  </thead>\n",
       "  <tbody>\n",
       "    <tr>\n",
       "      <th>0</th>\n",
       "      <td>ID00007637202177411956430</td>\n",
       "      <td>-4</td>\n",
       "      <td>2315</td>\n",
       "      <td>58.253649</td>\n",
       "      <td>79</td>\n",
       "      <td>Male</td>\n",
       "      <td>Ex-smoker</td>\n",
       "    </tr>\n",
       "    <tr>\n",
       "      <th>1</th>\n",
       "      <td>ID00007637202177411956430</td>\n",
       "      <td>5</td>\n",
       "      <td>2214</td>\n",
       "      <td>55.712129</td>\n",
       "      <td>79</td>\n",
       "      <td>Male</td>\n",
       "      <td>Ex-smoker</td>\n",
       "    </tr>\n",
       "    <tr>\n",
       "      <th>2</th>\n",
       "      <td>ID00007637202177411956430</td>\n",
       "      <td>7</td>\n",
       "      <td>2061</td>\n",
       "      <td>51.862104</td>\n",
       "      <td>79</td>\n",
       "      <td>Male</td>\n",
       "      <td>Ex-smoker</td>\n",
       "    </tr>\n",
       "    <tr>\n",
       "      <th>3</th>\n",
       "      <td>ID00007637202177411956430</td>\n",
       "      <td>9</td>\n",
       "      <td>2144</td>\n",
       "      <td>53.950679</td>\n",
       "      <td>79</td>\n",
       "      <td>Male</td>\n",
       "      <td>Ex-smoker</td>\n",
       "    </tr>\n",
       "    <tr>\n",
       "      <th>4</th>\n",
       "      <td>ID00007637202177411956430</td>\n",
       "      <td>11</td>\n",
       "      <td>2069</td>\n",
       "      <td>52.063412</td>\n",
       "      <td>79</td>\n",
       "      <td>Male</td>\n",
       "      <td>Ex-smoker</td>\n",
       "    </tr>\n",
       "    <tr>\n",
       "      <th>...</th>\n",
       "      <td>...</td>\n",
       "      <td>...</td>\n",
       "      <td>...</td>\n",
       "      <td>...</td>\n",
       "      <td>...</td>\n",
       "      <td>...</td>\n",
       "      <td>...</td>\n",
       "    </tr>\n",
       "    <tr>\n",
       "      <th>1544</th>\n",
       "      <td>ID00426637202313170790466</td>\n",
       "      <td>13</td>\n",
       "      <td>2712</td>\n",
       "      <td>66.594637</td>\n",
       "      <td>73</td>\n",
       "      <td>Male</td>\n",
       "      <td>Never smoked</td>\n",
       "    </tr>\n",
       "    <tr>\n",
       "      <th>1545</th>\n",
       "      <td>ID00426637202313170790466</td>\n",
       "      <td>19</td>\n",
       "      <td>2978</td>\n",
       "      <td>73.126412</td>\n",
       "      <td>73</td>\n",
       "      <td>Male</td>\n",
       "      <td>Never smoked</td>\n",
       "    </tr>\n",
       "    <tr>\n",
       "      <th>1546</th>\n",
       "      <td>ID00426637202313170790466</td>\n",
       "      <td>31</td>\n",
       "      <td>2908</td>\n",
       "      <td>71.407524</td>\n",
       "      <td>73</td>\n",
       "      <td>Male</td>\n",
       "      <td>Never smoked</td>\n",
       "    </tr>\n",
       "    <tr>\n",
       "      <th>1547</th>\n",
       "      <td>ID00426637202313170790466</td>\n",
       "      <td>43</td>\n",
       "      <td>2975</td>\n",
       "      <td>73.052745</td>\n",
       "      <td>73</td>\n",
       "      <td>Male</td>\n",
       "      <td>Never smoked</td>\n",
       "    </tr>\n",
       "    <tr>\n",
       "      <th>1548</th>\n",
       "      <td>ID00426637202313170790466</td>\n",
       "      <td>59</td>\n",
       "      <td>2774</td>\n",
       "      <td>68.117081</td>\n",
       "      <td>73</td>\n",
       "      <td>Male</td>\n",
       "      <td>Never smoked</td>\n",
       "    </tr>\n",
       "  </tbody>\n",
       "</table>\n",
       "<p>1535 rows × 7 columns</p>\n",
       "</div>"
      ],
      "text/plain": [
       "                        Patient  Weeks   FVC    Percent  Age   Sex  \\\n",
       "0     ID00007637202177411956430     -4  2315  58.253649   79  Male   \n",
       "1     ID00007637202177411956430      5  2214  55.712129   79  Male   \n",
       "2     ID00007637202177411956430      7  2061  51.862104   79  Male   \n",
       "3     ID00007637202177411956430      9  2144  53.950679   79  Male   \n",
       "4     ID00007637202177411956430     11  2069  52.063412   79  Male   \n",
       "...                         ...    ...   ...        ...  ...   ...   \n",
       "1544  ID00426637202313170790466     13  2712  66.594637   73  Male   \n",
       "1545  ID00426637202313170790466     19  2978  73.126412   73  Male   \n",
       "1546  ID00426637202313170790466     31  2908  71.407524   73  Male   \n",
       "1547  ID00426637202313170790466     43  2975  73.052745   73  Male   \n",
       "1548  ID00426637202313170790466     59  2774  68.117081   73  Male   \n",
       "\n",
       "     SmokingStatus  \n",
       "0        Ex-smoker  \n",
       "1        Ex-smoker  \n",
       "2        Ex-smoker  \n",
       "3        Ex-smoker  \n",
       "4        Ex-smoker  \n",
       "...            ...  \n",
       "1544  Never smoked  \n",
       "1545  Never smoked  \n",
       "1546  Never smoked  \n",
       "1547  Never smoked  \n",
       "1548  Never smoked  \n",
       "\n",
       "[1535 rows x 7 columns]"
      ]
     },
     "execution_count": 4,
     "metadata": {},
     "output_type": "execute_result"
    }
   ],
   "source": [
    "df_train"
   ]
  },
  {
   "cell_type": "code",
   "execution_count": 5,
   "metadata": {
    "execution": {
     "iopub.execute_input": "2022-01-19T02:01:20.278278Z",
     "iopub.status.busy": "2022-01-19T02:01:20.277489Z",
     "iopub.status.idle": "2022-01-19T02:01:20.280417Z",
     "shell.execute_reply": "2022-01-19T02:01:20.279947Z",
     "shell.execute_reply.started": "2022-01-19T01:43:39.719641Z"
    },
    "papermill": {
     "duration": 0.046514,
     "end_time": "2022-01-19T02:01:20.280516",
     "exception": false,
     "start_time": "2022-01-19T02:01:20.234002",
     "status": "completed"
    },
    "tags": []
   },
   "outputs": [],
   "source": [
    "def get_Weeks_Dcms(type):\n",
    "    fig=plt.figure(figsize=(10,10))\n",
    "    dcms=[]\n",
    "    plist=[]\n",
    "    wlist=[]\n",
    "    for p in tqdm(Patient_list):\n",
    "        image_dir = f\"{Path}/{type}/{p}\"\n",
    "        week=df_train[df_train[\"Patient\"]==p][\"Weeks\"]\n",
    "        for w in week:\n",
    "            try:\n",
    "                ds = pydicom.dcmread(image_dir + \"/\" + str(w) + \".dcm\")\n",
    "                dcms.append(ds.pixel_array)\n",
    "                plist.append(p)\n",
    "                wlist.append(w)\n",
    "            except:\n",
    "                pass\n",
    "    data = pd.DataFrame({\"Patient\":plist,\"Weeks\":wlist})        \n",
    "    return dcms,data"
   ]
  },
  {
   "cell_type": "code",
   "execution_count": 6,
   "metadata": {
    "execution": {
     "iopub.execute_input": "2022-01-19T02:01:20.356811Z",
     "iopub.status.busy": "2022-01-19T02:01:20.355758Z",
     "iopub.status.idle": "2022-01-19T02:01:40.802016Z",
     "shell.execute_reply": "2022-01-19T02:01:40.801576Z",
     "shell.execute_reply.started": "2022-01-19T01:43:44.362047Z"
    },
    "papermill": {
     "duration": 20.486281,
     "end_time": "2022-01-19T02:01:40.802112",
     "exception": false,
     "start_time": "2022-01-19T02:01:20.315831",
     "status": "completed"
    },
    "tags": []
   },
   "outputs": [
    {
     "name": "stderr",
     "output_type": "stream",
     "text": [
      "100%|██████████| 176/176 [00:20<00:00,  8.61it/s]\n"
     ]
    },
    {
     "data": {
      "text/plain": [
       "<Figure size 720x720 with 0 Axes>"
      ]
     },
     "metadata": {},
     "output_type": "display_data"
    }
   ],
   "source": [
    "x_train,train_data=get_Weeks_Dcms(\"train\")"
   ]
  },
  {
   "cell_type": "code",
   "execution_count": 7,
   "metadata": {
    "execution": {
     "iopub.execute_input": "2022-01-19T02:01:40.945005Z",
     "iopub.status.busy": "2022-01-19T02:01:40.944293Z",
     "iopub.status.idle": "2022-01-19T02:01:42.351001Z",
     "shell.execute_reply": "2022-01-19T02:01:42.350064Z",
     "shell.execute_reply.started": "2022-01-19T01:43:49.293099Z"
    },
    "papermill": {
     "duration": 1.480818,
     "end_time": "2022-01-19T02:01:42.351135",
     "exception": false,
     "start_time": "2022-01-19T02:01:40.870317",
     "status": "completed"
    },
    "tags": []
   },
   "outputs": [],
   "source": [
    "for i in range(0,len(x_train)):\n",
    "    im = Image.fromarray(x_train[i])\n",
    "    im = im.resize((128,128),resample=Image.NEAREST) \n",
    "    x_train[i] = np.array(im).reshape((128,128,1))\n",
    "    #x_train[i] = np.array(im)\n",
    "    \n",
    "x_train=np.array(x_train)\n",
    "train_data = pd.merge(train_data,df_train, how=\"left\", on=['Patient',\"Weeks\"])"
   ]
  },
  {
   "cell_type": "code",
   "execution_count": 8,
   "metadata": {
    "execution": {
     "iopub.execute_input": "2022-01-19T02:01:42.514865Z",
     "iopub.status.busy": "2022-01-19T02:01:42.513911Z",
     "iopub.status.idle": "2022-01-19T02:01:42.520182Z",
     "shell.execute_reply": "2022-01-19T02:01:42.519659Z",
     "shell.execute_reply.started": "2022-01-19T01:43:51.846836Z"
    },
    "papermill": {
     "duration": 0.091147,
     "end_time": "2022-01-19T02:01:42.520294",
     "exception": false,
     "start_time": "2022-01-19T02:01:42.429147",
     "status": "completed"
    },
    "tags": []
   },
   "outputs": [],
   "source": [
    "train_data[\"Sex\"]=train_data[\"Sex\"].astype(\"category\").cat.codes\n",
    "train_data[\"SmokingStatus\"]=train_data[\"SmokingStatus\"].astype(\"category\").cat.codes"
   ]
  },
  {
   "cell_type": "markdown",
   "metadata": {
    "papermill": {
     "duration": 0.077374,
     "end_time": "2022-01-19T02:01:42.674847",
     "exception": false,
     "start_time": "2022-01-19T02:01:42.597473",
     "status": "completed"
    },
    "tags": []
   },
   "source": [
    " <h3><font color=red>Min-Max Normalization </font> <h3>"
   ]
  },
  {
   "cell_type": "code",
   "execution_count": 9,
   "metadata": {
    "execution": {
     "iopub.execute_input": "2022-01-19T02:01:42.837823Z",
     "iopub.status.busy": "2022-01-19T02:01:42.836916Z",
     "iopub.status.idle": "2022-01-19T02:01:42.858299Z",
     "shell.execute_reply": "2022-01-19T02:01:42.857763Z",
     "shell.execute_reply.started": "2022-01-19T01:43:55.612082Z"
    },
    "papermill": {
     "duration": 0.106711,
     "end_time": "2022-01-19T02:01:42.858442",
     "exception": false,
     "start_time": "2022-01-19T02:01:42.751731",
     "status": "completed"
    },
    "tags": []
   },
   "outputs": [],
   "source": [
    "train_data[\"Weeks\"]=(train_data['Weeks'] - train_data['Weeks'].min() ) / ( train_data['Weeks'].max() - train_data['Weeks'].min() )\n",
    "train_data[\"Percent\"]=(train_data['Percent'] - train_data['Percent'].min() ) / ( train_data['Age'].max() - train_data['Percent'].min() )\n",
    "train_data[\"Age\"]=(train_data['Age'] - train_data['Age'].min() ) / ( train_data['Age'].max() - train_data['Age'].min() )"
   ]
  },
  {
   "cell_type": "code",
   "execution_count": 10,
   "metadata": {
    "execution": {
     "iopub.execute_input": "2022-01-19T02:01:43.030208Z",
     "iopub.status.busy": "2022-01-19T02:01:43.029062Z",
     "iopub.status.idle": "2022-01-19T02:01:43.042969Z",
     "shell.execute_reply": "2022-01-19T02:01:43.042410Z",
     "shell.execute_reply.started": "2022-01-19T01:43:57.652523Z"
    },
    "papermill": {
     "duration": 0.106752,
     "end_time": "2022-01-19T02:01:43.043085",
     "exception": false,
     "start_time": "2022-01-19T02:01:42.936333",
     "status": "completed"
    },
    "tags": []
   },
   "outputs": [
    {
     "data": {
      "text/html": [
       "<div>\n",
       "<style scoped>\n",
       "    .dataframe tbody tr th:only-of-type {\n",
       "        vertical-align: middle;\n",
       "    }\n",
       "\n",
       "    .dataframe tbody tr th {\n",
       "        vertical-align: top;\n",
       "    }\n",
       "\n",
       "    .dataframe thead th {\n",
       "        text-align: right;\n",
       "    }\n",
       "</style>\n",
       "<table border=\"1\" class=\"dataframe\">\n",
       "  <thead>\n",
       "    <tr style=\"text-align: right;\">\n",
       "      <th></th>\n",
       "      <th>Patient</th>\n",
       "      <th>Weeks</th>\n",
       "      <th>FVC</th>\n",
       "      <th>Percent</th>\n",
       "      <th>Age</th>\n",
       "      <th>Sex</th>\n",
       "      <th>SmokingStatus</th>\n",
       "    </tr>\n",
       "  </thead>\n",
       "  <tbody>\n",
       "    <tr>\n",
       "      <th>0</th>\n",
       "      <td>ID00007637202177411956430</td>\n",
       "      <td>0.034783</td>\n",
       "      <td>2214</td>\n",
       "      <td>0.453881</td>\n",
       "      <td>0.769231</td>\n",
       "      <td>1</td>\n",
       "      <td>1</td>\n",
       "    </tr>\n",
       "    <tr>\n",
       "      <th>1</th>\n",
       "      <td>ID00007637202177411956430</td>\n",
       "      <td>0.052174</td>\n",
       "      <td>2061</td>\n",
       "      <td>0.388762</td>\n",
       "      <td>0.769231</td>\n",
       "      <td>1</td>\n",
       "      <td>1</td>\n",
       "    </tr>\n",
       "    <tr>\n",
       "      <th>2</th>\n",
       "      <td>ID00007637202177411956430</td>\n",
       "      <td>0.069565</td>\n",
       "      <td>2144</td>\n",
       "      <td>0.424088</td>\n",
       "      <td>0.769231</td>\n",
       "      <td>1</td>\n",
       "      <td>1</td>\n",
       "    </tr>\n",
       "    <tr>\n",
       "      <th>3</th>\n",
       "      <td>ID00007637202177411956430</td>\n",
       "      <td>0.086957</td>\n",
       "      <td>2069</td>\n",
       "      <td>0.392167</td>\n",
       "      <td>0.769231</td>\n",
       "      <td>1</td>\n",
       "      <td>1</td>\n",
       "    </tr>\n",
       "    <tr>\n",
       "      <th>4</th>\n",
       "      <td>ID00007637202177411956430</td>\n",
       "      <td>0.139130</td>\n",
       "      <td>2101</td>\n",
       "      <td>0.405786</td>\n",
       "      <td>0.769231</td>\n",
       "      <td>1</td>\n",
       "      <td>1</td>\n",
       "    </tr>\n",
       "    <tr>\n",
       "      <th>...</th>\n",
       "      <td>...</td>\n",
       "      <td>...</td>\n",
       "      <td>...</td>\n",
       "      <td>...</td>\n",
       "      <td>...</td>\n",
       "      <td>...</td>\n",
       "      <td>...</td>\n",
       "    </tr>\n",
       "    <tr>\n",
       "      <th>1226</th>\n",
       "      <td>ID00426637202313170790466</td>\n",
       "      <td>0.104348</td>\n",
       "      <td>2712</td>\n",
       "      <td>0.637948</td>\n",
       "      <td>0.615385</td>\n",
       "      <td>1</td>\n",
       "      <td>2</td>\n",
       "    </tr>\n",
       "    <tr>\n",
       "      <th>1227</th>\n",
       "      <td>ID00426637202313170790466</td>\n",
       "      <td>0.156522</td>\n",
       "      <td>2978</td>\n",
       "      <td>0.748427</td>\n",
       "      <td>0.615385</td>\n",
       "      <td>1</td>\n",
       "      <td>2</td>\n",
       "    </tr>\n",
       "    <tr>\n",
       "      <th>1228</th>\n",
       "      <td>ID00426637202313170790466</td>\n",
       "      <td>0.260870</td>\n",
       "      <td>2908</td>\n",
       "      <td>0.719354</td>\n",
       "      <td>0.615385</td>\n",
       "      <td>1</td>\n",
       "      <td>2</td>\n",
       "    </tr>\n",
       "    <tr>\n",
       "      <th>1229</th>\n",
       "      <td>ID00426637202313170790466</td>\n",
       "      <td>0.365217</td>\n",
       "      <td>2975</td>\n",
       "      <td>0.747181</td>\n",
       "      <td>0.615385</td>\n",
       "      <td>1</td>\n",
       "      <td>2</td>\n",
       "    </tr>\n",
       "    <tr>\n",
       "      <th>1230</th>\n",
       "      <td>ID00426637202313170790466</td>\n",
       "      <td>0.504348</td>\n",
       "      <td>2774</td>\n",
       "      <td>0.663699</td>\n",
       "      <td>0.615385</td>\n",
       "      <td>1</td>\n",
       "      <td>2</td>\n",
       "    </tr>\n",
       "  </tbody>\n",
       "</table>\n",
       "<p>1231 rows × 7 columns</p>\n",
       "</div>"
      ],
      "text/plain": [
       "                        Patient     Weeks   FVC   Percent       Age  Sex  \\\n",
       "0     ID00007637202177411956430  0.034783  2214  0.453881  0.769231    1   \n",
       "1     ID00007637202177411956430  0.052174  2061  0.388762  0.769231    1   \n",
       "2     ID00007637202177411956430  0.069565  2144  0.424088  0.769231    1   \n",
       "3     ID00007637202177411956430  0.086957  2069  0.392167  0.769231    1   \n",
       "4     ID00007637202177411956430  0.139130  2101  0.405786  0.769231    1   \n",
       "...                         ...       ...   ...       ...       ...  ...   \n",
       "1226  ID00426637202313170790466  0.104348  2712  0.637948  0.615385    1   \n",
       "1227  ID00426637202313170790466  0.156522  2978  0.748427  0.615385    1   \n",
       "1228  ID00426637202313170790466  0.260870  2908  0.719354  0.615385    1   \n",
       "1229  ID00426637202313170790466  0.365217  2975  0.747181  0.615385    1   \n",
       "1230  ID00426637202313170790466  0.504348  2774  0.663699  0.615385    1   \n",
       "\n",
       "      SmokingStatus  \n",
       "0                 1  \n",
       "1                 1  \n",
       "2                 1  \n",
       "3                 1  \n",
       "4                 1  \n",
       "...             ...  \n",
       "1226              2  \n",
       "1227              2  \n",
       "1228              2  \n",
       "1229              2  \n",
       "1230              2  \n",
       "\n",
       "[1231 rows x 7 columns]"
      ]
     },
     "execution_count": 10,
     "metadata": {},
     "output_type": "execute_result"
    }
   ],
   "source": [
    "train_data"
   ]
  },
  {
   "cell_type": "code",
   "execution_count": 11,
   "metadata": {
    "execution": {
     "iopub.execute_input": "2022-01-19T02:01:43.224111Z",
     "iopub.status.busy": "2022-01-19T02:01:43.223161Z",
     "iopub.status.idle": "2022-01-19T02:01:43.228067Z",
     "shell.execute_reply": "2022-01-19T02:01:43.227492Z",
     "shell.execute_reply.started": "2022-01-19T01:43:59.881827Z"
    },
    "papermill": {
     "duration": 0.104801,
     "end_time": "2022-01-19T02:01:43.228215",
     "exception": false,
     "start_time": "2022-01-19T02:01:43.123414",
     "status": "completed"
    },
    "tags": []
   },
   "outputs": [],
   "source": [
    "y=train_data[\"FVC\"].values\n",
    "feature=train_data[['Weeks','Percent','Age','Sex',\"SmokingStatus\"]].values"
   ]
  },
  {
   "cell_type": "markdown",
   "metadata": {
    "papermill": {
     "duration": 0.067944,
     "end_time": "2022-01-19T02:01:43.374239",
     "exception": false,
     "start_time": "2022-01-19T02:01:43.306295",
     "status": "completed"
    },
    "tags": []
   },
   "source": [
    " <h3><font color=red>Min-Max Normalization </font> <h3>"
   ]
  },
  {
   "cell_type": "code",
   "execution_count": 12,
   "metadata": {
    "execution": {
     "iopub.execute_input": "2022-01-19T02:01:43.516045Z",
     "iopub.status.busy": "2022-01-19T02:01:43.515253Z",
     "iopub.status.idle": "2022-01-19T02:01:43.598209Z",
     "shell.execute_reply": "2022-01-19T02:01:43.597672Z",
     "shell.execute_reply.started": "2022-01-19T01:44:09.592062Z"
    },
    "papermill": {
     "duration": 0.15577,
     "end_time": "2022-01-19T02:01:43.598321",
     "exception": false,
     "start_time": "2022-01-19T02:01:43.442551",
     "status": "completed"
    },
    "tags": []
   },
   "outputs": [],
   "source": [
    "x_min = np.min(x_train)\n",
    "x_max = np.max(x_train)\n",
    "xs = x_train - x_min / (x_max - x_min)"
   ]
  },
  {
   "cell_type": "code",
   "execution_count": 13,
   "metadata": {
    "execution": {
     "iopub.execute_input": "2022-01-19T02:01:43.741220Z",
     "iopub.status.busy": "2022-01-19T02:01:43.740334Z",
     "iopub.status.idle": "2022-01-19T02:01:43.743246Z",
     "shell.execute_reply": "2022-01-19T02:01:43.743661Z",
     "shell.execute_reply.started": "2022-01-19T01:44:11.690182Z"
    },
    "papermill": {
     "duration": 0.077092,
     "end_time": "2022-01-19T02:01:43.743770",
     "exception": false,
     "start_time": "2022-01-19T02:01:43.666678",
     "status": "completed"
    },
    "tags": []
   },
   "outputs": [
    {
     "data": {
      "text/plain": [
       "((1231,), (1231, 5), (1231, 128, 128, 1), (1231, 128, 128, 1))"
      ]
     },
     "execution_count": 13,
     "metadata": {},
     "output_type": "execute_result"
    }
   ],
   "source": [
    "y.shape,feature.shape,xs.shape,x_train.shape"
   ]
  },
  {
   "cell_type": "code",
   "execution_count": null,
   "metadata": {
    "papermill": {
     "duration": 0.068345,
     "end_time": "2022-01-19T02:01:43.880983",
     "exception": false,
     "start_time": "2022-01-19T02:01:43.812638",
     "status": "completed"
    },
    "tags": []
   },
   "outputs": [],
   "source": []
  },
  {
   "cell_type": "code",
   "execution_count": 14,
   "metadata": {
    "execution": {
     "iopub.execute_input": "2022-01-19T02:01:44.023795Z",
     "iopub.status.busy": "2022-01-19T02:01:44.022947Z",
     "iopub.status.idle": "2022-01-19T02:01:44.025752Z",
     "shell.execute_reply": "2022-01-19T02:01:44.025344Z",
     "shell.execute_reply.started": "2022-01-19T01:44:14.548382Z"
    },
    "papermill": {
     "duration": 0.07688,
     "end_time": "2022-01-19T02:01:44.025851",
     "exception": false,
     "start_time": "2022-01-19T02:01:43.948971",
     "status": "completed"
    },
    "tags": []
   },
   "outputs": [],
   "source": [
    "import tensorflow as tf\n",
    "import tensorflow.keras.backend as K\n",
    "import tensorflow.keras.layers as L\n",
    "import tensorflow.keras.models as M"
   ]
  },
  {
   "attachments": {
    "2fd0f699-fda2-496a-8fc4-8b9833cc4e04.png": {
     "image/png": "[encoded data removed]"
    }
   },
   "cell_type": "markdown",
   "metadata": {
    "papermill": {
     "duration": 0.068201,
     "end_time": "2022-01-19T02:01:44.163105",
     "exception": false,
     "start_time": "2022-01-19T02:01:44.094904",
     "status": "completed"
    },
    "tags": []
   },
   "source": [
    "![jupyter](./Laplace.png)"
   ]
  },
  {
   "attachments": {
    "14d3d17b-54cd-4447-9102-8af69919b0fb.png": {
     "image/png": "[encoded data removed]"
    }
   },
   "cell_type": "markdown",
   "metadata": {
    "papermill": {
     "duration": 0.140969,
     "end_time": "2022-01-19T02:01:44.415415",
     "exception": false,
     "start_time": "2022-01-19T02:01:44.274446",
     "status": "completed"
    },
    "tags": []
   },
   "source": [
    "![jupyter](./metric.png)"
   ]
  },
  {
   "cell_type": "code",
   "execution_count": 15,
   "metadata": {
    "execution": {
     "iopub.execute_input": "2022-01-19T02:01:44.654868Z",
     "iopub.status.busy": "2022-01-19T02:01:44.654314Z",
     "iopub.status.idle": "2022-01-19T02:01:46.663930Z",
     "shell.execute_reply": "2022-01-19T02:01:46.662836Z",
     "shell.execute_reply.started": "2022-01-19T01:44:21.796161Z"
    },
    "papermill": {
     "duration": 2.133515,
     "end_time": "2022-01-19T02:01:46.664053",
     "exception": false,
     "start_time": "2022-01-19T02:01:44.530538",
     "status": "completed"
    },
    "tags": []
   },
   "outputs": [],
   "source": [
    "C70, C10 = tf.constant(70, dtype='float32'), tf.constant(1000, dtype=\"float32\")\n",
    "#=============================#\n",
    "def LaplaceLogLikelihood(y_true, y_pred):\n",
    "    tf.dtypes.cast(y_true, tf.float32)\n",
    "    tf.dtypes.cast(y_pred, tf.float32)\n",
    "    \n",
    "    sigma_clip = tf.maximum(y_pred[:, 1], C70)\n",
    "    \n",
    "    delta = tf.minimum(tf.abs(y_true[:, 0] - y_pred[:, 0]), C10)\n",
    "  \n",
    "    sq2 = tf.sqrt( tf.dtypes.cast(2, dtype=tf.float32) )\n",
    "    metric = (delta / sigma_clip)*sq2 + tf.math.log(sigma_clip* sq2)\n",
    "    return K.mean(metric)\n",
    "#=============================#\n",
    "def regressionloss (y_true, y_pred):\n",
    "    tf.dtypes.cast(y_true, tf.float32)\n",
    "    tf.dtypes.cast(y_pred, tf.float32)\n",
    "    spread = tf.abs( (y_true[:, 0] -  y_pred[:, 0])  / y_true[:, 0] )\n",
    "    #spred = tf.square(y_true, y_pred[:, 0])\n",
    "    return K.mean(spread)\n",
    "#=============================#\n",
    "\n",
    "def OSICloss(_lambda):\n",
    "    def loss(y_true, y_pred):\n",
    "        return _lambda * LaplaceLogLikelihood(y_true, y_pred) + (1 - _lambda)*regressionloss(y_true, y_pred)\n",
    "    return loss\n",
    "#=================\n"
   ]
  },
  {
   "cell_type": "code",
   "execution_count": null,
   "metadata": {
    "papermill": {
     "duration": 0.0793,
     "end_time": "2022-01-19T02:01:46.820988",
     "exception": false,
     "start_time": "2022-01-19T02:01:46.741688",
     "status": "completed"
    },
    "tags": []
   },
   "outputs": [],
   "source": []
  },
  {
   "cell_type": "code",
   "execution_count": 16,
   "metadata": {
    "execution": {
     "iopub.execute_input": "2022-01-19T02:01:46.993996Z",
     "iopub.status.busy": "2022-01-19T02:01:46.993014Z",
     "iopub.status.idle": "2022-01-19T02:01:46.995546Z",
     "shell.execute_reply": "2022-01-19T02:01:46.995996Z",
     "shell.execute_reply.started": "2022-01-19T01:46:43.803075Z"
    },
    "papermill": {
     "duration": 0.096379,
     "end_time": "2022-01-19T02:01:46.996144",
     "exception": false,
     "start_time": "2022-01-19T02:01:46.899765",
     "status": "completed"
    },
    "tags": []
   },
   "outputs": [],
   "source": [
    "def model_2D():\n",
    "    ct = L.Input((128,128,1),name=\"Ctinput\")  \n",
    "    Patint = L.Input((5,), name=\"Patient\" ) \n",
    "    x =L.Conv2D(64,(6,6),activation=\"relu\",name=\"conv1\")(ct)\n",
    "    x =L.MaxPooling2D(pool_size=(3,3), name='pool1')(x)\n",
    "    \n",
    "    x = L.Conv2D(64,(6,6),activation=\"relu\",name=\"conv2\")(x)\n",
    "    x = L.MaxPooling2D(pool_size=(3,3), name='pool2')(x)\n",
    "    \n",
    "    x = L.Conv2D(128,(6,6),activation=\"relu\",name=\"conv3\")(x)\n",
    "    x = L.MaxPooling2D(pool_size=(2,2), name='pool3')(x)\n",
    "    \n",
    "    x = L.Flatten(name=\"features\")(x)\n",
    "    x = L.Dense(64, activation=\"relu\", name=\"d1\")(x)\n",
    "    P = L.Dense(32, activation=\"relu\", name=\"d2\")(Patint)\n",
    "    x = L.Concatenate(name=\"combine\")([x, P])\n",
    "    x = L.Dense(32, activation=\"relu\", name=\"d3\")(x)\n",
    "    preds = L.Dense(2, activation=\"relu\", name=\"preds\")(x)\n",
    "    \n",
    "    model = M.Model([ct, Patint], preds, name=\"CNN\")\n",
    "    model.compile(loss=OSICloss(0.5), optimizer=\"adam\", metrics=[LaplaceLogLikelihood])\n",
    "    \n",
    "    return model"
   ]
  },
  {
   "cell_type": "code",
   "execution_count": 17,
   "metadata": {
    "execution": {
     "iopub.execute_input": "2022-01-19T02:01:47.159399Z",
     "iopub.status.busy": "2022-01-19T02:01:47.158471Z",
     "iopub.status.idle": "2022-01-19T02:01:47.590846Z",
     "shell.execute_reply": "2022-01-19T02:01:47.590111Z",
     "shell.execute_reply.started": "2022-01-19T01:46:46.009869Z"
    },
    "papermill": {
     "duration": 0.515529,
     "end_time": "2022-01-19T02:01:47.590957",
     "exception": false,
     "start_time": "2022-01-19T02:01:47.075428",
     "status": "completed"
    },
    "tags": []
   },
   "outputs": [
    {
     "name": "stdout",
     "output_type": "stream",
     "text": [
      "Model: \"CNN\"\n",
      "__________________________________________________________________________________________________\n",
      "Layer (type)                    Output Shape         Param #     Connected to                     \n",
      "==================================================================================================\n",
      "Ctinput (InputLayer)            [(None, 128, 128, 1) 0                                            \n",
      "__________________________________________________________________________________________________\n",
      "conv1 (Conv2D)                  (None, 123, 123, 64) 2368        Ctinput[0][0]                    \n",
      "__________________________________________________________________________________________________\n",
      "pool1 (MaxPooling2D)            (None, 41, 41, 64)   0           conv1[0][0]                      \n",
      "__________________________________________________________________________________________________\n",
      "conv2 (Conv2D)                  (None, 36, 36, 64)   147520      pool1[0][0]                      \n",
      "__________________________________________________________________________________________________\n",
      "pool2 (MaxPooling2D)            (None, 12, 12, 64)   0           conv2[0][0]                      \n",
      "__________________________________________________________________________________________________\n",
      "conv3 (Conv2D)                  (None, 7, 7, 128)    295040      pool2[0][0]                      \n",
      "__________________________________________________________________________________________________\n",
      "pool3 (MaxPooling2D)            (None, 3, 3, 128)    0           conv3[0][0]                      \n",
      "__________________________________________________________________________________________________\n",
      "features (Flatten)              (None, 1152)         0           pool3[0][0]                      \n",
      "__________________________________________________________________________________________________\n",
      "Patient (InputLayer)            [(None, 5)]          0                                            \n",
      "__________________________________________________________________________________________________\n",
      "d1 (Dense)                      (None, 64)           73792       features[0][0]                   \n",
      "__________________________________________________________________________________________________\n",
      "d2 (Dense)                      (None, 32)           192         Patient[0][0]                    \n",
      "__________________________________________________________________________________________________\n",
      "combine (Concatenate)           (None, 96)           0           d1[0][0]                         \n",
      "                                                                 d2[0][0]                         \n",
      "__________________________________________________________________________________________________\n",
      "d3 (Dense)                      (None, 32)           3104        combine[0][0]                    \n",
      "__________________________________________________________________________________________________\n",
      "preds (Dense)                   (None, 2)            66          d3[0][0]                         \n",
      "==================================================================================================\n",
      "Total params: 522,082\n",
      "Trainable params: 522,082\n",
      "Non-trainable params: 0\n",
      "__________________________________________________________________________________________________\n",
      "None\n"
     ]
    }
   ],
   "source": [
    "net_2D = model_2D()\n",
    "print(net_2D.summary())"
   ]
  },
  {
   "cell_type": "code",
   "execution_count": 18,
   "metadata": {
    "execution": {
     "iopub.execute_input": "2022-01-19T02:01:47.735420Z",
     "iopub.status.busy": "2022-01-19T02:01:47.734452Z",
     "iopub.status.idle": "2022-01-19T02:01:47.738258Z",
     "shell.execute_reply": "2022-01-19T02:01:47.738635Z",
     "shell.execute_reply.started": "2022-01-19T01:46:49.484859Z"
    },
    "papermill": {
     "duration": 0.07813,
     "end_time": "2022-01-19T02:01:47.738756",
     "exception": false,
     "start_time": "2022-01-19T02:01:47.660626",
     "status": "completed"
    },
    "tags": []
   },
   "outputs": [
    {
     "data": {
      "text/plain": [
       "((1231,), (1231, 5), (1231, 128, 128, 1), (1231, 128, 128, 1))"
      ]
     },
     "execution_count": 18,
     "metadata": {},
     "output_type": "execute_result"
    }
   ],
   "source": [
    "y.shape,feature.shape,xs.shape,x_train.shape"
   ]
  },
  {
   "cell_type": "code",
   "execution_count": 19,
   "metadata": {
    "execution": {
     "iopub.execute_input": "2022-01-19T02:01:47.885058Z",
     "iopub.status.busy": "2022-01-19T02:01:47.884490Z",
     "iopub.status.idle": "2022-01-19T02:02:35.222545Z",
     "shell.execute_reply": "2022-01-19T02:02:35.222950Z",
     "shell.execute_reply.started": "2022-01-19T01:46:50.915890Z"
    },
    "papermill": {
     "duration": 47.415081,
     "end_time": "2022-01-19T02:02:35.223098",
     "exception": false,
     "start_time": "2022-01-19T02:01:47.808017",
     "status": "completed"
    },
    "tags": []
   },
   "outputs": [
    {
     "name": "stdout",
     "output_type": "stream",
     "text": [
      "Epoch 1/100\n",
      "25/25 [==============================] - 0s 19ms/step - loss: 4.8499 - LaplaceLogLikelihood: 9.1987\n",
      "Epoch 2/100\n",
      "25/25 [==============================] - 0s 16ms/step - loss: 4.2966 - LaplaceLogLikelihood: 8.2412\n",
      "Epoch 3/100\n",
      "25/25 [==============================] - 0s 16ms/step - loss: 4.2513 - LaplaceLogLikelihood: 8.1776\n",
      "Epoch 4/100\n",
      "25/25 [==============================] - 0s 17ms/step - loss: 4.1980 - LaplaceLogLikelihood: 8.1078\n",
      "Epoch 5/100\n",
      "25/25 [==============================] - 0s 16ms/step - loss: 4.1812 - LaplaceLogLikelihood: 8.0877\n",
      "Epoch 6/100\n",
      "25/25 [==============================] - 0s 16ms/step - loss: 4.1183 - LaplaceLogLikelihood: 7.9887\n",
      "Epoch 7/100\n",
      "25/25 [==============================] - 0s 18ms/step - loss: 4.1031 - LaplaceLogLikelihood: 7.9661\n",
      "Epoch 8/100\n",
      "25/25 [==============================] - 0s 18ms/step - loss: 4.1204 - LaplaceLogLikelihood: 7.9862\n",
      "Epoch 9/100\n",
      "25/25 [==============================] - 1s 21ms/step - loss: 4.0496 - LaplaceLogLikelihood: 7.8747\n",
      "Epoch 10/100\n",
      "25/25 [==============================] - 0s 18ms/step - loss: 4.0287 - LaplaceLogLikelihood: 7.8459\n",
      "Epoch 11/100\n",
      "25/25 [==============================] - 0s 16ms/step - loss: 4.0690 - LaplaceLogLikelihood: 7.9073\n",
      "Epoch 12/100\n",
      "25/25 [==============================] - 0s 17ms/step - loss: 4.0879 - LaplaceLogLikelihood: 7.9443\n",
      "Epoch 13/100\n",
      "25/25 [==============================] - 0s 17ms/step - loss: 4.0025 - LaplaceLogLikelihood: 7.8034\n",
      "Epoch 14/100\n",
      "25/25 [==============================] - 0s 16ms/step - loss: 4.0350 - LaplaceLogLikelihood: 7.8576\n",
      "Epoch 15/100\n",
      "25/25 [==============================] - 0s 16ms/step - loss: 4.0036 - LaplaceLogLikelihood: 7.8034\n",
      "Epoch 16/100\n",
      "25/25 [==============================] - 0s 16ms/step - loss: 3.9238 - LaplaceLogLikelihood: 7.6634\n",
      "Epoch 17/100\n",
      "25/25 [==============================] - 0s 16ms/step - loss: 3.9557 - LaplaceLogLikelihood: 7.7255\n",
      "Epoch 18/100\n",
      "25/25 [==============================] - 0s 17ms/step - loss: 3.8953 - LaplaceLogLikelihood: 7.6155\n",
      "Epoch 19/100\n",
      "25/25 [==============================] - 0s 16ms/step - loss: 3.9086 - LaplaceLogLikelihood: 7.6401\n",
      "Epoch 20/100\n",
      "25/25 [==============================] - 0s 16ms/step - loss: 3.9247 - LaplaceLogLikelihood: 7.6720\n",
      "Epoch 21/100\n",
      "25/25 [==============================] - 0s 17ms/step - loss: 3.9225 - LaplaceLogLikelihood: 7.6732\n",
      "Epoch 22/100\n",
      "25/25 [==============================] - 0s 17ms/step - loss: 3.9335 - LaplaceLogLikelihood: 7.6873\n",
      "Epoch 23/100\n",
      "25/25 [==============================] - 0s 17ms/step - loss: 3.8699 - LaplaceLogLikelihood: 7.5760\n",
      "Epoch 24/100\n",
      "25/25 [==============================] - 0s 17ms/step - loss: 3.8142 - LaplaceLogLikelihood: 7.4758\n",
      "Epoch 25/100\n",
      "25/25 [==============================] - 0s 17ms/step - loss: 3.7542 - LaplaceLogLikelihood: 7.3767\n",
      "Epoch 26/100\n",
      "25/25 [==============================] - 0s 16ms/step - loss: 3.7872 - LaplaceLogLikelihood: 7.4340\n",
      "Epoch 27/100\n",
      "25/25 [==============================] - 0s 17ms/step - loss: 3.7404 - LaplaceLogLikelihood: 7.3596\n",
      "Epoch 28/100\n",
      "25/25 [==============================] - 0s 17ms/step - loss: 3.8059 - LaplaceLogLikelihood: 7.4694\n",
      "Epoch 29/100\n",
      "25/25 [==============================] - 0s 16ms/step - loss: 3.7539 - LaplaceLogLikelihood: 7.3779\n",
      "Epoch 30/100\n",
      "25/25 [==============================] - 0s 16ms/step - loss: 3.7106 - LaplaceLogLikelihood: 7.2999\n",
      "Epoch 31/100\n",
      "25/25 [==============================] - 0s 16ms/step - loss: 3.8256 - LaplaceLogLikelihood: 7.5078\n",
      "Epoch 32/100\n",
      "25/25 [==============================] - 0s 17ms/step - loss: 3.7821 - LaplaceLogLikelihood: 7.4271\n",
      "Epoch 33/100\n",
      "25/25 [==============================] - 0s 16ms/step - loss: 3.7179 - LaplaceLogLikelihood: 7.3060\n",
      "Epoch 34/100\n",
      "25/25 [==============================] - 0s 18ms/step - loss: 3.7214 - LaplaceLogLikelihood: 7.3181\n",
      "Epoch 35/100\n",
      "25/25 [==============================] - 0s 18ms/step - loss: 3.6905 - LaplaceLogLikelihood: 7.2649\n",
      "Epoch 36/100\n",
      "25/25 [==============================] - 0s 17ms/step - loss: 3.6565 - LaplaceLogLikelihood: 7.2006\n",
      "Epoch 37/100\n",
      "25/25 [==============================] - 0s 16ms/step - loss: 3.6166 - LaplaceLogLikelihood: 7.1228\n",
      "Epoch 38/100\n",
      "25/25 [==============================] - 0s 16ms/step - loss: 3.6852 - LaplaceLogLikelihood: 7.2583\n",
      "Epoch 39/100\n",
      "25/25 [==============================] - 0s 16ms/step - loss: 3.6563 - LaplaceLogLikelihood: 7.2060\n",
      "Epoch 40/100\n",
      "25/25 [==============================] - 0s 16ms/step - loss: 3.5711 - LaplaceLogLikelihood: 7.0441\n",
      "Epoch 41/100\n",
      "25/25 [==============================] - 0s 16ms/step - loss: 3.5693 - LaplaceLogLikelihood: 7.0415\n",
      "Epoch 42/100\n",
      "25/25 [==============================] - 0s 16ms/step - loss: 3.5941 - LaplaceLogLikelihood: 7.0856\n",
      "Epoch 43/100\n",
      "25/25 [==============================] - 0s 17ms/step - loss: 3.6307 - LaplaceLogLikelihood: 7.1567\n",
      "Epoch 44/100\n",
      "25/25 [==============================] - 0s 17ms/step - loss: 3.5930 - LaplaceLogLikelihood: 7.0929\n",
      "Epoch 45/100\n",
      "25/25 [==============================] - 0s 16ms/step - loss: 3.6227 - LaplaceLogLikelihood: 7.1368\n",
      "Epoch 46/100\n",
      "25/25 [==============================] - 0s 17ms/step - loss: 3.5275 - LaplaceLogLikelihood: 6.9590\n",
      "Epoch 47/100\n",
      "25/25 [==============================] - 0s 16ms/step - loss: 3.5487 - LaplaceLogLikelihood: 7.0052\n",
      "Epoch 48/100\n",
      "25/25 [==============================] - 0s 16ms/step - loss: 3.5399 - LaplaceLogLikelihood: 6.9942\n",
      "Epoch 49/100\n",
      "25/25 [==============================] - 0s 16ms/step - loss: 3.6570 - LaplaceLogLikelihood: 7.2179\n",
      "Epoch 50/100\n",
      "25/25 [==============================] - 0s 16ms/step - loss: 3.6791 - LaplaceLogLikelihood: 7.2465\n",
      "Epoch 51/100\n",
      "25/25 [==============================] - 0s 16ms/step - loss: 3.5204 - LaplaceLogLikelihood: 6.9469\n",
      "Epoch 52/100\n",
      "25/25 [==============================] - 0s 16ms/step - loss: 3.6048 - LaplaceLogLikelihood: 7.1099\n",
      "Epoch 53/100\n",
      "25/25 [==============================] - 0s 17ms/step - loss: 3.5177 - LaplaceLogLikelihood: 6.9464\n",
      "Epoch 54/100\n",
      "25/25 [==============================] - 0s 16ms/step - loss: 3.4770 - LaplaceLogLikelihood: 6.8734\n",
      "Epoch 55/100\n",
      "25/25 [==============================] - 0s 17ms/step - loss: 3.4925 - LaplaceLogLikelihood: 6.9046\n",
      "Epoch 56/100\n",
      "25/25 [==============================] - 0s 16ms/step - loss: 3.5293 - LaplaceLogLikelihood: 6.9707\n",
      "Epoch 57/100\n",
      "25/25 [==============================] - 0s 16ms/step - loss: 3.4549 - LaplaceLogLikelihood: 6.8316\n",
      "Epoch 58/100\n",
      "25/25 [==============================] - 0s 16ms/step - loss: 3.5365 - LaplaceLogLikelihood: 6.9821\n",
      "Epoch 59/100\n",
      "25/25 [==============================] - 0s 17ms/step - loss: 3.4419 - LaplaceLogLikelihood: 6.8170\n",
      "Epoch 60/100\n",
      "25/25 [==============================] - 0s 18ms/step - loss: 3.5668 - LaplaceLogLikelihood: 7.0416\n",
      "Epoch 61/100\n",
      "25/25 [==============================] - 0s 17ms/step - loss: 3.4611 - LaplaceLogLikelihood: 6.8458\n",
      "Epoch 62/100\n",
      "25/25 [==============================] - 0s 17ms/step - loss: 3.4885 - LaplaceLogLikelihood: 6.9006\n",
      "Epoch 63/100\n",
      "25/25 [==============================] - 0s 16ms/step - loss: 3.4462 - LaplaceLogLikelihood: 6.8154\n",
      "Epoch 64/100\n",
      "25/25 [==============================] - 0s 16ms/step - loss: 3.4245 - LaplaceLogLikelihood: 6.7752\n",
      "Epoch 65/100\n",
      "25/25 [==============================] - 0s 16ms/step - loss: 3.3947 - LaplaceLogLikelihood: 6.7285\n",
      "Epoch 66/100\n",
      "25/25 [==============================] - 0s 16ms/step - loss: 3.4902 - LaplaceLogLikelihood: 6.9021\n",
      "Epoch 67/100\n",
      "25/25 [==============================] - 0s 16ms/step - loss: 3.4459 - LaplaceLogLikelihood: 6.8200\n",
      "Epoch 68/100\n",
      "25/25 [==============================] - 0s 16ms/step - loss: 3.4093 - LaplaceLogLikelihood: 6.7494\n",
      "Epoch 69/100\n",
      "25/25 [==============================] - 0s 16ms/step - loss: 3.4238 - LaplaceLogLikelihood: 6.7798\n",
      "Epoch 70/100\n",
      "25/25 [==============================] - 0s 17ms/step - loss: 3.3797 - LaplaceLogLikelihood: 6.6901\n",
      "Epoch 71/100\n",
      "25/25 [==============================] - 0s 16ms/step - loss: 3.3450 - LaplaceLogLikelihood: 6.6272\n",
      "Epoch 72/100\n",
      "25/25 [==============================] - 0s 16ms/step - loss: 3.3869 - LaplaceLogLikelihood: 6.7100\n",
      "Epoch 73/100\n",
      "25/25 [==============================] - 0s 17ms/step - loss: 3.3383 - LaplaceLogLikelihood: 6.6152\n",
      "Epoch 74/100\n",
      "25/25 [==============================] - 0s 16ms/step - loss: 3.3350 - LaplaceLogLikelihood: 6.6112\n",
      "Epoch 75/100\n",
      "25/25 [==============================] - 0s 16ms/step - loss: 3.3634 - LaplaceLogLikelihood: 6.6656\n",
      "Epoch 76/100\n",
      "25/25 [==============================] - 0s 16ms/step - loss: 3.3376 - LaplaceLogLikelihood: 6.6116\n",
      "Epoch 77/100\n",
      "25/25 [==============================] - 0s 16ms/step - loss: 3.3322 - LaplaceLogLikelihood: 6.6091\n",
      "Epoch 78/100\n",
      "25/25 [==============================] - 0s 16ms/step - loss: 3.2966 - LaplaceLogLikelihood: 6.5321\n",
      "Epoch 79/100\n",
      "25/25 [==============================] - 0s 16ms/step - loss: 3.3724 - LaplaceLogLikelihood: 6.6823\n",
      "Epoch 80/100\n",
      "25/25 [==============================] - 0s 16ms/step - loss: 3.3597 - LaplaceLogLikelihood: 6.6566\n",
      "Epoch 81/100\n",
      "25/25 [==============================] - 0s 17ms/step - loss: 3.3250 - LaplaceLogLikelihood: 6.5891\n",
      "Epoch 82/100\n",
      "25/25 [==============================] - 0s 18ms/step - loss: 3.3853 - LaplaceLogLikelihood: 6.7087\n",
      "Epoch 83/100\n",
      "25/25 [==============================] - 0s 18ms/step - loss: 3.3974 - LaplaceLogLikelihood: 6.7281\n",
      "Epoch 84/100\n",
      "25/25 [==============================] - 0s 19ms/step - loss: 3.3419 - LaplaceLogLikelihood: 6.6219\n",
      "Epoch 85/100\n",
      "25/25 [==============================] - 0s 18ms/step - loss: 3.3306 - LaplaceLogLikelihood: 6.5963\n",
      "Epoch 86/100\n",
      "25/25 [==============================] - 0s 17ms/step - loss: 3.2684 - LaplaceLogLikelihood: 6.4832\n",
      "Epoch 87/100\n",
      "25/25 [==============================] - 0s 16ms/step - loss: 3.3486 - LaplaceLogLikelihood: 6.6382\n",
      "Epoch 88/100\n",
      "25/25 [==============================] - 0s 16ms/step - loss: 3.3645 - LaplaceLogLikelihood: 6.6613\n",
      "Epoch 89/100\n",
      "25/25 [==============================] - 0s 16ms/step - loss: 3.2795 - LaplaceLogLikelihood: 6.4994\n",
      "Epoch 90/100\n",
      "25/25 [==============================] - 0s 16ms/step - loss: 3.2484 - LaplaceLogLikelihood: 6.4499\n",
      "Epoch 91/100\n",
      "25/25 [==============================] - 0s 17ms/step - loss: 3.2597 - LaplaceLogLikelihood: 6.4619\n",
      "Epoch 92/100\n",
      "25/25 [==============================] - 0s 16ms/step - loss: 3.3539 - LaplaceLogLikelihood: 6.6458\n",
      "Epoch 93/100\n",
      "25/25 [==============================] - 0s 16ms/step - loss: 3.2531 - LaplaceLogLikelihood: 6.4522\n",
      "Epoch 94/100\n",
      "25/25 [==============================] - 0s 16ms/step - loss: 3.1921 - LaplaceLogLikelihood: 6.3344\n",
      "Epoch 95/100\n",
      "25/25 [==============================] - 0s 16ms/step - loss: 3.2160 - LaplaceLogLikelihood: 6.3789\n",
      "Epoch 96/100\n",
      "25/25 [==============================] - 0s 17ms/step - loss: 3.3332 - LaplaceLogLikelihood: 6.6041\n",
      "Epoch 97/100\n",
      "25/25 [==============================] - 0s 17ms/step - loss: 3.2866 - LaplaceLogLikelihood: 6.5161\n",
      "Epoch 98/100\n",
      "25/25 [==============================] - 0s 17ms/step - loss: 3.1957 - LaplaceLogLikelihood: 6.3433\n",
      "Epoch 99/100\n",
      "25/25 [==============================] - 0s 16ms/step - loss: 3.1838 - LaplaceLogLikelihood: 6.3220\n",
      "Epoch 100/100\n",
      "25/25 [==============================] - 0s 16ms/step - loss: 3.2225 - LaplaceLogLikelihood: 6.3901\n"
     ]
    },
    {
     "data": {
      "text/plain": [
       "<tensorflow.python.keras.callbacks.History at 0x7f00441e3350>"
      ]
     },
     "execution_count": 19,
     "metadata": {},
     "output_type": "execute_result"
    }
   ],
   "source": [
    "net_2D.fit([x_train, feature], y, batch_size=50, epochs=100)"
   ]
  },
  {
   "cell_type": "code",
   "execution_count": null,
   "metadata": {
    "papermill": {
     "duration": 0.323117,
     "end_time": "2022-01-19T02:02:35.885920",
     "exception": false,
     "start_time": "2022-01-19T02:02:35.562803",
     "status": "completed"
    },
    "tags": []
   },
   "outputs": [],
   "source": []
  },
  {
   "cell_type": "code",
   "execution_count": null,
   "metadata": {
    "papermill": {
     "duration": 0.367838,
     "end_time": "2022-01-19T02:02:36.578069",
     "exception": false,
     "start_time": "2022-01-19T02:02:36.210231",
     "status": "completed"
    },
    "tags": []
   },
   "outputs": [],
   "source": []
  },
  {
   "cell_type": "code",
   "execution_count": null,
   "metadata": {
    "papermill": {
     "duration": 0.324064,
     "end_time": "2022-01-19T02:02:37.224307",
     "exception": false,
     "start_time": "2022-01-19T02:02:36.900243",
     "status": "completed"
    },
    "tags": []
   },
   "outputs": [],
   "source": []
  },
  {
   "cell_type": "code",
   "execution_count": 20,
   "metadata": {
    "execution": {
     "iopub.execute_input": "2022-01-19T02:02:37.897860Z",
     "iopub.status.busy": "2022-01-19T02:02:37.896978Z",
     "iopub.status.idle": "2022-01-19T02:02:37.899850Z",
     "shell.execute_reply": "2022-01-19T02:02:37.899408Z",
     "shell.execute_reply.started": "2022-01-19T01:50:28.975476Z"
    },
    "papermill": {
     "duration": 0.339166,
     "end_time": "2022-01-19T02:02:37.899942",
     "exception": false,
     "start_time": "2022-01-19T02:02:37.560776",
     "status": "completed"
    },
    "tags": []
   },
   "outputs": [],
   "source": [
    "def model_1D():\n",
    "    ct = L.Input((128,128), name=\"input\")\n",
    "    Patint = L.Input((5,), name=\"Patient\")\n",
    "    x = L.Conv1D(50, 4, activation=\"relu\", name=\"conv1\")(ct)\n",
    "    x = L.MaxPool1D(2, name='pool1')(x)\n",
    "    \n",
    "    \n",
    "    x = L.Conv1D(50, 4, activation=\"relu\", name=\"conv2\")(x)\n",
    "    x = L.MaxPool1D(2, name='pool2')(x)\n",
    "    \n",
    "  \n",
    "    x = L.Conv1D(50, 4, activation=\"relu\", name=\"conv3\")(x)\n",
    "    x = L.MaxPool1D(2, name='pool3')(x)\n",
    "    \n",
    "    x = L.Flatten(name=\"features\")(x)\n",
    "    x = L.Dense(50, activation=\"relu\", name=\"d1\")(x)\n",
    "    l = L.Dense(10, activation=\"relu\", name=\"d2\")(Patint)\n",
    "    x = L.Concatenate(name=\"combine\")([x, l])\n",
    "    x = L.Dense(50, activation=\"relu\", name=\"d3\")(x)\n",
    "    preds = L.Dense(2, activation=\"relu\", name=\"preds\")(x)\n",
    "    \n",
    "    model = M.Model([ct, Patint], preds, name=\"CNN\")\n",
    "    model.compile(loss=OSICloss(0.5), optimizer=\"adam\", metrics=[LaplaceLogLikelihood])\n",
    "   \n",
    "    return model"
   ]
  },
  {
   "cell_type": "code",
   "execution_count": 21,
   "metadata": {
    "execution": {
     "iopub.execute_input": "2022-01-19T02:02:38.575320Z",
     "iopub.status.busy": "2022-01-19T02:02:38.574458Z",
     "iopub.status.idle": "2022-01-19T02:02:38.672396Z",
     "shell.execute_reply": "2022-01-19T02:02:38.671280Z",
     "shell.execute_reply.started": "2022-01-19T01:50:30.690162Z"
    },
    "papermill": {
     "duration": 0.444048,
     "end_time": "2022-01-19T02:02:38.672564",
     "exception": false,
     "start_time": "2022-01-19T02:02:38.228516",
     "status": "completed"
    },
    "tags": []
   },
   "outputs": [
    {
     "name": "stdout",
     "output_type": "stream",
     "text": [
      "Model: \"CNN\"\n",
      "__________________________________________________________________________________________________\n",
      "Layer (type)                    Output Shape         Param #     Connected to                     \n",
      "==================================================================================================\n",
      "input (InputLayer)              [(None, 128, 128)]   0                                            \n",
      "__________________________________________________________________________________________________\n",
      "conv1 (Conv1D)                  (None, 125, 50)      25650       input[0][0]                      \n",
      "__________________________________________________________________________________________________\n",
      "pool1 (MaxPooling1D)            (None, 62, 50)       0           conv1[0][0]                      \n",
      "__________________________________________________________________________________________________\n",
      "conv2 (Conv1D)                  (None, 59, 50)       10050       pool1[0][0]                      \n",
      "__________________________________________________________________________________________________\n",
      "pool2 (MaxPooling1D)            (None, 29, 50)       0           conv2[0][0]                      \n",
      "__________________________________________________________________________________________________\n",
      "conv3 (Conv1D)                  (None, 26, 50)       10050       pool2[0][0]                      \n",
      "__________________________________________________________________________________________________\n",
      "pool3 (MaxPooling1D)            (None, 13, 50)       0           conv3[0][0]                      \n",
      "__________________________________________________________________________________________________\n",
      "features (Flatten)              (None, 650)          0           pool3[0][0]                      \n",
      "__________________________________________________________________________________________________\n",
      "Patient (InputLayer)            [(None, 5)]          0                                            \n",
      "__________________________________________________________________________________________________\n",
      "d1 (Dense)                      (None, 50)           32550       features[0][0]                   \n",
      "__________________________________________________________________________________________________\n",
      "d2 (Dense)                      (None, 10)           60          Patient[0][0]                    \n",
      "__________________________________________________________________________________________________\n",
      "combine (Concatenate)           (None, 60)           0           d1[0][0]                         \n",
      "                                                                 d2[0][0]                         \n",
      "__________________________________________________________________________________________________\n",
      "d3 (Dense)                      (None, 50)           3050        combine[0][0]                    \n",
      "__________________________________________________________________________________________________\n",
      "preds (Dense)                   (None, 2)            102         d3[0][0]                         \n",
      "==================================================================================================\n",
      "Total params: 81,512\n",
      "Trainable params: 81,512\n",
      "Non-trainable params: 0\n",
      "__________________________________________________________________________________________________\n",
      "None\n"
     ]
    }
   ],
   "source": [
    "net_1D = model_1D()\n",
    "print(net_1D.summary())"
   ]
  },
  {
   "cell_type": "code",
   "execution_count": 22,
   "metadata": {
    "execution": {
     "iopub.execute_input": "2022-01-19T02:02:39.474498Z",
     "iopub.status.busy": "2022-01-19T02:02:39.473667Z",
     "iopub.status.idle": "2022-01-19T02:02:39.479867Z",
     "shell.execute_reply": "2022-01-19T02:02:39.480555Z",
     "shell.execute_reply.started": "2022-01-19T01:50:46.389349Z"
    },
    "papermill": {
     "duration": 0.480562,
     "end_time": "2022-01-19T02:02:39.480721",
     "exception": false,
     "start_time": "2022-01-19T02:02:39.000159",
     "status": "completed"
    },
    "tags": []
   },
   "outputs": [
    {
     "data": {
      "text/plain": [
       "((1231,), (1231, 5), (1231, 128, 128, 1), (1231, 128, 128, 1))"
      ]
     },
     "execution_count": 22,
     "metadata": {},
     "output_type": "execute_result"
    }
   ],
   "source": [
    "y.shape,feature.shape,xs.shape,x_train.shape"
   ]
  },
  {
   "cell_type": "code",
   "execution_count": 23,
   "metadata": {
    "execution": {
     "iopub.execute_input": "2022-01-19T02:02:40.255755Z",
     "iopub.status.busy": "2022-01-19T02:02:40.254702Z",
     "iopub.status.idle": "2022-01-19T02:02:53.938367Z",
     "shell.execute_reply": "2022-01-19T02:02:53.937795Z",
     "shell.execute_reply.started": "2022-01-19T01:50:48.761249Z"
    },
    "papermill": {
     "duration": 14.011968,
     "end_time": "2022-01-19T02:02:53.938529",
     "exception": false,
     "start_time": "2022-01-19T02:02:39.926561",
     "status": "completed"
    },
    "tags": []
   },
   "outputs": [
    {
     "name": "stdout",
     "output_type": "stream",
     "text": [
      "Epoch 1/100\n",
      "25/25 [==============================] - 0s 7ms/step - loss: 4.8235 - LaplaceLogLikelihood: 8.6465\n",
      "Epoch 2/100\n",
      "25/25 [==============================] - 0s 5ms/step - loss: 4.8037 - LaplaceLogLikelihood: 8.6073\n",
      "Epoch 3/100\n",
      "25/25 [==============================] - 0s 5ms/step - loss: 4.8020 - LaplaceLogLikelihood: 8.6040\n",
      "Epoch 4/100\n",
      "25/25 [==============================] - 0s 4ms/step - loss: 4.8016 - LaplaceLogLikelihood: 8.6033\n",
      "Epoch 5/100\n",
      "25/25 [==============================] - 0s 5ms/step - loss: 4.8013 - LaplaceLogLikelihood: 8.6025\n",
      "Epoch 6/100\n",
      "25/25 [==============================] - 0s 4ms/step - loss: 4.8009 - LaplaceLogLikelihood: 8.6017\n",
      "Epoch 7/100\n",
      "25/25 [==============================] - 0s 4ms/step - loss: 4.6476 - LaplaceLogLikelihood: 8.5052\n",
      "Epoch 8/100\n",
      "25/25 [==============================] - 0s 5ms/step - loss: 4.2501 - LaplaceLogLikelihood: 8.1844\n",
      "Epoch 9/100\n",
      "25/25 [==============================] - 0s 4ms/step - loss: 4.2129 - LaplaceLogLikelihood: 8.1264\n",
      "Epoch 10/100\n",
      "25/25 [==============================] - 0s 5ms/step - loss: 4.1644 - LaplaceLogLikelihood: 8.0535\n",
      "Epoch 11/100\n",
      "25/25 [==============================] - 0s 5ms/step - loss: 4.0750 - LaplaceLogLikelihood: 7.9134\n",
      "Epoch 12/100\n",
      "25/25 [==============================] - 0s 5ms/step - loss: 4.0441 - LaplaceLogLikelihood: 7.8717\n",
      "Epoch 13/100\n",
      "25/25 [==============================] - 0s 5ms/step - loss: 4.0614 - LaplaceLogLikelihood: 7.8959\n",
      "Epoch 14/100\n",
      "25/25 [==============================] - 0s 5ms/step - loss: 4.0337 - LaplaceLogLikelihood: 7.8496\n",
      "Epoch 15/100\n",
      "25/25 [==============================] - 0s 5ms/step - loss: 4.0286 - LaplaceLogLikelihood: 7.8417\n",
      "Epoch 16/100\n",
      "25/25 [==============================] - 0s 5ms/step - loss: 4.0300 - LaplaceLogLikelihood: 7.8447\n",
      "Epoch 17/100\n",
      "25/25 [==============================] - 0s 5ms/step - loss: 3.9626 - LaplaceLogLikelihood: 7.7319\n",
      "Epoch 18/100\n",
      "25/25 [==============================] - 0s 5ms/step - loss: 3.9020 - LaplaceLogLikelihood: 7.6336\n",
      "Epoch 19/100\n",
      "25/25 [==============================] - 0s 5ms/step - loss: 3.8696 - LaplaceLogLikelihood: 7.5702\n",
      "Epoch 20/100\n",
      "25/25 [==============================] - 0s 5ms/step - loss: 3.8339 - LaplaceLogLikelihood: 7.5133\n",
      "Epoch 21/100\n",
      "25/25 [==============================] - 0s 5ms/step - loss: 3.8229 - LaplaceLogLikelihood: 7.4925\n",
      "Epoch 22/100\n",
      "25/25 [==============================] - 0s 5ms/step - loss: 3.8161 - LaplaceLogLikelihood: 7.4813\n",
      "Epoch 23/100\n",
      "25/25 [==============================] - 0s 4ms/step - loss: 3.7800 - LaplaceLogLikelihood: 7.4117\n",
      "Epoch 24/100\n",
      "25/25 [==============================] - 0s 5ms/step - loss: 3.8151 - LaplaceLogLikelihood: 7.4848\n",
      "Epoch 25/100\n",
      "25/25 [==============================] - 0s 4ms/step - loss: 3.8788 - LaplaceLogLikelihood: 7.5972\n",
      "Epoch 26/100\n",
      "25/25 [==============================] - 0s 5ms/step - loss: 3.7747 - LaplaceLogLikelihood: 7.4095\n",
      "Epoch 27/100\n",
      "25/25 [==============================] - 0s 5ms/step - loss: 3.7226 - LaplaceLogLikelihood: 7.3110\n",
      "Epoch 28/100\n",
      "25/25 [==============================] - 0s 5ms/step - loss: 3.7047 - LaplaceLogLikelihood: 7.2796\n",
      "Epoch 29/100\n",
      "25/25 [==============================] - 0s 5ms/step - loss: 3.6796 - LaplaceLogLikelihood: 7.2374\n",
      "Epoch 30/100\n",
      "25/25 [==============================] - 0s 5ms/step - loss: 3.7461 - LaplaceLogLikelihood: 7.3502\n",
      "Epoch 31/100\n",
      "25/25 [==============================] - 0s 5ms/step - loss: 3.7515 - LaplaceLogLikelihood: 7.3691\n",
      "Epoch 32/100\n",
      "25/25 [==============================] - 0s 5ms/step - loss: 3.7338 - LaplaceLogLikelihood: 7.3349\n",
      "Epoch 33/100\n",
      "25/25 [==============================] - 0s 5ms/step - loss: 3.7233 - LaplaceLogLikelihood: 7.3106\n",
      "Epoch 34/100\n",
      "25/25 [==============================] - 0s 5ms/step - loss: 3.6331 - LaplaceLogLikelihood: 7.1501\n",
      "Epoch 35/100\n",
      "25/25 [==============================] - 0s 5ms/step - loss: 3.5846 - LaplaceLogLikelihood: 7.0658\n",
      "Epoch 36/100\n",
      "25/25 [==============================] - 0s 4ms/step - loss: 3.5977 - LaplaceLogLikelihood: 7.0838\n",
      "Epoch 37/100\n",
      "25/25 [==============================] - 0s 4ms/step - loss: 3.5676 - LaplaceLogLikelihood: 7.0294\n",
      "Epoch 38/100\n",
      "25/25 [==============================] - 0s 5ms/step - loss: 3.6020 - LaplaceLogLikelihood: 7.0917\n",
      "Epoch 39/100\n",
      "25/25 [==============================] - 0s 5ms/step - loss: 3.6033 - LaplaceLogLikelihood: 7.0935\n",
      "Epoch 40/100\n",
      "25/25 [==============================] - 0s 5ms/step - loss: 3.5732 - LaplaceLogLikelihood: 7.0436\n",
      "Epoch 41/100\n",
      "25/25 [==============================] - 0s 5ms/step - loss: 3.6340 - LaplaceLogLikelihood: 7.1555\n",
      "Epoch 42/100\n",
      "25/25 [==============================] - 0s 5ms/step - loss: 3.5120 - LaplaceLogLikelihood: 6.9282\n",
      "Epoch 43/100\n",
      "25/25 [==============================] - 0s 4ms/step - loss: 3.5855 - LaplaceLogLikelihood: 7.0629\n",
      "Epoch 44/100\n",
      "25/25 [==============================] - 0s 5ms/step - loss: 3.5127 - LaplaceLogLikelihood: 6.9266\n",
      "Epoch 45/100\n",
      "25/25 [==============================] - 0s 5ms/step - loss: 3.4728 - LaplaceLogLikelihood: 6.8552\n",
      "Epoch 46/100\n",
      "25/25 [==============================] - 0s 5ms/step - loss: 3.4973 - LaplaceLogLikelihood: 6.8950\n",
      "Epoch 47/100\n",
      "25/25 [==============================] - 0s 5ms/step - loss: 3.5260 - LaplaceLogLikelihood: 6.9558\n",
      "Epoch 48/100\n",
      "25/25 [==============================] - 0s 5ms/step - loss: 3.5713 - LaplaceLogLikelihood: 7.0360\n",
      "Epoch 49/100\n",
      "25/25 [==============================] - 0s 5ms/step - loss: 3.5409 - LaplaceLogLikelihood: 6.9790\n",
      "Epoch 50/100\n",
      "25/25 [==============================] - 0s 5ms/step - loss: 3.4884 - LaplaceLogLikelihood: 6.8866\n",
      "Epoch 51/100\n",
      "25/25 [==============================] - 0s 5ms/step - loss: 3.4664 - LaplaceLogLikelihood: 6.8435\n",
      "Epoch 52/100\n",
      "25/25 [==============================] - 0s 5ms/step - loss: 3.4675 - LaplaceLogLikelihood: 6.8482\n",
      "Epoch 53/100\n",
      "25/25 [==============================] - 0s 5ms/step - loss: 3.4855 - LaplaceLogLikelihood: 6.8785\n",
      "Epoch 54/100\n",
      "25/25 [==============================] - 0s 5ms/step - loss: 3.4140 - LaplaceLogLikelihood: 6.7439\n",
      "Epoch 55/100\n",
      "25/25 [==============================] - 0s 4ms/step - loss: 3.4830 - LaplaceLogLikelihood: 6.8744\n",
      "Epoch 56/100\n",
      "25/25 [==============================] - 0s 4ms/step - loss: 3.4304 - LaplaceLogLikelihood: 6.7743\n",
      "Epoch 57/100\n",
      "25/25 [==============================] - 0s 4ms/step - loss: 3.5106 - LaplaceLogLikelihood: 6.9327\n",
      "Epoch 58/100\n",
      "25/25 [==============================] - 0s 5ms/step - loss: 3.4866 - LaplaceLogLikelihood: 6.8819\n",
      "Epoch 59/100\n",
      "25/25 [==============================] - 0s 5ms/step - loss: 3.4761 - LaplaceLogLikelihood: 6.8566\n",
      "Epoch 60/100\n",
      "25/25 [==============================] - 0s 4ms/step - loss: 3.4802 - LaplaceLogLikelihood: 6.8680\n",
      "Epoch 61/100\n",
      "25/25 [==============================] - 0s 4ms/step - loss: 3.4557 - LaplaceLogLikelihood: 6.8257\n",
      "Epoch 62/100\n",
      "25/25 [==============================] - 0s 5ms/step - loss: 3.4268 - LaplaceLogLikelihood: 6.7648\n",
      "Epoch 63/100\n",
      "25/25 [==============================] - 0s 5ms/step - loss: 3.4543 - LaplaceLogLikelihood: 6.8195\n",
      "Epoch 64/100\n",
      "25/25 [==============================] - 0s 5ms/step - loss: 3.3868 - LaplaceLogLikelihood: 6.6940\n",
      "Epoch 65/100\n",
      "25/25 [==============================] - 0s 5ms/step - loss: 3.3656 - LaplaceLogLikelihood: 6.6548\n",
      "Epoch 66/100\n",
      "25/25 [==============================] - 0s 4ms/step - loss: 3.3914 - LaplaceLogLikelihood: 6.7064\n",
      "Epoch 67/100\n",
      "25/25 [==============================] - 0s 4ms/step - loss: 3.4369 - LaplaceLogLikelihood: 6.7905\n",
      "Epoch 68/100\n",
      "25/25 [==============================] - 0s 5ms/step - loss: 3.3184 - LaplaceLogLikelihood: 6.5658\n",
      "Epoch 69/100\n",
      "25/25 [==============================] - 0s 4ms/step - loss: 3.3819 - LaplaceLogLikelihood: 6.6843\n",
      "Epoch 70/100\n",
      "25/25 [==============================] - 0s 5ms/step - loss: 3.3939 - LaplaceLogLikelihood: 6.7070\n",
      "Epoch 71/100\n",
      "25/25 [==============================] - 0s 5ms/step - loss: 3.3057 - LaplaceLogLikelihood: 6.5412\n",
      "Epoch 72/100\n",
      "25/25 [==============================] - 0s 8ms/step - loss: 3.3266 - LaplaceLogLikelihood: 6.5845\n",
      "Epoch 73/100\n",
      "25/25 [==============================] - 0s 6ms/step - loss: 3.2919 - LaplaceLogLikelihood: 6.5157\n",
      "Epoch 74/100\n",
      "25/25 [==============================] - 0s 6ms/step - loss: 3.3768 - LaplaceLogLikelihood: 6.6783\n",
      "Epoch 75/100\n",
      "25/25 [==============================] - 0s 6ms/step - loss: 3.2913 - LaplaceLogLikelihood: 6.5131\n",
      "Epoch 76/100\n",
      "25/25 [==============================] - 0s 6ms/step - loss: 3.3458 - LaplaceLogLikelihood: 6.6147\n",
      "Epoch 77/100\n",
      "25/25 [==============================] - 0s 5ms/step - loss: 3.3759 - LaplaceLogLikelihood: 6.6771\n",
      "Epoch 78/100\n",
      "25/25 [==============================] - 0s 5ms/step - loss: 3.3255 - LaplaceLogLikelihood: 6.5809\n",
      "Epoch 79/100\n",
      "25/25 [==============================] - 0s 4ms/step - loss: 3.4558 - LaplaceLogLikelihood: 6.8192\n",
      "Epoch 80/100\n",
      "25/25 [==============================] - 0s 4ms/step - loss: 3.4117 - LaplaceLogLikelihood: 6.7462\n",
      "Epoch 81/100\n",
      "25/25 [==============================] - 0s 4ms/step - loss: 3.3151 - LaplaceLogLikelihood: 6.5654\n",
      "Epoch 82/100\n",
      "25/25 [==============================] - 0s 5ms/step - loss: 3.2880 - LaplaceLogLikelihood: 6.5102\n",
      "Epoch 83/100\n",
      "25/25 [==============================] - 0s 5ms/step - loss: 3.2835 - LaplaceLogLikelihood: 6.4986\n",
      "Epoch 84/100\n",
      "25/25 [==============================] - 0s 5ms/step - loss: 3.3112 - LaplaceLogLikelihood: 6.5533\n",
      "Epoch 85/100\n",
      "25/25 [==============================] - 0s 5ms/step - loss: 3.3004 - LaplaceLogLikelihood: 6.5332\n",
      "Epoch 86/100\n",
      "25/25 [==============================] - 0s 5ms/step - loss: 3.3269 - LaplaceLogLikelihood: 6.5893\n",
      "Epoch 87/100\n",
      "25/25 [==============================] - 0s 5ms/step - loss: 3.3051 - LaplaceLogLikelihood: 6.5435\n",
      "Epoch 88/100\n",
      "25/25 [==============================] - 0s 5ms/step - loss: 3.3583 - LaplaceLogLikelihood: 6.6379\n",
      "Epoch 89/100\n",
      "25/25 [==============================] - 0s 5ms/step - loss: 3.2804 - LaplaceLogLikelihood: 6.4940\n",
      "Epoch 90/100\n",
      "25/25 [==============================] - 0s 4ms/step - loss: 3.2669 - LaplaceLogLikelihood: 6.4678\n",
      "Epoch 91/100\n",
      "25/25 [==============================] - 0s 4ms/step - loss: 3.2089 - LaplaceLogLikelihood: 6.3550\n",
      "Epoch 92/100\n",
      "25/25 [==============================] - 0s 4ms/step - loss: 3.3111 - LaplaceLogLikelihood: 6.5545\n",
      "Epoch 93/100\n",
      "25/25 [==============================] - 0s 5ms/step - loss: 3.2292 - LaplaceLogLikelihood: 6.3968\n",
      "Epoch 94/100\n",
      "25/25 [==============================] - 0s 5ms/step - loss: 3.2497 - LaplaceLogLikelihood: 6.4370\n",
      "Epoch 95/100\n",
      "25/25 [==============================] - 0s 5ms/step - loss: 3.2624 - LaplaceLogLikelihood: 6.4678\n",
      "Epoch 96/100\n",
      "25/25 [==============================] - 0s 5ms/step - loss: 3.2885 - LaplaceLogLikelihood: 6.5064\n",
      "Epoch 97/100\n",
      "25/25 [==============================] - 0s 5ms/step - loss: 3.2347 - LaplaceLogLikelihood: 6.4095\n",
      "Epoch 98/100\n",
      "25/25 [==============================] - 0s 4ms/step - loss: 3.2302 - LaplaceLogLikelihood: 6.4068\n",
      "Epoch 99/100\n",
      "25/25 [==============================] - 0s 4ms/step - loss: 3.3056 - LaplaceLogLikelihood: 6.5614\n",
      "Epoch 100/100\n",
      "25/25 [==============================] - 0s 5ms/step - loss: 3.2505 - LaplaceLogLikelihood: 6.4429\n"
     ]
    },
    {
     "data": {
      "text/plain": [
       "<tensorflow.python.keras.callbacks.History at 0x7effdc052bd0>"
      ]
     },
     "execution_count": 23,
     "metadata": {},
     "output_type": "execute_result"
    }
   ],
   "source": [
    "net_1D.fit([xs, feature], y, batch_size=50, epochs=100) #, validation_split=0.1"
   ]
  },
  {
   "cell_type": "code",
   "execution_count": null,
   "metadata": {
    "papermill": {
     "duration": 0.443557,
     "end_time": "2022-01-19T02:02:54.879193",
     "exception": false,
     "start_time": "2022-01-19T02:02:54.435636",
     "status": "completed"
    },
    "tags": []
   },
   "outputs": [],
   "source": []
  },
  {
   "cell_type": "code",
   "execution_count": 24,
   "metadata": {
    "execution": {
     "iopub.execute_input": "2022-01-19T02:02:55.821649Z",
     "iopub.status.busy": "2022-01-19T02:02:55.820442Z",
     "iopub.status.idle": "2022-01-19T02:02:56.315110Z",
     "shell.execute_reply": "2022-01-19T02:02:56.316016Z",
     "shell.execute_reply.started": "2022-01-19T01:55:01.631384Z"
    },
    "papermill": {
     "duration": 0.93908,
     "end_time": "2022-01-19T02:02:56.316181",
     "exception": false,
     "start_time": "2022-01-19T02:02:55.377101",
     "status": "completed"
    },
    "tags": []
   },
   "outputs": [
    {
     "name": "stdout",
     "output_type": "stream",
     "text": [
      "13/13 [==============================] - 0s 11ms/step\n"
     ]
    }
   ],
   "source": [
    "predict_2D=net_2D.predict([xs, feature], batch_size=100, verbose=1)"
   ]
  },
  {
   "cell_type": "code",
   "execution_count": 25,
   "metadata": {
    "execution": {
     "iopub.execute_input": "2022-01-19T02:02:57.227671Z",
     "iopub.status.busy": "2022-01-19T02:02:57.226422Z",
     "iopub.status.idle": "2022-01-19T02:02:57.580976Z",
     "shell.execute_reply": "2022-01-19T02:02:57.580510Z",
     "shell.execute_reply.started": "2022-01-19T01:55:15.895657Z"
    },
    "papermill": {
     "duration": 0.829505,
     "end_time": "2022-01-19T02:02:57.581088",
     "exception": false,
     "start_time": "2022-01-19T02:02:56.751583",
     "status": "completed"
    },
    "tags": []
   },
   "outputs": [
    {
     "name": "stdout",
     "output_type": "stream",
     "text": [
      "13/13 [==============================] - 0s 4ms/step\n"
     ]
    }
   ],
   "source": [
    "predict_1D=net_1D.predict([xs, feature], batch_size=100, verbose=1)"
   ]
  },
  {
   "cell_type": "code",
   "execution_count": null,
   "metadata": {
    "papermill": {
     "duration": 0.486825,
     "end_time": "2022-01-19T02:02:58.504182",
     "exception": false,
     "start_time": "2022-01-19T02:02:58.017357",
     "status": "completed"
    },
    "tags": []
   },
   "outputs": [],
   "source": []
  },
  {
   "cell_type": "code",
   "execution_count": null,
   "metadata": {
    "papermill": {
     "duration": 0.509973,
     "end_time": "2022-01-19T02:02:59.449351",
     "exception": false,
     "start_time": "2022-01-19T02:02:58.939378",
     "status": "completed"
    },
    "tags": []
   },
   "outputs": [],
   "source": []
  }
 ],
 "metadata": {
  "kernelspec": {
   "display_name": "Python 3",
   "language": "python",
   "name": "python3"
  },
  "language_info": {
   "codemirror_mode": {
    "name": "ipython",
    "version": 3
   },
   "file_extension": ".py",
   "mimetype": "text/x-python",
   "name": "python",
   "nbconvert_exporter": "python",
   "pygments_lexer": "ipython3",
   "version": "3.8.12"
  },
  "papermill": {
   "duration": 119.863933,
   "end_time": "2022-01-19T02:03:00.938588",
   "environment_variables": {},
   "exception": null,
   "input_path": "__notebook__.ipynb",
   "output_path": "__notebook__.ipynb",
   "parameters": {},
   "start_time": "2022-01-19T02:01:01.074655",
   "version": "2.1.0"
  }
 },
 "nbformat": 4,
 "nbformat_minor": 4
}
